{
 "cells": [
  {
   "cell_type": "code",
   "execution_count": 11,
   "outputs": [],
   "source": [
    "import cv2\n",
    "import numpy as np\n",
    "from keras.preprocessing.image import ImageDataGenerator\n",
    "import tensorflow as tf\n",
    "import pywt"
   ],
   "metadata": {
    "collapsed": false,
    "pycharm": {
     "name": "#%%\n"
    }
   }
  },
  {
   "cell_type": "code",
   "execution_count": 12,
   "metadata": {
    "collapsed": true,
    "pycharm": {
     "name": "#%%\n"
    }
   },
   "outputs": [
    {
     "name": "stdout",
     "output_type": "stream",
     "text": [
      "Found 2305 images belonging to 2 classes.\n",
      "Found 1699 images belonging to 2 classes.\n",
      "Epoch 1/7\n",
      "73/73 [==============================] - 135s 2s/step - loss: 2.1095 - accuracy: 0.7423 - val_loss: 0.9885 - val_accuracy: 0.6886\n",
      "Epoch 2/7\n",
      "73/73 [==============================] - 132s 2s/step - loss: 0.7300 - accuracy: 0.8182 - val_loss: 0.8929 - val_accuracy: 0.6886\n",
      "Epoch 3/7\n",
      "73/73 [==============================] - 135s 2s/step - loss: 0.6597 - accuracy: 0.8148 - val_loss: 0.8238 - val_accuracy: 0.6886\n",
      "Epoch 4/7\n",
      "73/73 [==============================] - 138s 2s/step - loss: 0.6183 - accuracy: 0.8187 - val_loss: 0.7803 - val_accuracy: 0.6886\n",
      "Epoch 5/7\n",
      "73/73 [==============================] - 136s 2s/step - loss: 0.5803 - accuracy: 0.8174 - val_loss: 0.7661 - val_accuracy: 0.6886\n",
      "Epoch 6/7\n",
      "73/73 [==============================] - 148s 2s/step - loss: 0.5588 - accuracy: 0.8191 - val_loss: 0.9003 - val_accuracy: 0.6886\n",
      "Epoch 7/7\n",
      "73/73 [==============================] - 150s 2s/step - loss: 0.5459 - accuracy: 0.8269 - val_loss: 0.9430 - val_accuracy: 0.6886\n"
     ]
    },
    {
     "name": "stderr",
     "output_type": "stream",
     "text": [
      "/Users/tianze/anaconda3/lib/python3.10/site-packages/keras/src/engine/training.py:3079: UserWarning: You are saving your model as an HDF5 file via `model.save()`. This file format is considered legacy. We recommend using instead the native Keras format, e.g. `model.save('my_model.keras')`.\n",
      "  saving_api.save_model(\n"
     ]
    },
    {
     "name": "stdout",
     "output_type": "stream",
     "text": [
      "54/54 [==============================] - 56s 1s/step - loss: 0.9430 - accuracy: 0.6886\n",
      "Test accuracy: 0.6886403560638428\n"
     ]
    }
   ],
   "source": [
    "def custom_preprocessing(img):\n",
    "    img = (img * 255).astype(np.uint8)\n",
    "\n",
    "    gray = cv2.cvtColor(img, cv2.COLOR_RGB2GRAY)\n",
    "\n",
    "    coeffs = pywt.dwt2(gray, 'db1')  # Using Daubechies wavelet\n",
    "    cA, (cH, cV, cD) = coeffs\n",
    "\n",
    "    combined_edges = np.sqrt(cH**2 + cV**2 + cD**2)\n",
    "\n",
    "    if combined_edges.min() != combined_edges.max():\n",
    "        combined_edges_rescaled = ((combined_edges - combined_edges.min()) * (255 / (combined_edges.max() - combined_edges.min()))).astype(np.uint8)\n",
    "    else:\n",
    "        combined_edges_rescaled = np.zeros_like(combined_edges, dtype=np.uint8)\n",
    "\n",
    "    wavelet_edges = cv2.resize(combined_edges_rescaled, (img.shape[1], img.shape[0]))\n",
    "\n",
    "    stacked_img = np.stack([wavelet_edges] * 3, axis=-1)\n",
    "\n",
    "    final_img = stacked_img.astype(np.float32) / 255.0\n",
    "\n",
    "    final_img = np.clip(final_img, 0, 1)\n",
    "\n",
    "    return final_img\n",
    "\n",
    "train_datagen = ImageDataGenerator(\n",
    "    preprocessing_function=custom_preprocessing,\n",
    "    rotation_range=40,\n",
    "    width_shift_range=0.2,\n",
    "    height_shift_range=0.2,\n",
    "    shear_range=0.2,\n",
    "    zoom_range=0.2,\n",
    "    horizontal_flip=True,\n",
    "    fill_mode='nearest'\n",
    ")\n",
    "\n",
    "test_datagen = ImageDataGenerator(\n",
    "    preprocessing_function=custom_preprocessing\n",
    ")\n",
    "\n",
    "train_dir = '/Users/tianze/cs4243_lab/miniproject/drive-download-20230925T130828Z-001/train/'\n",
    "test_dir = '/Users/tianze/cs4243_lab/miniproject/drive-download-20230925T130828Z-001/test/'\n",
    "\n",
    "\n",
    "train_generator = train_datagen.flow_from_directory(\n",
    "    train_dir,\n",
    "    target_size=(128, 128),\n",
    "    batch_size=32,\n",
    "    class_mode='binary'\n",
    ")\n",
    "\n",
    "test_generator = test_datagen.flow_from_directory(\n",
    "    test_dir,\n",
    "    target_size=(128, 128),\n",
    "    batch_size=32,\n",
    "    class_mode='binary'\n",
    ")\n",
    "from keras.regularizers import l2\n",
    "\n",
    "model = tf.keras.models.Sequential([\n",
    "    tf.keras.layers.Conv2D(32, (3, 3), activation='relu', input_shape=(128, 128, 3)), #, kernel_regularizer=l2(0.0005)),  # Reduced regularization strength\n",
    "    tf.keras.layers.BatchNormalization(),\n",
    "    tf.keras.layers.MaxPooling2D((2, 2)),\n",
    "    tf.keras.layers.Dropout(0.2),\n",
    "\n",
    "    tf.keras.layers.Conv2D(64, (3, 3), activation='relu'), # kernel_regularizer=l2(0.0005)),  # Reduced regularization strength\n",
    "    # tf.keras.layers.BatchNormalization(),\n",
    "    tf.keras.layers.MaxPooling2D((2, 2)),\n",
    "    tf.keras.layers.Dropout(0.3),\n",
    "\n",
    "    tf.keras.layers.Flatten(),\n",
    "    tf.keras.layers.Dense(256, activation='relu', kernel_regularizer=l2(0.0005)),  # Reduced neurons & regularization strength\n",
    "    # tf.keras.layers.BatchNormalization(),\n",
    "    tf.keras.layers.Dropout(0.5),\n",
    "    tf.keras.layers.Dense(1, activation='sigmoid')\n",
    "])\n",
    "from keras.callbacks import EarlyStopping\n",
    "\n",
    "model.compile(optimizer='adam',\n",
    "              loss='binary_crossentropy',\n",
    "              metrics=['accuracy'])\n",
    "\n",
    "early_stopping = EarlyStopping(monitor='val_loss', patience=10, verbose=1, restore_best_weights=True)\n",
    "\n",
    "history = model.fit(\n",
    "    train_generator,\n",
    "    steps_per_epoch=len(train_generator),\n",
    "    epochs=7,\n",
    "    validation_data= test_generator,\n",
    "    validation_steps=len(test_generator),\n",
    "    callbacks=[early_stopping]\n",
    ")\n",
    "\n",
    "model.save('weapon_detection_model.h5')\n",
    "\n",
    "test_loss, test_acc = model.evaluate(test_generator)\n",
    "print(f'Test accuracy: {test_acc}')"
   ]
  }
 ],
 "metadata": {
  "kernelspec": {
   "display_name": "Python 3",
   "language": "python",
   "name": "python3"
  },
  "language_info": {
   "codemirror_mode": {
    "name": "ipython",
    "version": 2
   },
   "file_extension": ".py",
   "mimetype": "text/x-python",
   "name": "python",
   "nbconvert_exporter": "python",
   "pygments_lexer": "ipython2",
   "version": "2.7.6"
  }
 },
 "nbformat": 4,
 "nbformat_minor": 0
}