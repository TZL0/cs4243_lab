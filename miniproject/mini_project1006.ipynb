{
 "cells": [
  {
   "cell_type": "code",
   "execution_count": 1,
   "outputs": [],
   "source": [
    "import os\n",
    "import cv2\n",
    "import numpy as np\n",
    "import tensorflow as tf\n",
    "from tensorflow import keras\n",
    "from keras import layers"
   ],
   "metadata": {
    "collapsed": false,
    "pycharm": {
     "name": "#%%\n"
    }
   }
  },
  {
   "cell_type": "code",
   "execution_count": 12,
   "metadata": {
    "collapsed": true,
    "pycharm": {
     "name": "#%%\n"
    }
   },
   "outputs": [
    {
     "name": "stdout",
     "output_type": "stream",
     "text": [
      "Epoch 1/10\n"
     ]
    },
    {
     "ename": "ValueError",
     "evalue": "in user code:\n\n    File \"/Users/tianze/anaconda3/lib/python3.10/site-packages/keras/src/engine/training.py\", line 1377, in train_function  *\n        return step_function(self, iterator)\n    File \"/Users/tianze/anaconda3/lib/python3.10/site-packages/keras/src/engine/training.py\", line 1360, in step_function  **\n        outputs = model.distribute_strategy.run(run_step, args=(data,))\n    File \"/Users/tianze/anaconda3/lib/python3.10/site-packages/keras/src/engine/training.py\", line 1349, in run_step  **\n        outputs = model.train_step(data)\n    File \"/Users/tianze/anaconda3/lib/python3.10/site-packages/keras/src/engine/training.py\", line 1126, in train_step\n        y_pred = self(x, training=True)\n    File \"/Users/tianze/anaconda3/lib/python3.10/site-packages/keras/src/utils/traceback_utils.py\", line 70, in error_handler\n        raise e.with_traceback(filtered_tb) from None\n    File \"/Users/tianze/anaconda3/lib/python3.10/site-packages/keras/src/engine/input_spec.py\", line 253, in assert_input_compatibility\n        raise ValueError(\n\n    ValueError: Exception encountered when calling layer 'sequential_3' (type Sequential).\n    \n    Input 0 of layer \"conv2d_9\" is incompatible with the layer: expected min_ndim=4, found ndim=3. Full shape received: (None, 224, 224)\n    \n    Call arguments received by layer 'sequential_3' (type Sequential):\n      • inputs=tf.Tensor(shape=(None, 224, 224), dtype=float32)\n      • training=True\n      • mask=None\n",
     "output_type": "error",
     "traceback": [
      "\u001B[0;31m---------------------------------------------------------------------------\u001B[0m",
      "\u001B[0;31mValueError\u001B[0m                                Traceback (most recent call last)",
      "Cell \u001B[0;32mIn[12], line 60\u001B[0m\n\u001B[1;32m     57\u001B[0m y_train \u001B[38;5;241m=\u001B[39m y_train[indices]\n\u001B[1;32m     59\u001B[0m \u001B[38;5;66;03m# Train the model\u001B[39;00m\n\u001B[0;32m---> 60\u001B[0m \u001B[43mmodel\u001B[49m\u001B[38;5;241;43m.\u001B[39;49m\u001B[43mfit\u001B[49m\u001B[43m(\u001B[49m\u001B[43mX_train\u001B[49m\u001B[43m,\u001B[49m\u001B[43m \u001B[49m\u001B[43my_train\u001B[49m\u001B[43m,\u001B[49m\u001B[43m \u001B[49m\u001B[43mepochs\u001B[49m\u001B[38;5;241;43m=\u001B[39;49m\u001B[38;5;241;43m10\u001B[39;49m\u001B[43m,\u001B[49m\u001B[43m \u001B[49m\u001B[43mbatch_size\u001B[49m\u001B[38;5;241;43m=\u001B[39;49m\u001B[38;5;241;43m32\u001B[39;49m\u001B[43m)\u001B[49m\n\u001B[1;32m     62\u001B[0m \u001B[38;5;66;03m# Save the trained model\u001B[39;00m\n\u001B[1;32m     64\u001B[0m model\u001B[38;5;241m.\u001B[39msave(\u001B[38;5;124m'\u001B[39m\u001B[38;5;124mweapon_detection_model_trained_001.h5\u001B[39m\u001B[38;5;124m'\u001B[39m)\n",
      "File \u001B[0;32m~/anaconda3/lib/python3.10/site-packages/keras/src/utils/traceback_utils.py:70\u001B[0m, in \u001B[0;36mfilter_traceback.<locals>.error_handler\u001B[0;34m(*args, **kwargs)\u001B[0m\n\u001B[1;32m     67\u001B[0m     filtered_tb \u001B[38;5;241m=\u001B[39m _process_traceback_frames(e\u001B[38;5;241m.\u001B[39m__traceback__)\n\u001B[1;32m     68\u001B[0m     \u001B[38;5;66;03m# To get the full stack trace, call:\u001B[39;00m\n\u001B[1;32m     69\u001B[0m     \u001B[38;5;66;03m# `tf.debugging.disable_traceback_filtering()`\u001B[39;00m\n\u001B[0;32m---> 70\u001B[0m     \u001B[38;5;28;01mraise\u001B[39;00m e\u001B[38;5;241m.\u001B[39mwith_traceback(filtered_tb) \u001B[38;5;28;01mfrom\u001B[39;00m \u001B[38;5;28mNone\u001B[39m\n\u001B[1;32m     71\u001B[0m \u001B[38;5;28;01mfinally\u001B[39;00m:\n\u001B[1;32m     72\u001B[0m     \u001B[38;5;28;01mdel\u001B[39;00m filtered_tb\n",
      "File \u001B[0;32m/var/folders/jz/50nnnp812c90rg_0r1fc2l500000gn/T/__autograph_generated_filez9jaes2t.py:15\u001B[0m, in \u001B[0;36mouter_factory.<locals>.inner_factory.<locals>.tf__train_function\u001B[0;34m(iterator)\u001B[0m\n\u001B[1;32m     13\u001B[0m \u001B[38;5;28;01mtry\u001B[39;00m:\n\u001B[1;32m     14\u001B[0m     do_return \u001B[38;5;241m=\u001B[39m \u001B[38;5;28;01mTrue\u001B[39;00m\n\u001B[0;32m---> 15\u001B[0m     retval_ \u001B[38;5;241m=\u001B[39m ag__\u001B[38;5;241m.\u001B[39mconverted_call(ag__\u001B[38;5;241m.\u001B[39mld(step_function), (ag__\u001B[38;5;241m.\u001B[39mld(\u001B[38;5;28mself\u001B[39m), ag__\u001B[38;5;241m.\u001B[39mld(iterator)), \u001B[38;5;28;01mNone\u001B[39;00m, fscope)\n\u001B[1;32m     16\u001B[0m \u001B[38;5;28;01mexcept\u001B[39;00m:\n\u001B[1;32m     17\u001B[0m     do_return \u001B[38;5;241m=\u001B[39m \u001B[38;5;28;01mFalse\u001B[39;00m\n",
      "\u001B[0;31mValueError\u001B[0m: in user code:\n\n    File \"/Users/tianze/anaconda3/lib/python3.10/site-packages/keras/src/engine/training.py\", line 1377, in train_function  *\n        return step_function(self, iterator)\n    File \"/Users/tianze/anaconda3/lib/python3.10/site-packages/keras/src/engine/training.py\", line 1360, in step_function  **\n        outputs = model.distribute_strategy.run(run_step, args=(data,))\n    File \"/Users/tianze/anaconda3/lib/python3.10/site-packages/keras/src/engine/training.py\", line 1349, in run_step  **\n        outputs = model.train_step(data)\n    File \"/Users/tianze/anaconda3/lib/python3.10/site-packages/keras/src/engine/training.py\", line 1126, in train_step\n        y_pred = self(x, training=True)\n    File \"/Users/tianze/anaconda3/lib/python3.10/site-packages/keras/src/utils/traceback_utils.py\", line 70, in error_handler\n        raise e.with_traceback(filtered_tb) from None\n    File \"/Users/tianze/anaconda3/lib/python3.10/site-packages/keras/src/engine/input_spec.py\", line 253, in assert_input_compatibility\n        raise ValueError(\n\n    ValueError: Exception encountered when calling layer 'sequential_3' (type Sequential).\n    \n    Input 0 of layer \"conv2d_9\" is incompatible with the layer: expected min_ndim=4, found ndim=3. Full shape received: (None, 224, 224)\n    \n    Call arguments received by layer 'sequential_3' (type Sequential):\n      • inputs=tf.Tensor(shape=(None, 224, 224), dtype=float32)\n      • training=True\n      • mask=None\n"
     ]
    }
   ],
   "source": [
    "\n",
    "\n",
    "# Define the CNN model\n",
    "model = keras.Sequential([\n",
    "    layers.Conv2D(32, (3, 3), activation='relu', input_shape=(224, 224, 3)),\n",
    "    layers.MaxPooling2D((2, 2)),\n",
    "    layers.Conv2D(64, (3, 3), activation='relu'),\n",
    "    layers.MaxPooling2D((2, 2)),\n",
    "    layers.Conv2D(128, (3, 3), activation='relu'),\n",
    "    layers.MaxPooling2D((2, 2)),\n",
    "    layers.Flatten(),\n",
    "    layers.Dense(128, activation='relu'),\n",
    "    layers.Dense(1, activation='sigmoid')  # Output layer with sigmoid activation for binary classification\n",
    "])\n",
    "\n",
    "# Compile the model\n",
    "model.compile(optimizer='adam',\n",
    "              loss='binary_crossentropy',  # Binary cross-entropy loss for binary classification\n",
    "              metrics=['accuracy'])\n",
    "\n",
    "# Load and preprocess your dataset\n",
    "# You need to replace 'X_train' and 'y_train' with your actual training data and labels.\n",
    "# Make sure to resize and preprocess your images accordingly.\n",
    "# You may also need data augmentation for better generalization.\n",
    "\n",
    "normal_directory = '/Users/tianze/cs4243_lab/miniproject/drive-download-20230925T130828Z-001/train/norm'\n",
    "weapon_directory = '/Users/tianze/cs4243_lab/miniproject/drive-download-20230925T130828Z-001/train/weap'\n",
    "\n",
    "# Example data loading and preprocessing:\n",
    "# X_train, y_train = load_and_preprocess_data('your_dataset_directory')\n",
    "\n",
    "X_train = []\n",
    "y_train = []\n",
    "\n",
    "# load images from normal directory\n",
    "for filename in os.listdir(normal_directory):\n",
    "    img = cv2.imread(os.path.join(normal_directory, filename))\n",
    "    if img is not None:\n",
    "        img = cv2.resize(img, (224, 224))\n",
    "        X_train.append(img)\n",
    "        y_train.append(0)\n",
    "\n",
    "# load images from weapon directory\n",
    "for filename in os.listdir(weapon_directory):\n",
    "    img = cv2.imread(os.path.join(weapon_directory, filename))\n",
    "    if img is not None:\n",
    "        img = cv2.resize(img, (224, 224))\n",
    "        X_train.append(img)\n",
    "        y_train.append(1)\n",
    "\n",
    "# Convert lists to numpy arrays\n",
    "X_train = np.array(X_train, dtype=np.float32) / 255.0  # Normalize pixel values\n",
    "y_train = np.array(y_train)\n",
    "\n",
    "# Shuffle the data\n",
    "indices = np.arange(X_train.shape[0])\n",
    "np.random.shuffle(indices)\n",
    "X_train = X_train[indices]\n",
    "y_train = y_train[indices]\n",
    "\n",
    "# Train the model\n",
    "model.fit(X_train, y_train, epochs=10, batch_size=32)\n",
    "\n",
    "# Save the trained model\n",
    "\n",
    "model.save('weapon_detection_model_trained_001.h5')\n",
    "model.save('weapon_detection_model_trained_001.keras')\n",
    "\n",
    "# You can now use this trained model to predict if an image contains a weapon or not.\n"
   ]
  },
  {
   "cell_type": "code",
   "execution_count": 19,
   "outputs": [
    {
     "name": "stdout",
     "output_type": "stream",
     "text": [
      "Epoch 1/10\n",
      "27/27 [==============================] - 13s 469ms/step - loss: 0.5816 - accuracy: 0.7273\n",
      "Epoch 2/10\n",
      "27/27 [==============================] - 15s 542ms/step - loss: 0.1936 - accuracy: 0.9138\n",
      "Epoch 3/10\n",
      "27/27 [==============================] - 14s 508ms/step - loss: 0.0804 - accuracy: 0.9732\n",
      "Epoch 4/10\n",
      "27/27 [==============================] - 13s 479ms/step - loss: 0.0205 - accuracy: 0.9953\n",
      "Epoch 5/10\n",
      "27/27 [==============================] - 13s 484ms/step - loss: 0.0043 - accuracy: 1.0000\n",
      "Epoch 6/10\n",
      "27/27 [==============================] - 13s 482ms/step - loss: 0.0014 - accuracy: 1.0000\n",
      "Epoch 7/10\n",
      "27/27 [==============================] - 13s 480ms/step - loss: 7.0504e-04 - accuracy: 1.0000\n",
      "Epoch 8/10\n",
      "27/27 [==============================] - 13s 477ms/step - loss: 2.7246e-04 - accuracy: 1.0000\n",
      "Epoch 9/10\n",
      "27/27 [==============================] - 17s 621ms/step - loss: 1.6919e-04 - accuracy: 1.0000\n",
      "Epoch 10/10\n",
      "27/27 [==============================] - 14s 507ms/step - loss: 1.3162e-04 - accuracy: 1.0000\n"
     ]
    },
    {
     "name": "stderr",
     "output_type": "stream",
     "text": [
      "/Users/tianze/anaconda3/lib/python3.10/site-packages/keras/src/engine/training.py:3079: UserWarning: You are saving your model as an HDF5 file via `model.save()`. This file format is considered legacy. We recommend using instead the native Keras format, e.g. `model.save('my_model.keras')`.\n",
      "  saving_api.save_model(\n"
     ]
    }
   ],
   "source": [
    "\n",
    "\n",
    "# Define the CNN model\n",
    "model = keras.Sequential([\n",
    "    layers.Conv2D(32, (3, 3), activation='relu', input_shape=(224, 224, 1)),\n",
    "    layers.MaxPooling2D((2, 2)),\n",
    "    layers.Conv2D(64, (3, 3), activation='relu'),\n",
    "    layers.MaxPooling2D((2, 2)),\n",
    "    layers.Conv2D(128, (3, 3), activation='relu'),\n",
    "    layers.MaxPooling2D((2, 2)),\n",
    "    layers.Flatten(),\n",
    "    layers.Dense(128, activation='relu'),\n",
    "    layers.Dense(1, activation='sigmoid')  # Output layer with sigmoid activation for binary classification\n",
    "])\n",
    "\n",
    "# Compile the model\n",
    "model.compile(optimizer='adam',\n",
    "              loss='binary_crossentropy',  # Binary cross-entropy loss for binary classification\n",
    "              metrics=['accuracy'])\n",
    "\n",
    "# Load and preprocess your dataset\n",
    "# You need to replace 'X_train' and 'y_train' with your actual training data and labels.\n",
    "# Make sure to resize and preprocess your images accordingly.\n",
    "# You may also need data augmentation for better generalization.\n",
    "\n",
    "normal_directory = '/Users/tianze/cs4243_lab/miniproject/drive-download-20230925T130828Z-001/train/norm'\n",
    "weapon_directory = '/Users/tianze/cs4243_lab/miniproject/drive-download-20230925T130828Z-001/train/weap'\n",
    "\n",
    "# Example data loading and preprocessing:\n",
    "# X_train, y_train = load_and_preprocess_data('your_dataset_directory')\n",
    "\n",
    "X_train = []\n",
    "y_train = []\n",
    "\n",
    "# load images from normal directory\n",
    "for filename in os.listdir(normal_directory):\n",
    "    img = cv2.imread(os.path.join(normal_directory, filename), 0)\n",
    "    if img is not None:\n",
    "        img = cv2.resize(img, (224, 224))\n",
    "        img = cv2.equalizeHist(img)\n",
    "        X_train.append(img)\n",
    "        y_train.append(0)\n",
    "\n",
    "# load images from weapon directory\n",
    "for filename in os.listdir(weapon_directory):\n",
    "    img = cv2.imread(os.path.join(weapon_directory, filename), 0)\n",
    "    if img is not None:\n",
    "        img = cv2.resize(img, (224, 224))\n",
    "        X_train.append(img)\n",
    "        y_train.append(1)\n",
    "\n",
    "# Convert lists to numpy arrays\n",
    "X_train = np.array(X_train, dtype=np.float32) / 255.0  # Normalize pixel values\n",
    "X_train = np.expand_dims(X_train, axis=-1)  # Add an extra channel dimension\n",
    "y_train = np.array(y_train)\n",
    "\n",
    "# Shuffle the data\n",
    "indices = np.arange(X_train.shape[0])\n",
    "np.random.shuffle(indices)\n",
    "X_train = X_train[indices]\n",
    "y_train = y_train[indices]\n",
    "\n",
    "# Train the model\n",
    "model.fit(X_train, y_train, epochs=10, batch_size=32)\n",
    "\n",
    "# Save the trained model\n",
    "\n",
    "model.save('weapon_detection_model_trained_001_histequalization.h5')\n",
    "\n",
    "# You can now use this trained model to predict if an image contains a weapon or not.\n"
   ],
   "metadata": {
    "collapsed": false,
    "pycharm": {
     "name": "#%%\n"
    }
   }
  },
  {
   "cell_type": "code",
   "execution_count": 10,
   "outputs": [],
   "source": [
    "# Load the trained model\n",
    "model = keras.models.load_model('weapon_detection_model.h5')\n",
    "\n",
    "model.save('weapon_detection_model.keras')"
   ],
   "metadata": {
    "collapsed": false,
    "pycharm": {
     "name": "#%%\n"
    }
   }
  },
  {
   "cell_type": "code",
   "execution_count": 21,
   "outputs": [
    {
     "name": "stdout",
     "output_type": "stream",
     "text": [
      "30/30 [==============================] - 4s 131ms/step\n",
      "Total:  959\n",
      "Accuracy:  0.570385818561001\n"
     ]
    }
   ],
   "source": [
    "\n",
    "# model = keras.models.load_model('weapon_detection_model_trained_001.h5')\n",
    "\n",
    "model = keras.models.load_model('weapon_detection_model_trained_001_histequalization.h5')\n",
    "\n",
    "# Load and preprocess your dataset\n",
    "\n",
    "#prepare test data\n",
    "normal_directory = '/Users/tianze/cs4243_lab/miniproject/drive-download-20230925T130828Z-001/test/norm'\n",
    "weapon_directory = '/Users/tianze/cs4243_lab/miniproject/drive-download-20230925T130828Z-001/test/weap'\n",
    "\n",
    "# Example data loading and preprocessing:\n",
    "\n",
    "X_test = []\n",
    "y_test = []\n",
    "\n",
    "# load images from normal directory\n",
    "for filename in os.listdir(normal_directory):\n",
    "    img = cv2.imread(os.path.join(normal_directory, filename), 0)\n",
    "    if img is not None:\n",
    "        img = cv2.resize(img, (224, 224))\n",
    "        X_test.append(img)\n",
    "        y_test.append(0)\n",
    "\n",
    "# load images from weapon directory\n",
    "for filename in os.listdir(weapon_directory):\n",
    "    img = cv2.imread(os.path.join(weapon_directory, filename), 0)\n",
    "    if img is not None:\n",
    "        img = cv2.resize(img, (224, 224))\n",
    "        X_test.append(img)\n",
    "        y_test.append(1)\n",
    "\n",
    "# Convert lists to numpy arrays\n",
    "X_test = np.array(X_test, dtype=np.float32) / 255.0  # Normalize pixel values\n",
    "y_test = np.array(y_test)\n",
    "\n",
    "# Shuffle the data\n",
    "indices = np.arange(X_test.shape[0])\n",
    "np.random.shuffle(indices)\n",
    "X_test = X_test[indices]\n",
    "y_test = y_test[indices]\n",
    "\n",
    "total = len(y_test)\n",
    "\n",
    "predicted = model.predict(X_test)\n",
    "correct = 0\n",
    "\n",
    "for i in range(len(predicted)):\n",
    "    if predicted[i] >= 0.5:\n",
    "        predicted[i] = 1\n",
    "    else:\n",
    "        predicted[i] = 0\n",
    "    if predicted[i] == y_test[i]:\n",
    "        correct += 1\n",
    "\n",
    "print(\"Total: \", total)\n",
    "print(\"Accuracy: \", correct / total)"
   ],
   "metadata": {
    "collapsed": false,
    "pycharm": {
     "name": "#%%\n"
    }
   }
  },
  {
   "cell_type": "code",
   "execution_count": 19,
   "outputs": [
    {
     "name": "stdout",
     "output_type": "stream",
     "text": [
      "Epoch 1/10\n",
      "46/46 [==============================] - 50s 1s/step - loss: 0.1104 - accuracy: 0.9903\n",
      "Epoch 2/10\n",
      "46/46 [==============================] - 49s 1s/step - loss: 1.1755e-14 - accuracy: 1.0000\n",
      "Epoch 3/10\n",
      "46/46 [==============================] - 25s 527ms/step - loss: 1.0795e-14 - accuracy: 1.0000\n",
      "Epoch 4/10\n",
      "46/46 [==============================] - 22s 481ms/step - loss: 1.0789e-14 - accuracy: 1.0000\n",
      "Epoch 5/10\n",
      "46/46 [==============================] - 23s 493ms/step - loss: 1.0789e-14 - accuracy: 1.0000\n",
      "Epoch 6/10\n",
      "46/46 [==============================] - 23s 502ms/step - loss: 1.0789e-14 - accuracy: 1.0000\n",
      "Epoch 7/10\n",
      "46/46 [==============================] - 23s 489ms/step - loss: 1.0789e-14 - accuracy: 1.0000\n",
      "Epoch 8/10\n",
      "46/46 [==============================] - 23s 489ms/step - loss: 1.0789e-14 - accuracy: 1.0000\n",
      "Epoch 9/10\n",
      "46/46 [==============================] - 24s 516ms/step - loss: 1.0789e-14 - accuracy: 1.0000\n",
      "Epoch 10/10\n",
      "46/46 [==============================] - 23s 501ms/step - loss: 1.0789e-14 - accuracy: 1.0000\n"
     ]
    },
    {
     "name": "stderr",
     "output_type": "stream",
     "text": [
      "/Users/tianze/anaconda3/lib/python3.10/site-packages/keras/src/engine/training.py:3079: UserWarning: You are saving your model as an HDF5 file via `model.save()`. This file format is considered legacy. We recommend using instead the native Keras format, e.g. `model.save('my_model.keras')`.\n",
      "  saving_api.save_model(\n"
     ]
    }
   ],
   "source": [
    "model = keras.models.load_model('weapon_detection_model.h5')\n",
    "\n",
    "normal_directory = '/Users/tianze/cs4243_lab/miniproject/drive-download-20230925T130828Z-002/train/norm'\n",
    "\n",
    "# Example data loading and preprocessing:\n",
    "# X_train, y_train = load_and_preprocess_data('your_dataset_directory')\n",
    "\n",
    "X_train = []\n",
    "y_train = []\n",
    "\n",
    "# load images from normal directory\n",
    "for filename in os.listdir(normal_directory):\n",
    "    img = cv2.imread(os.path.join(normal_directory, filename))\n",
    "    if img is not None:\n",
    "        img = cv2.resize(img, (224, 224))\n",
    "        X_train.append(img)\n",
    "        y_train.append(0)\n",
    "\n",
    "# Convert lists to numpy arrays\n",
    "X_train = np.array(X_train, dtype=np.float32) / 255.0  # Normalize pixel values\n",
    "y_train = np.array(y_train)\n",
    "\n",
    "# Shuffle the data\n",
    "indices = np.arange(X_train.shape[0])\n",
    "np.random.shuffle(indices)\n",
    "X_train = X_train[indices]\n",
    "y_train = y_train[indices]\n",
    "\n",
    "# Train the model\n",
    "model.fit(X_train, y_train, epochs=10, batch_size=32)\n",
    "\n",
    "# Save the trained model\n",
    "model.save('weapon_detection_model.h5')\n",
    "model.save('weapon_detection_model.keras')"
   ],
   "metadata": {
    "collapsed": false,
    "pycharm": {
     "name": "#%%\n"
    }
   }
  },
  {
   "cell_type": "code",
   "execution_count": null,
   "outputs": [],
   "source": [],
   "metadata": {
    "collapsed": false,
    "pycharm": {
     "name": "#%%\n"
    }
   }
  }
 ],
 "metadata": {
  "kernelspec": {
   "display_name": "Python 3",
   "language": "python",
   "name": "python3"
  },
  "language_info": {
   "codemirror_mode": {
    "name": "ipython",
    "version": 2
   },
   "file_extension": ".py",
   "mimetype": "text/x-python",
   "name": "python",
   "nbconvert_exporter": "python",
   "pygments_lexer": "ipython2",
   "version": "2.7.6"
  }
 },
 "nbformat": 4,
 "nbformat_minor": 0
}