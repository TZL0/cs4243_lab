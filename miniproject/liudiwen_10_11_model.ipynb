{
 "cells": [
  {
   "cell_type": "code",
   "execution_count": null,
   "metadata": {
    "pycharm": {
     "name": "#%%\n"
    }
   },
   "outputs": [],
   "source": [
    "\n"
   ]
  },
  {
   "cell_type": "code",
   "execution_count": 1,
   "metadata": {
    "pycharm": {
     "name": "#%%\n"
    }
   },
   "outputs": [],
   "source": [
    "import cv2\n",
    "import numpy as np\n",
    "from keras.preprocessing.image import ImageDataGenerator\n",
    "import tensorflow as tf\n",
    "\n",
    "def custom_preprocessing(img):\n",
    "    # Convert the image from float [0,1] to uint8 [0,255]\n",
    "    img = (img * 255).astype(np.uint8)\n",
    "\n",
    "    # Apply Gaussian blur\n",
    "    blurred = cv2.GaussianBlur(img, (5, 5), 0)\n",
    "    \n",
    "    # Highlight edges\n",
    "    highlighted = cv2.subtract(img, blurred)\n",
    "    highlighted_plus = cv2.add(img, highlighted)\n",
    "    \n",
    "    # Apply Laplacian high-pass filter\n",
    "    final_img = cv2.Laplacian(highlighted_plus, cv2.CV_8U)\n",
    "    # final_img = cv2.add(img, laplacian)\n",
    "\n",
    "    # Convert the image back to float [0,1]\n",
    "    final_img = final_img.astype(np.float32) / 255.0\n",
    "    \n",
    "    # Ensure values are between 0 and 1\n",
    "    final_img = np.clip(final_img, 0, 1)\n",
    "    \n",
    "    return final_img\n",
    "\n",
    "\n",
    "train_datagen = ImageDataGenerator(\n",
    "    preprocessing_function=custom_preprocessing,\n",
    "    rotation_range=40,\n",
    "    width_shift_range=0.2,\n",
    "    height_shift_range=0.2,\n",
    "    shear_range=0.2,\n",
    "    zoom_range=0.2,\n",
    "    horizontal_flip=True,\n",
    "    fill_mode='nearest'\n",
    ")\n",
    "\n",
    "test_datagen = ImageDataGenerator(\n",
    "    preprocessing_function=custom_preprocessing\n",
    ")\n",
    "\n",
    "\n"
   ]
  },
  {
   "cell_type": "code",
   "execution_count": 3,
   "metadata": {
    "pycharm": {
     "name": "#%%\n"
    }
   },
   "outputs": [
    {
     "name": "stdout",
     "output_type": "stream",
     "text": [
      "Number of images in ../train/: 3507\n",
      "Number of images in ../test/: 1796\n"
     ]
    }
   ],
   "source": [
    "import os\n",
    "\n",
    "def count_images_in_dir(directory):\n",
    "    image_extensions = ['.jpg', '.jpeg', '.png', '.bmp', '.gif', '.tiff']\n",
    "    count = 0\n",
    "\n",
    "    for subdir, _, files in os.walk(directory):\n",
    "        for file in files:\n",
    "            if os.path.splitext(file)[1].lower() in image_extensions:\n",
    "                count += 1\n",
    "\n",
    "    return count\n",
    "\n",
    "# Example usage:\n",
    "train_dir = '../train/'\n",
    "test_dir = '../test/'\n",
    "\n",
    "print(f\"Number of images in {train_dir}: {count_images_in_dir(train_dir)}\")\n",
    "print(f\"Number of images in {test_dir}: {count_images_in_dir(test_dir)}\")\n"
   ]
  },
  {
   "cell_type": "code",
   "execution_count": 4,
   "metadata": {
    "pycharm": {
     "name": "#%%\n"
    }
   },
   "outputs": [
    {
     "name": "stdout",
     "output_type": "stream",
     "text": [
      "Found 3507 images belonging to 2 classes.\n",
      "Found 1796 images belonging to 2 classes.\n"
     ]
    }
   ],
   "source": [
    "# Directory paths\n",
    "# train_dir = 'D:\\\\study\\\\CS4243\\\\project\\\\img\\\\train'\n",
    "train_dir = '../train/'\n",
    "test_dir = '../test/'\n",
    "\n",
    "# Data preprocessing\n",
    "# train_datagen = ImageDataGenerator(rescale=1./255,\n",
    "#                                    rotation_range=40,\n",
    "#                                    width_shift_range=0.2,\n",
    "#                                    height_shift_range=0.2,\n",
    "#                                    shear_range=0.2,\n",
    "#                                    zoom_range=0.2,\n",
    "#                                    horizontal_flip=True,\n",
    "#                                    fill_mode='nearest')\n",
    "\n",
    "# test_datagen = ImageDataGenerator(rescale=1./255)\n",
    "\n",
    "train_generator = train_datagen.flow_from_directory(\n",
    "    train_dir,\n",
    "    target_size=(128, 128),\n",
    "    batch_size=32,\n",
    "    class_mode='binary'\n",
    ")\n",
    "\n",
    "test_generator = test_datagen.flow_from_directory(\n",
    "    test_dir,\n",
    "    target_size=(128, 128),\n",
    "    batch_size=32,\n",
    "    class_mode='binary'\n",
    ")\n",
    "\n",
    "\n",
    "\n",
    "\n"
   ]
  },
  {
   "cell_type": "code",
   "execution_count": 4,
   "metadata": {
    "pycharm": {
     "name": "#%%\n"
    }
   },
   "outputs": [],
   "source": [
    "from keras.regularizers import l2\n",
    "\n",
    "\n",
    "model = tf.keras.models.Sequential([\n",
    "    tf.keras.layers.Conv2D(32, (3, 3), activation='relu', input_shape=(128, 128, 3), kernel_regularizer=l2(0.001)),\n",
    "    tf.keras.layers.BatchNormalization(),\n",
    "    tf.keras.layers.MaxPooling2D((2, 2)),\n",
    "    tf.keras.layers.Dropout(0.2),\n",
    "\n",
    "    tf.keras.layers.Conv2D(64, (3, 3), activation='relu', kernel_regularizer=l2(0.001)),\n",
    "    tf.keras.layers.BatchNormalization(),\n",
    "    tf.keras.layers.MaxPooling2D((2, 2)),\n",
    "    tf.keras.layers.Dropout(0.3),\n",
    "\n",
    "    tf.keras.layers.Conv2D(128, (3, 3), activation='relu', kernel_regularizer=l2(0.001)),\n",
    "    tf.keras.layers.BatchNormalization(),\n",
    "    tf.keras.layers.MaxPooling2D((2, 2)),\n",
    "    tf.keras.layers.Dropout(0.4),\n",
    "\n",
    "    tf.keras.layers.Conv2D(256, (3, 3), activation='relu', kernel_regularizer=l2(0.001)),\n",
    "    tf.keras.layers.BatchNormalization(),\n",
    "    tf.keras.layers.MaxPooling2D((2, 2)),\n",
    "    tf.keras.layers.Dropout(0.5),\n",
    "    \n",
    "    tf.keras.layers.Flatten(),\n",
    "    tf.keras.layers.Dense(512, activation='relu', kernel_regularizer=l2(0.001)),\n",
    "    tf.keras.layers.BatchNormalization(),\n",
    "    tf.keras.layers.Dropout(0.5),\n",
    "    tf.keras.layers.Dense(1, activation='sigmoid')\n",
    "])\n",
    "\n",
    "\n",
    "\n"
   ]
  },
  {
   "cell_type": "code",
   "execution_count": 5,
   "metadata": {
    "pycharm": {
     "name": "#%%\n"
    }
   },
   "outputs": [],
   "source": [
    "from keras.regularizers import l2\n",
    "#simpler model\n",
    "\n",
    "\n",
    "model = tf.keras.models.Sequential([\n",
    "    tf.keras.layers.Conv2D(32, (3, 3), activation='relu', input_shape=(128, 128, 3), kernel_regularizer=l2(0.001)),\n",
    "    tf.keras.layers.BatchNormalization(),\n",
    "    tf.keras.layers.MaxPooling2D((2, 2)),\n",
    "    tf.keras.layers.Dropout(0.2),\n",
    "\n",
    "    tf.keras.layers.Conv2D(64, (3, 3), activation='relu', kernel_regularizer=l2(0.001)),\n",
    "    tf.keras.layers.BatchNormalization(),\n",
    "    tf.keras.layers.MaxPooling2D((2, 2)),\n",
    "    tf.keras.layers.Dropout(0.3),\n",
    "\n",
    "    tf.keras.layers.Conv2D(128, (3, 3), activation='relu', kernel_regularizer=l2(0.001)),\n",
    "    tf.keras.layers.BatchNormalization(),\n",
    "    tf.keras.layers.MaxPooling2D((2, 2)),\n",
    "    tf.keras.layers.Dropout(0.4),\n",
    "\n",
    "    tf.keras.layers.Flatten(),\n",
    "    tf.keras.layers.Dense(256, activation='relu', kernel_regularizer=l2(0.001)), # reduced neurons\n",
    "    tf.keras.layers.BatchNormalization(),\n",
    "    tf.keras.layers.Dropout(0.5),\n",
    "    tf.keras.layers.Dense(1, activation='sigmoid')\n",
    "])\n"
   ]
  },
  {
   "cell_type": "code",
   "execution_count": 15,
   "metadata": {
    "pycharm": {
     "name": "#%%\n"
    }
   },
   "outputs": [],
   "source": [
    "from keras.regularizers import l2\n",
    "\n",
    "model = tf.keras.models.Sequential([\n",
    "    tf.keras.layers.Conv2D(32, (3, 3), activation='relu', input_shape=(128, 128, 3)), #, kernel_regularizer=l2(0.0005)),  # Reduced regularization strength\n",
    "    tf.keras.layers.BatchNormalization(),\n",
    "    tf.keras.layers.MaxPooling2D((2, 2)),\n",
    "    tf.keras.layers.Dropout(0.2),\n",
    "\n",
    "    tf.keras.layers.Conv2D(64, (3, 3), activation='relu'), # kernel_regularizer=l2(0.0005)),  # Reduced regularization strength\n",
    "    # tf.keras.layers.BatchNormalization(),\n",
    "    tf.keras.layers.MaxPooling2D((2, 2)),\n",
    "    tf.keras.layers.Dropout(0.3),\n",
    "\n",
    "    tf.keras.layers.Flatten(),\n",
    "    tf.keras.layers.Dense(256, activation='relu', kernel_regularizer=l2(0.0005)),  # Reduced neurons & regularization strength\n",
    "    # tf.keras.layers.BatchNormalization(),\n",
    "    tf.keras.layers.Dropout(0.5),\n",
    "    tf.keras.layers.Dense(1, activation='sigmoid')\n",
    "])\n"
   ]
  },
  {
   "cell_type": "code",
   "execution_count": 19,
   "metadata": {
    "pycharm": {
     "name": "#%%\n"
    }
   },
   "outputs": [],
   "source": [
    "model = tf.keras.models.Sequential([\n",
    "    tf.keras.layers.Conv2D(32, (3, 3), activation='relu', kernel_initializer='he_normal', input_shape=(128, 128, 3)),\n",
    "    # tf.keras.layers.BatchNormalization(),\n",
    "    tf.keras.layers.MaxPooling2D((2, 2)),\n",
    "    tf.keras.layers.Dropout(0.2),\n",
    "\n",
    "    tf.keras.layers.Conv2D(64, (3, 3), activation='relu', kernel_initializer='he_normal'),\n",
    "    tf.keras.layers.MaxPooling2D((2, 2)),\n",
    "    tf.keras.layers.Dropout(0.3),\n",
    "\n",
    "    tf.keras.layers.Flatten(),\n",
    "    tf.keras.layers.Dense(256, activation='relu', kernel_initializer='he_normal', kernel_regularizer=l2(0.0005)),\n",
    "    tf.keras.layers.Dropout(0.5),\n",
    "    tf.keras.layers.Dense(1, activation='sigmoid')\n",
    "])"
   ]
  },
  {
   "cell_type": "code",
   "execution_count": 20,
   "metadata": {
    "pycharm": {
     "name": "#%%\n"
    }
   },
   "outputs": [
    {
     "name": "stdout",
     "output_type": "stream",
     "text": [
      "Epoch 1/7\n",
      "110/110 [==============================] - 635s 6s/step - loss: 5.1165 - accuracy: 0.5632 - val_loss: 0.9242 - val_accuracy: 0.7133\n",
      "Epoch 2/7\n",
      "110/110 [==============================] - 632s 6s/step - loss: 0.9366 - accuracy: 0.5908 - val_loss: 0.8805 - val_accuracy: 0.6882\n",
      "Epoch 3/7\n",
      "110/110 [==============================] - 631s 6s/step - loss: 0.8985 - accuracy: 0.6074 - val_loss: 0.8662 - val_accuracy: 0.6938\n",
      "Epoch 4/7\n",
      "110/110 [==============================] - 26820s 246s/step - loss: 0.8668 - accuracy: 0.6088 - val_loss: 0.8496 - val_accuracy: 0.6565\n",
      "Epoch 5/7\n",
      " 20/110 [====>.........................] - ETA: 1:58 - loss: 0.8607 - accuracy: 0.6156"
     ]
    },
    {
     "ename": "KeyboardInterrupt",
     "evalue": "",
     "output_type": "error",
     "traceback": [
      "\u001B[1;31m---------------------------------------------------------------------------\u001B[0m",
      "\u001B[1;31mKeyboardInterrupt\u001B[0m                         Traceback (most recent call last)",
      "\u001B[1;32mc:\\Users\\Steven\\mini_project\\code\\model.ipynb Cell 9\u001B[0m line \u001B[0;36m1\n\u001B[0;32m      <a href='vscode-notebook-cell:/c%3A/Users/Steven/mini_project/code/model.ipynb#W5sZmlsZQ%3D%3D?line=7'>8</a>\u001B[0m early_stopping \u001B[39m=\u001B[39m EarlyStopping(monitor\u001B[39m=\u001B[39m\u001B[39m'\u001B[39m\u001B[39mval_loss\u001B[39m\u001B[39m'\u001B[39m, patience\u001B[39m=\u001B[39m\u001B[39m10\u001B[39m, verbose\u001B[39m=\u001B[39m\u001B[39m1\u001B[39m, restore_best_weights\u001B[39m=\u001B[39m\u001B[39mTrue\u001B[39;00m)\n\u001B[0;32m      <a href='vscode-notebook-cell:/c%3A/Users/Steven/mini_project/code/model.ipynb#W5sZmlsZQ%3D%3D?line=8'>9</a>\u001B[0m \u001B[39m# Training the model\u001B[39;00m\n\u001B[1;32m---> <a href='vscode-notebook-cell:/c%3A/Users/Steven/mini_project/code/model.ipynb#W5sZmlsZQ%3D%3D?line=10'>11</a>\u001B[0m history \u001B[39m=\u001B[39m model\u001B[39m.\u001B[39;49mfit(\n\u001B[0;32m     <a href='vscode-notebook-cell:/c%3A/Users/Steven/mini_project/code/model.ipynb#W5sZmlsZQ%3D%3D?line=11'>12</a>\u001B[0m     train_generator,\n\u001B[0;32m     <a href='vscode-notebook-cell:/c%3A/Users/Steven/mini_project/code/model.ipynb#W5sZmlsZQ%3D%3D?line=12'>13</a>\u001B[0m     steps_per_epoch\u001B[39m=\u001B[39;49m\u001B[39mlen\u001B[39;49m(train_generator),\n\u001B[0;32m     <a href='vscode-notebook-cell:/c%3A/Users/Steven/mini_project/code/model.ipynb#W5sZmlsZQ%3D%3D?line=13'>14</a>\u001B[0m     epochs\u001B[39m=\u001B[39;49m\u001B[39m7\u001B[39;49m,\n\u001B[0;32m     <a href='vscode-notebook-cell:/c%3A/Users/Steven/mini_project/code/model.ipynb#W5sZmlsZQ%3D%3D?line=14'>15</a>\u001B[0m     validation_data\u001B[39m=\u001B[39;49m test_generator,\n\u001B[0;32m     <a href='vscode-notebook-cell:/c%3A/Users/Steven/mini_project/code/model.ipynb#W5sZmlsZQ%3D%3D?line=15'>16</a>\u001B[0m     validation_steps\u001B[39m=\u001B[39;49m\u001B[39mlen\u001B[39;49m(test_generator),\n\u001B[0;32m     <a href='vscode-notebook-cell:/c%3A/Users/Steven/mini_project/code/model.ipynb#W5sZmlsZQ%3D%3D?line=16'>17</a>\u001B[0m     callbacks\u001B[39m=\u001B[39;49m[early_stopping]\n\u001B[0;32m     <a href='vscode-notebook-cell:/c%3A/Users/Steven/mini_project/code/model.ipynb#W5sZmlsZQ%3D%3D?line=17'>18</a>\u001B[0m )\n\u001B[0;32m     <a href='vscode-notebook-cell:/c%3A/Users/Steven/mini_project/code/model.ipynb#W5sZmlsZQ%3D%3D?line=19'>20</a>\u001B[0m \u001B[39m# Saving the model\u001B[39;00m\n\u001B[0;32m     <a href='vscode-notebook-cell:/c%3A/Users/Steven/mini_project/code/model.ipynb#W5sZmlsZQ%3D%3D?line=20'>21</a>\u001B[0m model\u001B[39m.\u001B[39msave(\u001B[39m'\u001B[39m\u001B[39mweapon_detection_model.h5\u001B[39m\u001B[39m'\u001B[39m)\n",
      "File \u001B[1;32mc:\\Users\\Steven\\AppData\\Local\\Programs\\Python\\Python311\\Lib\\site-packages\\keras\\src\\utils\\traceback_utils.py:65\u001B[0m, in \u001B[0;36mfilter_traceback.<locals>.error_handler\u001B[1;34m(*args, **kwargs)\u001B[0m\n\u001B[0;32m     63\u001B[0m filtered_tb \u001B[39m=\u001B[39m \u001B[39mNone\u001B[39;00m\n\u001B[0;32m     64\u001B[0m \u001B[39mtry\u001B[39;00m:\n\u001B[1;32m---> 65\u001B[0m     \u001B[39mreturn\u001B[39;00m fn(\u001B[39m*\u001B[39;49margs, \u001B[39m*\u001B[39;49m\u001B[39m*\u001B[39;49mkwargs)\n\u001B[0;32m     66\u001B[0m \u001B[39mexcept\u001B[39;00m \u001B[39mException\u001B[39;00m \u001B[39mas\u001B[39;00m e:\n\u001B[0;32m     67\u001B[0m     filtered_tb \u001B[39m=\u001B[39m _process_traceback_frames(e\u001B[39m.\u001B[39m__traceback__)\n",
      "File \u001B[1;32mc:\\Users\\Steven\\AppData\\Local\\Programs\\Python\\Python311\\Lib\\site-packages\\keras\\src\\engine\\training.py:1783\u001B[0m, in \u001B[0;36mModel.fit\u001B[1;34m(self, x, y, batch_size, epochs, verbose, callbacks, validation_split, validation_data, shuffle, class_weight, sample_weight, initial_epoch, steps_per_epoch, validation_steps, validation_batch_size, validation_freq, max_queue_size, workers, use_multiprocessing)\u001B[0m\n\u001B[0;32m   1775\u001B[0m \u001B[39mwith\u001B[39;00m tf\u001B[39m.\u001B[39mprofiler\u001B[39m.\u001B[39mexperimental\u001B[39m.\u001B[39mTrace(\n\u001B[0;32m   1776\u001B[0m     \u001B[39m\"\u001B[39m\u001B[39mtrain\u001B[39m\u001B[39m\"\u001B[39m,\n\u001B[0;32m   1777\u001B[0m     epoch_num\u001B[39m=\u001B[39mepoch,\n\u001B[1;32m   (...)\u001B[0m\n\u001B[0;32m   1780\u001B[0m     _r\u001B[39m=\u001B[39m\u001B[39m1\u001B[39m,\n\u001B[0;32m   1781\u001B[0m ):\n\u001B[0;32m   1782\u001B[0m     callbacks\u001B[39m.\u001B[39mon_train_batch_begin(step)\n\u001B[1;32m-> 1783\u001B[0m     tmp_logs \u001B[39m=\u001B[39m \u001B[39mself\u001B[39;49m\u001B[39m.\u001B[39;49mtrain_function(iterator)\n\u001B[0;32m   1784\u001B[0m     \u001B[39mif\u001B[39;00m data_handler\u001B[39m.\u001B[39mshould_sync:\n\u001B[0;32m   1785\u001B[0m         context\u001B[39m.\u001B[39masync_wait()\n",
      "File \u001B[1;32mc:\\Users\\Steven\\AppData\\Local\\Programs\\Python\\Python311\\Lib\\site-packages\\tensorflow\\python\\util\\traceback_utils.py:150\u001B[0m, in \u001B[0;36mfilter_traceback.<locals>.error_handler\u001B[1;34m(*args, **kwargs)\u001B[0m\n\u001B[0;32m    148\u001B[0m filtered_tb \u001B[39m=\u001B[39m \u001B[39mNone\u001B[39;00m\n\u001B[0;32m    149\u001B[0m \u001B[39mtry\u001B[39;00m:\n\u001B[1;32m--> 150\u001B[0m   \u001B[39mreturn\u001B[39;00m fn(\u001B[39m*\u001B[39;49margs, \u001B[39m*\u001B[39;49m\u001B[39m*\u001B[39;49mkwargs)\n\u001B[0;32m    151\u001B[0m \u001B[39mexcept\u001B[39;00m \u001B[39mException\u001B[39;00m \u001B[39mas\u001B[39;00m e:\n\u001B[0;32m    152\u001B[0m   filtered_tb \u001B[39m=\u001B[39m _process_traceback_frames(e\u001B[39m.\u001B[39m__traceback__)\n",
      "File \u001B[1;32mc:\\Users\\Steven\\AppData\\Local\\Programs\\Python\\Python311\\Lib\\site-packages\\tensorflow\\python\\eager\\polymorphic_function\\polymorphic_function.py:831\u001B[0m, in \u001B[0;36mFunction.__call__\u001B[1;34m(self, *args, **kwds)\u001B[0m\n\u001B[0;32m    828\u001B[0m compiler \u001B[39m=\u001B[39m \u001B[39m\"\u001B[39m\u001B[39mxla\u001B[39m\u001B[39m\"\u001B[39m \u001B[39mif\u001B[39;00m \u001B[39mself\u001B[39m\u001B[39m.\u001B[39m_jit_compile \u001B[39melse\u001B[39;00m \u001B[39m\"\u001B[39m\u001B[39mnonXla\u001B[39m\u001B[39m\"\u001B[39m\n\u001B[0;32m    830\u001B[0m \u001B[39mwith\u001B[39;00m OptionalXlaContext(\u001B[39mself\u001B[39m\u001B[39m.\u001B[39m_jit_compile):\n\u001B[1;32m--> 831\u001B[0m   result \u001B[39m=\u001B[39m \u001B[39mself\u001B[39;49m\u001B[39m.\u001B[39;49m_call(\u001B[39m*\u001B[39;49margs, \u001B[39m*\u001B[39;49m\u001B[39m*\u001B[39;49mkwds)\n\u001B[0;32m    833\u001B[0m new_tracing_count \u001B[39m=\u001B[39m \u001B[39mself\u001B[39m\u001B[39m.\u001B[39mexperimental_get_tracing_count()\n\u001B[0;32m    834\u001B[0m without_tracing \u001B[39m=\u001B[39m (tracing_count \u001B[39m==\u001B[39m new_tracing_count)\n",
      "File \u001B[1;32mc:\\Users\\Steven\\AppData\\Local\\Programs\\Python\\Python311\\Lib\\site-packages\\tensorflow\\python\\eager\\polymorphic_function\\polymorphic_function.py:867\u001B[0m, in \u001B[0;36mFunction._call\u001B[1;34m(self, *args, **kwds)\u001B[0m\n\u001B[0;32m    864\u001B[0m   \u001B[39mself\u001B[39m\u001B[39m.\u001B[39m_lock\u001B[39m.\u001B[39mrelease()\n\u001B[0;32m    865\u001B[0m   \u001B[39m# In this case we have created variables on the first call, so we run the\u001B[39;00m\n\u001B[0;32m    866\u001B[0m   \u001B[39m# defunned version which is guaranteed to never create variables.\u001B[39;00m\n\u001B[1;32m--> 867\u001B[0m   \u001B[39mreturn\u001B[39;00m tracing_compilation\u001B[39m.\u001B[39;49mcall_function(\n\u001B[0;32m    868\u001B[0m       args, kwds, \u001B[39mself\u001B[39;49m\u001B[39m.\u001B[39;49m_no_variable_creation_config\n\u001B[0;32m    869\u001B[0m   )\n\u001B[0;32m    870\u001B[0m \u001B[39melif\u001B[39;00m \u001B[39mself\u001B[39m\u001B[39m.\u001B[39m_variable_creation_config \u001B[39mis\u001B[39;00m \u001B[39mnot\u001B[39;00m \u001B[39mNone\u001B[39;00m:\n\u001B[0;32m    871\u001B[0m   \u001B[39m# Release the lock early so that multiple threads can perform the call\u001B[39;00m\n\u001B[0;32m    872\u001B[0m   \u001B[39m# in parallel.\u001B[39;00m\n\u001B[0;32m    873\u001B[0m   \u001B[39mself\u001B[39m\u001B[39m.\u001B[39m_lock\u001B[39m.\u001B[39mrelease()\n",
      "File \u001B[1;32mc:\\Users\\Steven\\AppData\\Local\\Programs\\Python\\Python311\\Lib\\site-packages\\tensorflow\\python\\eager\\polymorphic_function\\tracing_compilation.py:139\u001B[0m, in \u001B[0;36mcall_function\u001B[1;34m(args, kwargs, tracing_options)\u001B[0m\n\u001B[0;32m    137\u001B[0m bound_args \u001B[39m=\u001B[39m function\u001B[39m.\u001B[39mfunction_type\u001B[39m.\u001B[39mbind(\u001B[39m*\u001B[39margs, \u001B[39m*\u001B[39m\u001B[39m*\u001B[39mkwargs)\n\u001B[0;32m    138\u001B[0m flat_inputs \u001B[39m=\u001B[39m function\u001B[39m.\u001B[39mfunction_type\u001B[39m.\u001B[39munpack_inputs(bound_args)\n\u001B[1;32m--> 139\u001B[0m \u001B[39mreturn\u001B[39;00m function\u001B[39m.\u001B[39;49m_call_flat(  \u001B[39m# pylint: disable=protected-access\u001B[39;49;00m\n\u001B[0;32m    140\u001B[0m     flat_inputs, captured_inputs\u001B[39m=\u001B[39;49mfunction\u001B[39m.\u001B[39;49mcaptured_inputs\n\u001B[0;32m    141\u001B[0m )\n",
      "File \u001B[1;32mc:\\Users\\Steven\\AppData\\Local\\Programs\\Python\\Python311\\Lib\\site-packages\\tensorflow\\python\\eager\\polymorphic_function\\concrete_function.py:1264\u001B[0m, in \u001B[0;36mConcreteFunction._call_flat\u001B[1;34m(self, tensor_inputs, captured_inputs)\u001B[0m\n\u001B[0;32m   1260\u001B[0m possible_gradient_type \u001B[39m=\u001B[39m gradients_util\u001B[39m.\u001B[39mPossibleTapeGradientTypes(args)\n\u001B[0;32m   1261\u001B[0m \u001B[39mif\u001B[39;00m (possible_gradient_type \u001B[39m==\u001B[39m gradients_util\u001B[39m.\u001B[39mPOSSIBLE_GRADIENT_TYPES_NONE\n\u001B[0;32m   1262\u001B[0m     \u001B[39mand\u001B[39;00m executing_eagerly):\n\u001B[0;32m   1263\u001B[0m   \u001B[39m# No tape is watching; skip to running the function.\u001B[39;00m\n\u001B[1;32m-> 1264\u001B[0m   \u001B[39mreturn\u001B[39;00m \u001B[39mself\u001B[39;49m\u001B[39m.\u001B[39;49m_inference_function\u001B[39m.\u001B[39;49mflat_call(args)\n\u001B[0;32m   1265\u001B[0m forward_backward \u001B[39m=\u001B[39m \u001B[39mself\u001B[39m\u001B[39m.\u001B[39m_select_forward_and_backward_functions(\n\u001B[0;32m   1266\u001B[0m     args,\n\u001B[0;32m   1267\u001B[0m     possible_gradient_type,\n\u001B[0;32m   1268\u001B[0m     executing_eagerly)\n\u001B[0;32m   1269\u001B[0m forward_function, args_with_tangents \u001B[39m=\u001B[39m forward_backward\u001B[39m.\u001B[39mforward()\n",
      "File \u001B[1;32mc:\\Users\\Steven\\AppData\\Local\\Programs\\Python\\Python311\\Lib\\site-packages\\tensorflow\\python\\eager\\polymorphic_function\\atomic_function.py:217\u001B[0m, in \u001B[0;36mAtomicFunction.flat_call\u001B[1;34m(self, args)\u001B[0m\n\u001B[0;32m    215\u001B[0m \u001B[39mdef\u001B[39;00m \u001B[39mflat_call\u001B[39m(\u001B[39mself\u001B[39m, args: Sequence[core\u001B[39m.\u001B[39mTensor]) \u001B[39m-\u001B[39m\u001B[39m>\u001B[39m Any:\n\u001B[0;32m    216\u001B[0m \u001B[39m  \u001B[39m\u001B[39m\"\"\"Calls with tensor inputs and returns the structured output.\"\"\"\u001B[39;00m\n\u001B[1;32m--> 217\u001B[0m   flat_outputs \u001B[39m=\u001B[39m \u001B[39mself\u001B[39;49m(\u001B[39m*\u001B[39;49margs)\n\u001B[0;32m    218\u001B[0m   \u001B[39mreturn\u001B[39;00m \u001B[39mself\u001B[39m\u001B[39m.\u001B[39mfunction_type\u001B[39m.\u001B[39mpack_output(flat_outputs)\n",
      "File \u001B[1;32mc:\\Users\\Steven\\AppData\\Local\\Programs\\Python\\Python311\\Lib\\site-packages\\tensorflow\\python\\eager\\polymorphic_function\\atomic_function.py:252\u001B[0m, in \u001B[0;36mAtomicFunction.__call__\u001B[1;34m(self, *args)\u001B[0m\n\u001B[0;32m    250\u001B[0m \u001B[39mwith\u001B[39;00m record\u001B[39m.\u001B[39mstop_recording():\n\u001B[0;32m    251\u001B[0m   \u001B[39mif\u001B[39;00m \u001B[39mself\u001B[39m\u001B[39m.\u001B[39m_bound_context\u001B[39m.\u001B[39mexecuting_eagerly():\n\u001B[1;32m--> 252\u001B[0m     outputs \u001B[39m=\u001B[39m \u001B[39mself\u001B[39;49m\u001B[39m.\u001B[39;49m_bound_context\u001B[39m.\u001B[39;49mcall_function(\n\u001B[0;32m    253\u001B[0m         \u001B[39mself\u001B[39;49m\u001B[39m.\u001B[39;49mname,\n\u001B[0;32m    254\u001B[0m         \u001B[39mlist\u001B[39;49m(args),\n\u001B[0;32m    255\u001B[0m         \u001B[39mlen\u001B[39;49m(\u001B[39mself\u001B[39;49m\u001B[39m.\u001B[39;49mfunction_type\u001B[39m.\u001B[39;49mflat_outputs),\n\u001B[0;32m    256\u001B[0m     )\n\u001B[0;32m    257\u001B[0m   \u001B[39melse\u001B[39;00m:\n\u001B[0;32m    258\u001B[0m     outputs \u001B[39m=\u001B[39m make_call_op_in_graph(\n\u001B[0;32m    259\u001B[0m         \u001B[39mself\u001B[39m,\n\u001B[0;32m    260\u001B[0m         \u001B[39mlist\u001B[39m(args),\n\u001B[0;32m    261\u001B[0m         \u001B[39mself\u001B[39m\u001B[39m.\u001B[39m_bound_context\u001B[39m.\u001B[39mfunction_call_options\u001B[39m.\u001B[39mas_attrs(),\n\u001B[0;32m    262\u001B[0m     )\n",
      "File \u001B[1;32mc:\\Users\\Steven\\AppData\\Local\\Programs\\Python\\Python311\\Lib\\site-packages\\tensorflow\\python\\eager\\context.py:1479\u001B[0m, in \u001B[0;36mContext.call_function\u001B[1;34m(self, name, tensor_inputs, num_outputs)\u001B[0m\n\u001B[0;32m   1477\u001B[0m cancellation_context \u001B[39m=\u001B[39m cancellation\u001B[39m.\u001B[39mcontext()\n\u001B[0;32m   1478\u001B[0m \u001B[39mif\u001B[39;00m cancellation_context \u001B[39mis\u001B[39;00m \u001B[39mNone\u001B[39;00m:\n\u001B[1;32m-> 1479\u001B[0m   outputs \u001B[39m=\u001B[39m execute\u001B[39m.\u001B[39;49mexecute(\n\u001B[0;32m   1480\u001B[0m       name\u001B[39m.\u001B[39;49mdecode(\u001B[39m\"\u001B[39;49m\u001B[39mutf-8\u001B[39;49m\u001B[39m\"\u001B[39;49m),\n\u001B[0;32m   1481\u001B[0m       num_outputs\u001B[39m=\u001B[39;49mnum_outputs,\n\u001B[0;32m   1482\u001B[0m       inputs\u001B[39m=\u001B[39;49mtensor_inputs,\n\u001B[0;32m   1483\u001B[0m       attrs\u001B[39m=\u001B[39;49mattrs,\n\u001B[0;32m   1484\u001B[0m       ctx\u001B[39m=\u001B[39;49m\u001B[39mself\u001B[39;49m,\n\u001B[0;32m   1485\u001B[0m   )\n\u001B[0;32m   1486\u001B[0m \u001B[39melse\u001B[39;00m:\n\u001B[0;32m   1487\u001B[0m   outputs \u001B[39m=\u001B[39m execute\u001B[39m.\u001B[39mexecute_with_cancellation(\n\u001B[0;32m   1488\u001B[0m       name\u001B[39m.\u001B[39mdecode(\u001B[39m\"\u001B[39m\u001B[39mutf-8\u001B[39m\u001B[39m\"\u001B[39m),\n\u001B[0;32m   1489\u001B[0m       num_outputs\u001B[39m=\u001B[39mnum_outputs,\n\u001B[1;32m   (...)\u001B[0m\n\u001B[0;32m   1493\u001B[0m       cancellation_manager\u001B[39m=\u001B[39mcancellation_context,\n\u001B[0;32m   1494\u001B[0m   )\n",
      "File \u001B[1;32mc:\\Users\\Steven\\AppData\\Local\\Programs\\Python\\Python311\\Lib\\site-packages\\tensorflow\\python\\eager\\execute.py:60\u001B[0m, in \u001B[0;36mquick_execute\u001B[1;34m(op_name, num_outputs, inputs, attrs, ctx, name)\u001B[0m\n\u001B[0;32m     53\u001B[0m   \u001B[39m# Convert any objects of type core_types.Tensor to Tensor.\u001B[39;00m\n\u001B[0;32m     54\u001B[0m   inputs \u001B[39m=\u001B[39m [\n\u001B[0;32m     55\u001B[0m       tensor_conversion_registry\u001B[39m.\u001B[39mconvert(t)\n\u001B[0;32m     56\u001B[0m       \u001B[39mif\u001B[39;00m \u001B[39misinstance\u001B[39m(t, core_types\u001B[39m.\u001B[39mTensor)\n\u001B[0;32m     57\u001B[0m       \u001B[39melse\u001B[39;00m t\n\u001B[0;32m     58\u001B[0m       \u001B[39mfor\u001B[39;00m t \u001B[39min\u001B[39;00m inputs\n\u001B[0;32m     59\u001B[0m   ]\n\u001B[1;32m---> 60\u001B[0m   tensors \u001B[39m=\u001B[39m pywrap_tfe\u001B[39m.\u001B[39;49mTFE_Py_Execute(ctx\u001B[39m.\u001B[39;49m_handle, device_name, op_name,\n\u001B[0;32m     61\u001B[0m                                       inputs, attrs, num_outputs)\n\u001B[0;32m     62\u001B[0m \u001B[39mexcept\u001B[39;00m core\u001B[39m.\u001B[39m_NotOkStatusException \u001B[39mas\u001B[39;00m e:\n\u001B[0;32m     63\u001B[0m   \u001B[39mif\u001B[39;00m name \u001B[39mis\u001B[39;00m \u001B[39mnot\u001B[39;00m \u001B[39mNone\u001B[39;00m:\n",
      "\u001B[1;31mKeyboardInterrupt\u001B[0m: "
     ]
    }
   ],
   "source": [
    "from keras.callbacks import EarlyStopping\n",
    "\n",
    "# Compiling the model remains the same\n",
    "model.compile(optimizer='adam',\n",
    "              loss='binary_crossentropy',\n",
    "              metrics=['accuracy'])\n",
    "\n",
    "early_stopping = EarlyStopping(monitor='val_loss', patience=10, verbose=1, restore_best_weights=True)\n",
    "# Training the model\n",
    "\n",
    "history = model.fit(\n",
    "    train_generator,\n",
    "    steps_per_epoch=len(train_generator),\n",
    "    epochs=7,\n",
    "    validation_data= test_generator,\n",
    "    validation_steps=len(test_generator),\n",
    "    callbacks=[early_stopping]\n",
    ")\n",
    "\n",
    "# Saving the model\n",
    "model.save('weapon_detection_model.h5')\n",
    "\n",
    "# Optionally, you could evaluate the model\n",
    "test_loss, test_acc = model.evaluate(test_generator)\n",
    "print(f'Test accuracy: {test_acc}')"
   ]
  },
  {
   "cell_type": "code",
   "execution_count": 1,
   "metadata": {
    "pycharm": {
     "name": "#%%\n"
    }
   },
   "outputs": [
    {
     "name": "stdout",
     "output_type": "stream",
     "text": [
      "Found 3507 images belonging to 2 classes.\n",
      "Found 1796 images belonging to 2 classes.\n",
      "Epoch 1/10\n",
      "220/220 [==============================] - 846s 4s/step - loss: 0.6296 - accuracy: 0.6715 - val_loss: 0.5688 - val_accuracy: 0.7261\n",
      "Epoch 2/10\n",
      "220/220 [==============================] - 638s 3s/step - loss: 0.5776 - accuracy: 0.7009 - val_loss: 0.6583 - val_accuracy: 0.6186\n",
      "Epoch 3/10\n",
      " 20/220 [=>............................] - ETA: 5:57 - loss: 0.5299 - accuracy: 0.7500"
     ]
    },
    {
     "ename": "ResourceExhaustedError",
     "evalue": "Graph execution error:\n\nDetected at node Adam/sub_18 defined at (most recent call last):\n  File \"<frozen runpy>\", line 198, in _run_module_as_main\n\n  File \"<frozen runpy>\", line 88, in _run_code\n\n  File \"C:\\Users\\Steven\\AppData\\Roaming\\Python\\Python311\\site-packages\\ipykernel_launcher.py\", line 17, in <module>\n\n  File \"C:\\Users\\Steven\\AppData\\Roaming\\Python\\Python311\\site-packages\\traitlets\\config\\application.py\", line 1043, in launch_instance\n\n  File \"C:\\Users\\Steven\\AppData\\Roaming\\Python\\Python311\\site-packages\\ipykernel\\kernelapp.py\", line 736, in start\n\n  File \"C:\\Users\\Steven\\AppData\\Roaming\\Python\\Python311\\site-packages\\tornado\\platform\\asyncio.py\", line 195, in start\n\n  File \"c:\\Users\\Steven\\AppData\\Local\\Programs\\Python\\Python311\\Lib\\asyncio\\base_events.py\", line 607, in run_forever\n\n  File \"c:\\Users\\Steven\\AppData\\Local\\Programs\\Python\\Python311\\Lib\\asyncio\\base_events.py\", line 1922, in _run_once\n\n  File \"c:\\Users\\Steven\\AppData\\Local\\Programs\\Python\\Python311\\Lib\\asyncio\\events.py\", line 80, in _run\n\n  File \"C:\\Users\\Steven\\AppData\\Roaming\\Python\\Python311\\site-packages\\ipykernel\\kernelbase.py\", line 516, in dispatch_queue\n\n  File \"C:\\Users\\Steven\\AppData\\Roaming\\Python\\Python311\\site-packages\\ipykernel\\kernelbase.py\", line 505, in process_one\n\n  File \"C:\\Users\\Steven\\AppData\\Roaming\\Python\\Python311\\site-packages\\ipykernel\\kernelbase.py\", line 412, in dispatch_shell\n\n  File \"C:\\Users\\Steven\\AppData\\Roaming\\Python\\Python311\\site-packages\\ipykernel\\kernelbase.py\", line 740, in execute_request\n\n  File \"C:\\Users\\Steven\\AppData\\Roaming\\Python\\Python311\\site-packages\\ipykernel\\ipkernel.py\", line 422, in do_execute\n\n  File \"C:\\Users\\Steven\\AppData\\Roaming\\Python\\Python311\\site-packages\\ipykernel\\zmqshell.py\", line 546, in run_cell\n\n  File \"C:\\Users\\Steven\\AppData\\Roaming\\Python\\Python311\\site-packages\\IPython\\core\\interactiveshell.py\", line 3009, in run_cell\n\n  File \"C:\\Users\\Steven\\AppData\\Roaming\\Python\\Python311\\site-packages\\IPython\\core\\interactiveshell.py\", line 3064, in _run_cell\n\n  File \"C:\\Users\\Steven\\AppData\\Roaming\\Python\\Python311\\site-packages\\IPython\\core\\async_helpers.py\", line 129, in _pseudo_sync_runner\n\n  File \"C:\\Users\\Steven\\AppData\\Roaming\\Python\\Python311\\site-packages\\IPython\\core\\interactiveshell.py\", line 3269, in run_cell_async\n\n  File \"C:\\Users\\Steven\\AppData\\Roaming\\Python\\Python311\\site-packages\\IPython\\core\\interactiveshell.py\", line 3448, in run_ast_nodes\n\n  File \"C:\\Users\\Steven\\AppData\\Roaming\\Python\\Python311\\site-packages\\IPython\\core\\interactiveshell.py\", line 3508, in run_code\n\n  File \"C:\\Users\\Steven\\AppData\\Local\\Temp\\ipykernel_1744\\1260198795.py\", line 42, in <module>\n\n  File \"c:\\Users\\Steven\\AppData\\Local\\Programs\\Python\\Python311\\Lib\\site-packages\\keras\\src\\utils\\traceback_utils.py\", line 65, in error_handler\n\n  File \"c:\\Users\\Steven\\AppData\\Local\\Programs\\Python\\Python311\\Lib\\site-packages\\keras\\src\\engine\\training.py\", line 1783, in fit\n\n  File \"c:\\Users\\Steven\\AppData\\Local\\Programs\\Python\\Python311\\Lib\\site-packages\\keras\\src\\engine\\training.py\", line 1377, in train_function\n\n  File \"c:\\Users\\Steven\\AppData\\Local\\Programs\\Python\\Python311\\Lib\\site-packages\\keras\\src\\engine\\training.py\", line 1360, in step_function\n\n  File \"c:\\Users\\Steven\\AppData\\Local\\Programs\\Python\\Python311\\Lib\\site-packages\\keras\\src\\engine\\training.py\", line 1349, in run_step\n\n  File \"c:\\Users\\Steven\\AppData\\Local\\Programs\\Python\\Python311\\Lib\\site-packages\\keras\\src\\engine\\training.py\", line 1130, in train_step\n\n  File \"c:\\Users\\Steven\\AppData\\Local\\Programs\\Python\\Python311\\Lib\\site-packages\\keras\\src\\optimizers\\optimizer.py\", line 544, in minimize\n\n  File \"c:\\Users\\Steven\\AppData\\Local\\Programs\\Python\\Python311\\Lib\\site-packages\\keras\\src\\optimizers\\optimizer.py\", line 1223, in apply_gradients\n\n  File \"c:\\Users\\Steven\\AppData\\Local\\Programs\\Python\\Python311\\Lib\\site-packages\\keras\\src\\optimizers\\optimizer.py\", line 652, in apply_gradients\n\n  File \"c:\\Users\\Steven\\AppData\\Local\\Programs\\Python\\Python311\\Lib\\site-packages\\keras\\src\\optimizers\\optimizer.py\", line 1253, in _internal_apply_gradients\n\n  File \"c:\\Users\\Steven\\AppData\\Local\\Programs\\Python\\Python311\\Lib\\site-packages\\keras\\src\\optimizers\\optimizer.py\", line 1345, in _distributed_apply_gradients_fn\n\n  File \"c:\\Users\\Steven\\AppData\\Local\\Programs\\Python\\Python311\\Lib\\site-packages\\keras\\src\\optimizers\\optimizer.py\", line 1342, in apply_grad_to_update_var\n\n  File \"c:\\Users\\Steven\\AppData\\Local\\Programs\\Python\\Python311\\Lib\\site-packages\\keras\\src\\optimizers\\optimizer.py\", line 241, in _update_step\n\n  File \"c:\\Users\\Steven\\AppData\\Local\\Programs\\Python\\Python311\\Lib\\site-packages\\keras\\src\\optimizers\\adam.py\", line 198, in update_step\n\nOOM when allocating tensor with shape[57600,512] and type float on /job:localhost/replica:0/task:0/device:CPU:0 by allocator cpu\n\t [[{{node Adam/sub_18}}]]\nHint: If you want to see a list of allocated tensors when OOM happens, add report_tensor_allocations_upon_oom to RunOptions for current allocation info. This isn't available when running in Eager mode.\n [Op:__inference_train_function_1335]",
     "output_type": "error",
     "traceback": [
      "\u001B[1;31m---------------------------------------------------------------------------\u001B[0m",
      "\u001B[1;31mResourceExhaustedError\u001B[0m                    Traceback (most recent call last)",
      "\u001B[1;32mc:\\Users\\Steven\\mini_project\\code\\model.ipynb Cell 10\u001B[0m line \u001B[0;36m4\n\u001B[0;32m     <a href='vscode-notebook-cell:/c%3A/Users/Steven/mini_project/code/model.ipynb#X12sZmlsZQ%3D%3D?line=38'>39</a>\u001B[0m model\u001B[39m.\u001B[39mcompile(optimizer\u001B[39m=\u001B[39m\u001B[39m'\u001B[39m\u001B[39madam\u001B[39m\u001B[39m'\u001B[39m, loss\u001B[39m=\u001B[39m\u001B[39m'\u001B[39m\u001B[39mbinary_crossentropy\u001B[39m\u001B[39m'\u001B[39m, metrics\u001B[39m=\u001B[39m[\u001B[39m'\u001B[39m\u001B[39maccuracy\u001B[39m\u001B[39m'\u001B[39m])\n\u001B[0;32m     <a href='vscode-notebook-cell:/c%3A/Users/Steven/mini_project/code/model.ipynb#X12sZmlsZQ%3D%3D?line=40'>41</a>\u001B[0m \u001B[39m# Training\u001B[39;00m\n\u001B[1;32m---> <a href='vscode-notebook-cell:/c%3A/Users/Steven/mini_project/code/model.ipynb#X12sZmlsZQ%3D%3D?line=41'>42</a>\u001B[0m history \u001B[39m=\u001B[39m model\u001B[39m.\u001B[39;49mfit(train_generator,\n\u001B[0;32m     <a href='vscode-notebook-cell:/c%3A/Users/Steven/mini_project/code/model.ipynb#X12sZmlsZQ%3D%3D?line=42'>43</a>\u001B[0m                     epochs\u001B[39m=\u001B[39;49m\u001B[39m10\u001B[39;49m,\n\u001B[0;32m     <a href='vscode-notebook-cell:/c%3A/Users/Steven/mini_project/code/model.ipynb#X12sZmlsZQ%3D%3D?line=43'>44</a>\u001B[0m                     validation_data\u001B[39m=\u001B[39;49mtest_generator)\n\u001B[0;32m     <a href='vscode-notebook-cell:/c%3A/Users/Steven/mini_project/code/model.ipynb#X12sZmlsZQ%3D%3D?line=45'>46</a>\u001B[0m \u001B[39m# Save the Model\u001B[39;00m\n\u001B[0;32m     <a href='vscode-notebook-cell:/c%3A/Users/Steven/mini_project/code/model.ipynb#X12sZmlsZQ%3D%3D?line=46'>47</a>\u001B[0m model\u001B[39m.\u001B[39msave(\u001B[39m'\u001B[39m\u001B[39mweapon_detection_model.h5\u001B[39m\u001B[39m'\u001B[39m)\n",
      "File \u001B[1;32mc:\\Users\\Steven\\AppData\\Local\\Programs\\Python\\Python311\\Lib\\site-packages\\keras\\src\\utils\\traceback_utils.py:70\u001B[0m, in \u001B[0;36mfilter_traceback.<locals>.error_handler\u001B[1;34m(*args, **kwargs)\u001B[0m\n\u001B[0;32m     67\u001B[0m     filtered_tb \u001B[39m=\u001B[39m _process_traceback_frames(e\u001B[39m.\u001B[39m__traceback__)\n\u001B[0;32m     68\u001B[0m     \u001B[39m# To get the full stack trace, call:\u001B[39;00m\n\u001B[0;32m     69\u001B[0m     \u001B[39m# `tf.debugging.disable_traceback_filtering()`\u001B[39;00m\n\u001B[1;32m---> 70\u001B[0m     \u001B[39mraise\u001B[39;00m e\u001B[39m.\u001B[39mwith_traceback(filtered_tb) \u001B[39mfrom\u001B[39;00m \u001B[39mNone\u001B[39;00m\n\u001B[0;32m     71\u001B[0m \u001B[39mfinally\u001B[39;00m:\n\u001B[0;32m     72\u001B[0m     \u001B[39mdel\u001B[39;00m filtered_tb\n",
      "File \u001B[1;32mc:\\Users\\Steven\\AppData\\Local\\Programs\\Python\\Python311\\Lib\\site-packages\\tensorflow\\python\\eager\\execute.py:60\u001B[0m, in \u001B[0;36mquick_execute\u001B[1;34m(op_name, num_outputs, inputs, attrs, ctx, name)\u001B[0m\n\u001B[0;32m     53\u001B[0m   \u001B[39m# Convert any objects of type core_types.Tensor to Tensor.\u001B[39;00m\n\u001B[0;32m     54\u001B[0m   inputs \u001B[39m=\u001B[39m [\n\u001B[0;32m     55\u001B[0m       tensor_conversion_registry\u001B[39m.\u001B[39mconvert(t)\n\u001B[0;32m     56\u001B[0m       \u001B[39mif\u001B[39;00m \u001B[39misinstance\u001B[39m(t, core_types\u001B[39m.\u001B[39mTensor)\n\u001B[0;32m     57\u001B[0m       \u001B[39melse\u001B[39;00m t\n\u001B[0;32m     58\u001B[0m       \u001B[39mfor\u001B[39;00m t \u001B[39min\u001B[39;00m inputs\n\u001B[0;32m     59\u001B[0m   ]\n\u001B[1;32m---> 60\u001B[0m   tensors \u001B[39m=\u001B[39m pywrap_tfe\u001B[39m.\u001B[39mTFE_Py_Execute(ctx\u001B[39m.\u001B[39m_handle, device_name, op_name,\n\u001B[0;32m     61\u001B[0m                                       inputs, attrs, num_outputs)\n\u001B[0;32m     62\u001B[0m \u001B[39mexcept\u001B[39;00m core\u001B[39m.\u001B[39m_NotOkStatusException \u001B[39mas\u001B[39;00m e:\n\u001B[0;32m     63\u001B[0m   \u001B[39mif\u001B[39;00m name \u001B[39mis\u001B[39;00m \u001B[39mnot\u001B[39;00m \u001B[39mNone\u001B[39;00m:\n",
      "\u001B[1;31mResourceExhaustedError\u001B[0m: Graph execution error:\n\nDetected at node Adam/sub_18 defined at (most recent call last):\n  File \"<frozen runpy>\", line 198, in _run_module_as_main\n\n  File \"<frozen runpy>\", line 88, in _run_code\n\n  File \"C:\\Users\\Steven\\AppData\\Roaming\\Python\\Python311\\site-packages\\ipykernel_launcher.py\", line 17, in <module>\n\n  File \"C:\\Users\\Steven\\AppData\\Roaming\\Python\\Python311\\site-packages\\traitlets\\config\\application.py\", line 1043, in launch_instance\n\n  File \"C:\\Users\\Steven\\AppData\\Roaming\\Python\\Python311\\site-packages\\ipykernel\\kernelapp.py\", line 736, in start\n\n  File \"C:\\Users\\Steven\\AppData\\Roaming\\Python\\Python311\\site-packages\\tornado\\platform\\asyncio.py\", line 195, in start\n\n  File \"c:\\Users\\Steven\\AppData\\Local\\Programs\\Python\\Python311\\Lib\\asyncio\\base_events.py\", line 607, in run_forever\n\n  File \"c:\\Users\\Steven\\AppData\\Local\\Programs\\Python\\Python311\\Lib\\asyncio\\base_events.py\", line 1922, in _run_once\n\n  File \"c:\\Users\\Steven\\AppData\\Local\\Programs\\Python\\Python311\\Lib\\asyncio\\events.py\", line 80, in _run\n\n  File \"C:\\Users\\Steven\\AppData\\Roaming\\Python\\Python311\\site-packages\\ipykernel\\kernelbase.py\", line 516, in dispatch_queue\n\n  File \"C:\\Users\\Steven\\AppData\\Roaming\\Python\\Python311\\site-packages\\ipykernel\\kernelbase.py\", line 505, in process_one\n\n  File \"C:\\Users\\Steven\\AppData\\Roaming\\Python\\Python311\\site-packages\\ipykernel\\kernelbase.py\", line 412, in dispatch_shell\n\n  File \"C:\\Users\\Steven\\AppData\\Roaming\\Python\\Python311\\site-packages\\ipykernel\\kernelbase.py\", line 740, in execute_request\n\n  File \"C:\\Users\\Steven\\AppData\\Roaming\\Python\\Python311\\site-packages\\ipykernel\\ipkernel.py\", line 422, in do_execute\n\n  File \"C:\\Users\\Steven\\AppData\\Roaming\\Python\\Python311\\site-packages\\ipykernel\\zmqshell.py\", line 546, in run_cell\n\n  File \"C:\\Users\\Steven\\AppData\\Roaming\\Python\\Python311\\site-packages\\IPython\\core\\interactiveshell.py\", line 3009, in run_cell\n\n  File \"C:\\Users\\Steven\\AppData\\Roaming\\Python\\Python311\\site-packages\\IPython\\core\\interactiveshell.py\", line 3064, in _run_cell\n\n  File \"C:\\Users\\Steven\\AppData\\Roaming\\Python\\Python311\\site-packages\\IPython\\core\\async_helpers.py\", line 129, in _pseudo_sync_runner\n\n  File \"C:\\Users\\Steven\\AppData\\Roaming\\Python\\Python311\\site-packages\\IPython\\core\\interactiveshell.py\", line 3269, in run_cell_async\n\n  File \"C:\\Users\\Steven\\AppData\\Roaming\\Python\\Python311\\site-packages\\IPython\\core\\interactiveshell.py\", line 3448, in run_ast_nodes\n\n  File \"C:\\Users\\Steven\\AppData\\Roaming\\Python\\Python311\\site-packages\\IPython\\core\\interactiveshell.py\", line 3508, in run_code\n\n  File \"C:\\Users\\Steven\\AppData\\Local\\Temp\\ipykernel_1744\\1260198795.py\", line 42, in <module>\n\n  File \"c:\\Users\\Steven\\AppData\\Local\\Programs\\Python\\Python311\\Lib\\site-packages\\keras\\src\\utils\\traceback_utils.py\", line 65, in error_handler\n\n  File \"c:\\Users\\Steven\\AppData\\Local\\Programs\\Python\\Python311\\Lib\\site-packages\\keras\\src\\engine\\training.py\", line 1783, in fit\n\n  File \"c:\\Users\\Steven\\AppData\\Local\\Programs\\Python\\Python311\\Lib\\site-packages\\keras\\src\\engine\\training.py\", line 1377, in train_function\n\n  File \"c:\\Users\\Steven\\AppData\\Local\\Programs\\Python\\Python311\\Lib\\site-packages\\keras\\src\\engine\\training.py\", line 1360, in step_function\n\n  File \"c:\\Users\\Steven\\AppData\\Local\\Programs\\Python\\Python311\\Lib\\site-packages\\keras\\src\\engine\\training.py\", line 1349, in run_step\n\n  File \"c:\\Users\\Steven\\AppData\\Local\\Programs\\Python\\Python311\\Lib\\site-packages\\keras\\src\\engine\\training.py\", line 1130, in train_step\n\n  File \"c:\\Users\\Steven\\AppData\\Local\\Programs\\Python\\Python311\\Lib\\site-packages\\keras\\src\\optimizers\\optimizer.py\", line 544, in minimize\n\n  File \"c:\\Users\\Steven\\AppData\\Local\\Programs\\Python\\Python311\\Lib\\site-packages\\keras\\src\\optimizers\\optimizer.py\", line 1223, in apply_gradients\n\n  File \"c:\\Users\\Steven\\AppData\\Local\\Programs\\Python\\Python311\\Lib\\site-packages\\keras\\src\\optimizers\\optimizer.py\", line 652, in apply_gradients\n\n  File \"c:\\Users\\Steven\\AppData\\Local\\Programs\\Python\\Python311\\Lib\\site-packages\\keras\\src\\optimizers\\optimizer.py\", line 1253, in _internal_apply_gradients\n\n  File \"c:\\Users\\Steven\\AppData\\Local\\Programs\\Python\\Python311\\Lib\\site-packages\\keras\\src\\optimizers\\optimizer.py\", line 1345, in _distributed_apply_gradients_fn\n\n  File \"c:\\Users\\Steven\\AppData\\Local\\Programs\\Python\\Python311\\Lib\\site-packages\\keras\\src\\optimizers\\optimizer.py\", line 1342, in apply_grad_to_update_var\n\n  File \"c:\\Users\\Steven\\AppData\\Local\\Programs\\Python\\Python311\\Lib\\site-packages\\keras\\src\\optimizers\\optimizer.py\", line 241, in _update_step\n\n  File \"c:\\Users\\Steven\\AppData\\Local\\Programs\\Python\\Python311\\Lib\\site-packages\\keras\\src\\optimizers\\adam.py\", line 198, in update_step\n\nOOM when allocating tensor with shape[57600,512] and type float on /job:localhost/replica:0/task:0/device:CPU:0 by allocator cpu\n\t [[{{node Adam/sub_18}}]]\nHint: If you want to see a list of allocated tensors when OOM happens, add report_tensor_allocations_upon_oom to RunOptions for current allocation info. This isn't available when running in Eager mode.\n [Op:__inference_train_function_1335]"
     ]
    }
   ],
   "source": [
    "import tensorflow as tf\n",
    "from keras.preprocessing.image import ImageDataGenerator\n",
    "\n",
    "train_dir = '../train/'\n",
    "test_dir = '../test/'\n",
    "\n",
    "# Data Preprocessing\n",
    "train_datagen = ImageDataGenerator(rescale=1./255,\n",
    "                                   rotation_range=40,\n",
    "                                   width_shift_range=0.2,\n",
    "                                   height_shift_range=0.2,\n",
    "                                   shear_range=0.2,\n",
    "                                   zoom_range=0.2,\n",
    "                                   horizontal_flip=True)\n",
    "\n",
    "test_datagen = ImageDataGenerator(rescale=1./255)\n",
    "\n",
    "train_generator = train_datagen.flow_from_directory(train_dir,\n",
    "                                                    target_size=(128, 128),\n",
    "                                                    batch_size=16,\n",
    "                                                    class_mode='binary')\n",
    "\n",
    "test_generator = test_datagen.flow_from_directory(test_dir,\n",
    "                                                  target_size=(128, 128),\n",
    "                                                  batch_size=16,\n",
    "                                                  class_mode='binary')\n",
    "\n",
    "# Model Architecture\n",
    "model = tf.keras.models.Sequential([\n",
    "    tf.keras.layers.Conv2D(32, (3,3), activation='relu', input_shape=(128, 128, 3)),\n",
    "    tf.keras.layers.MaxPooling2D(2, 2),\n",
    "    tf.keras.layers.Conv2D(64, (3,3), activation='relu'),\n",
    "    tf.keras.layers.MaxPooling2D(2, 2),\n",
    "    tf.keras.layers.Flatten(),\n",
    "    tf.keras.layers.Dense(512, activation='relu'),\n",
    "    tf.keras.layers.Dense(1, activation='sigmoid')\n",
    "])\n",
    "\n",
    "model.compile(optimizer='adam', loss='binary_crossentropy', metrics=['accuracy'])\n",
    "\n",
    "# Training\n",
    "history = model.fit(train_generator,\n",
    "                    epochs=10,\n",
    "                    validation_data=test_generator)\n",
    "\n",
    "# Save the Model\n",
    "model.save('weapon_detection_model.h5')\n"
   ]
  }
 ],
 "metadata": {
  "kernelspec": {
   "display_name": "Python 3",
   "language": "python",
   "name": "python3"
  },
  "language_info": {
   "codemirror_mode": {
    "name": "ipython",
    "version": 3
   },
   "file_extension": ".py",
   "mimetype": "text/x-python",
   "name": "python",
   "nbconvert_exporter": "python",
   "pygments_lexer": "ipython3",
   "version": "3.11.4"
  },
  "orig_nbformat": 4
 },
 "nbformat": 4,
 "nbformat_minor": 2
}