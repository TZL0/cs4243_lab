{
 "cells": [
  {
   "cell_type": "markdown",
   "id": "36f7c3f7",
   "metadata": {
    "pycharm": {
     "name": "#%% md\n"
    }
   },
   "source": [
    "# Lab Weeks 8\n",
    "\n",
    "Author: Dr. Amirhassan MONAJEMI. Modified by Weida Liang"
   ]
  },
  {
   "cell_type": "code",
   "execution_count": 3,
   "id": "7f9035a8",
   "metadata": {
    "pycharm": {
     "name": "#%%\n"
    }
   },
   "outputs": [],
   "source": [
    "import cv2\n",
    "import numpy as np\n",
    "from matplotlib import pyplot as plt"
   ]
  },
  {
   "cell_type": "markdown",
   "id": "6d8bb467",
   "metadata": {
    "pycharm": {
     "name": "#%% md\n"
    }
   },
   "source": [
    "### part 1:  GLCM-based Texture Analysis\n",
    "1. For images below, where GL=256 for all, \n",
    "- hor_texture.jpg \n",
    "- high_spat_freq.bmp\n",
    "- IMG_8636q.jpg \n",
    "2. Convert them the GL if it's necessary \n",
    "3. Apply a Gaussian lowpass filter on IMG_8636q.jpg next\n",
    "4. Compute 4 GLCM matrices for distance=d=[1,5] , theta= [0,90] for each texture\n",
    "5. Compute F1 and F2 for each GLCM matrix. \n",
    "6. This way, you will have a 2-feature feature vector for each GLCM matrix, \n",
    "- or a 8-feature feature vector to represent your texture\n",
    "7. Compare GLCMs' [F1, F2] feature vectors with each other and discuss the results\n"
   ]
  },
  {
   "cell_type": "code",
   "execution_count": 11,
   "id": "3a0c2635",
   "metadata": {
    "pycharm": {
     "name": "#%%\n"
    }
   },
   "outputs": [],
   "source": [
    "\n",
    "def am_glcm_faster( img , GL , d , t):\n",
    "    ccmm = np.zeros([GL, GL])\n",
    "    print(t==0)\n",
    "    if t==0:\n",
    "        im_target = img[:,d:]\n",
    "        im_value = img[:,:-d]\n",
    "    # Use the above example and write your code for t = 45,90,135\n",
    "    elif t==45:\n",
    "        im_target = img[d:, :-d]\n",
    "        im_value = img[:-d, d:]\n",
    "    elif t==90:\n",
    "        im_target = img[:-d, :]\n",
    "        im_value = img[d:, :]\n",
    "    elif t==135:\n",
    "        im_target = img[:-d, :-d]\n",
    "        im_value = img[d:, d:]\n",
    "    else:\n",
    "        raise NotImplementedError('t options: 0, 45, 90, 135 only')\n",
    "    assert im_target.shape==im_value.shape\n",
    "    ref_gls = np.unique(im_value)\n",
    "    # print(ref_gls)\n",
    "    for ref in ref_gls:\n",
    "        target_values = im_target[im_value == ref]\n",
    "        target_gls = np.unique(target_values)\n",
    "        # print(target_gls)\n",
    "        for target in target_gls:\n",
    "            # print(target, target_values,(target_values==target).sum())\n",
    "            ccmm[ref, target] = (target_values==target).sum()\n",
    "    \n",
    "    return ccmm"
   ]
  },
  {
   "cell_type": "markdown",
   "id": "87b57f20",
   "metadata": {
    "pycharm": {
     "name": "#%% md\n"
    }
   },
   "source": [
    "### you may use function below to compute F1 and F2 （maximum and energy) , for your texture"
   ]
  },
  {
   "cell_type": "code",
   "execution_count": 2,
   "id": "91c43232",
   "metadata": {
    "pycharm": {
     "name": "#%%\n"
    }
   },
   "outputs": [],
   "source": [
    "def glcm_feat( g11 ):\n",
    "    mxx = np.max(g11)\n",
    "    enrg = np.sum(np.multiply(g11,g11))\n",
    "    return  mxx , enrg"
   ]
  },
  {
   "cell_type": "code",
   "execution_count": 12,
   "id": "93153012",
   "metadata": {
    "pycharm": {
     "name": "#%%\n"
    }
   },
   "outputs": [
    {
     "name": "stdout",
     "output_type": "stream",
     "text": [
      "0\n",
      "True\n"
     ]
    },
    {
     "ename": "AssertionError",
     "evalue": "",
     "output_type": "error",
     "traceback": [
      "\u001B[0;31m---------------------------------------------------------------------------\u001B[0m",
      "\u001B[0;31mAssertionError\u001B[0m                            Traceback (most recent call last)",
      "Cell \u001B[0;32mIn[12], line 15\u001B[0m\n\u001B[1;32m     13\u001B[0m \u001B[38;5;28;01mfor\u001B[39;00m t \u001B[38;5;129;01min\u001B[39;00m [\u001B[38;5;241m0\u001B[39m,\u001B[38;5;241m45\u001B[39m,\u001B[38;5;241m90\u001B[39m]:\n\u001B[1;32m     14\u001B[0m     \u001B[38;5;28mprint\u001B[39m(t)\n\u001B[0;32m---> 15\u001B[0m     ccmm \u001B[38;5;241m=\u001B[39m \u001B[43mam_glcm_faster\u001B[49m\u001B[43m(\u001B[49m\u001B[43m \u001B[49m\u001B[43mimg_8636q_filtered\u001B[49m\u001B[43m \u001B[49m\u001B[43m,\u001B[49m\u001B[43m \u001B[49m\u001B[43mGL\u001B[49m\u001B[43m \u001B[49m\u001B[43m,\u001B[49m\u001B[43m \u001B[49m\u001B[43md\u001B[49m\u001B[43m \u001B[49m\u001B[43m,\u001B[49m\u001B[43m \u001B[49m\u001B[43mt\u001B[49m\u001B[43m)\u001B[49m\n\u001B[1;32m     16\u001B[0m     result\u001B[38;5;241m.\u001B[39mappend(ccmm)\n\u001B[1;32m     17\u001B[0m     \u001B[38;5;28mprint\u001B[39m( glcm_feat( ccmm ))\n",
      "Cell \u001B[0;32mIn[11], line 20\u001B[0m, in \u001B[0;36mam_glcm_faster\u001B[0;34m(img, GL, d, t)\u001B[0m\n\u001B[1;32m     18\u001B[0m     \u001B[38;5;28mprint\u001B[39m(t)\n\u001B[1;32m     19\u001B[0m     \u001B[38;5;28;01mraise\u001B[39;00m \u001B[38;5;167;01mNotImplementedError\u001B[39;00m(\u001B[38;5;124m'\u001B[39m\u001B[38;5;124mt options: 0, 45, 90, 135 only\u001B[39m\u001B[38;5;124m'\u001B[39m)\n\u001B[0;32m---> 20\u001B[0m \u001B[38;5;28;01massert\u001B[39;00m im_target\u001B[38;5;241m.\u001B[39mshape\u001B[38;5;241m==\u001B[39mim_value\u001B[38;5;241m.\u001B[39mshape\n\u001B[1;32m     21\u001B[0m ref_gls \u001B[38;5;241m=\u001B[39m np\u001B[38;5;241m.\u001B[39munique(im_value)\n\u001B[1;32m     22\u001B[0m \u001B[38;5;66;03m# print(ref_gls)\u001B[39;00m\n",
      "\u001B[0;31mAssertionError\u001B[0m: "
     ]
    }
   ],
   "source": [
    "# Imput Image\n",
    "input_image = cv2.imread('/Users/tianze/cs4243_lab/CS4243_2023_images_small/hor_texture.jpg', cv2.IMREAD_GRAYSCALE)\n",
    "# Your code Here\n",
    "GL = 256  # Number of gray levels\n",
    "d = 1     # Distance for co-occurrence\n",
    "t = 0     # Texture direction (0 degrees for horizontal)\n",
    "\n",
    "sigma = 2  # Adjust the sigma value as needed\n",
    "img_8636q_filtered = cv2.GaussianBlur(input_image, (0, 0), sigmaX=sigma)\n",
    "result = []\n",
    "\n",
    "for d in range(5):\n",
    "    for t in [0,45,90]:\n",
    "        ccmm = am_glcm_faster( img_8636q_filtered , GL , d , t)\n",
    "        result.append(ccmm)\n",
    "        print( glcm_feat( ccmm ))\n",
    "\n",
    "print(result)\n",
    "# Use am_glcm_faster function to get results\n",
    "plt.imshow(ccmm)"
   ]
  },
  {
   "cell_type": "code",
   "execution_count": null,
   "outputs": [],
   "source": [],
   "metadata": {
    "collapsed": false,
    "pycharm": {
     "name": "#%%\n"
    }
   }
  },
  {
   "cell_type": "markdown",
   "id": "499d8700",
   "metadata": {
    "pycharm": {
     "name": "#%% md\n"
    }
   },
   "source": [
    "### part 2: Laws Filters: A bank of small size filters to extract texture features\n",
    "1. Use instructions below to creat a 9-filter 3x3 Laws filter bank \n",
    "2. Use images below, apply all Laws filters on them, compute the filter response\n",
    "3. Filter responses will configure a 9-featured feature vector\n",
    "- Images: \n",
    "- IMG_0054_1024bw.bmp\n",
    "- 20230515_110806.jpg \n",
    "- djzam_nat_defect_002_2g_8.bmp \n",
    "- 20230324_105524gl.jpg \n",
    "4. Discuss the results"
   ]
  },
  {
   "cell_type": "markdown",
   "id": "7fa156df",
   "metadata": {
    "pycharm": {
     "name": "#%% md\n"
    }
   },
   "source": [
    "### L3 = (1,2,1) - Level detection, E3 = (-1,0,1)- Edge detection, and S3 = (-1,2,-1)- Spot detection."
   ]
  },
  {
   "cell_type": "code",
   "execution_count": 13,
   "id": "93c4a42e",
   "metadata": {
    "pycharm": {
     "name": "#%%\n"
    }
   },
   "outputs": [
    {
     "name": "stdout",
     "output_type": "stream",
     "text": [
      "[[0.0625 0.125  0.0625]\n",
      " [0.125  0.25   0.125 ]\n",
      " [0.0625 0.125  0.0625]]\n",
      "[[-0.25  0.    0.25]\n",
      " [-0.5   0.    0.5 ]\n",
      " [-0.25  0.    0.25]]\n",
      "[[-0.25  0.5  -0.25]\n",
      " [-0.5   1.   -0.5 ]\n",
      " [-0.25  0.5  -0.25]]\n",
      "[[-0.25 -0.5  -0.25]\n",
      " [ 0.    0.    0.  ]\n",
      " [ 0.25  0.5   0.25]]\n",
      "[[ 1  0 -1]\n",
      " [ 0  0  0]\n",
      " [-1  0  1]]\n",
      "[[ 1 -2  1]\n",
      " [ 0  0  0]\n",
      " [-1  2 -1]]\n",
      "[[-0.25 -0.5  -0.25]\n",
      " [ 0.5   1.    0.5 ]\n",
      " [-0.25 -0.5  -0.25]]\n",
      "[[ 1  0 -1]\n",
      " [-2  0  2]\n",
      " [ 1  0 -1]]\n",
      "[[ 1 -2  1]\n",
      " [-2  4 -2]\n",
      " [ 1 -2  1]]\n"
     ]
    }
   ],
   "source": [
    "L = np.array([1,2,1]) / 4\n",
    "# or: L = np.array([1,2,1])\n",
    "E = np.array([-1,0,1])\n",
    "S = np.array([-1,2,-1])\n",
    "llist = [L, E, S]\n",
    "\n",
    "laws = []\n",
    "for xs in llist:\n",
    "    for ys in llist:\n",
    "        xs= np.reshape(xs,(3,1))\n",
    "        ys = np.reshape(ys,(1,3))\n",
    "        L3L3 = np.matmul(xs,ys)  \n",
    "        print(L3L3)\n",
    "        laws.append(L3L3)"
   ]
  },
  {
   "cell_type": "code",
   "execution_count": 18,
   "id": "c321e38f",
   "metadata": {
    "pycharm": {
     "name": "#%%\n"
    }
   },
   "outputs": [],
   "source": [
    "# function to compute the power of an image, either RGb or graylevel\n",
    "def am_power(a):\n",
    "    dim1 = a.shape\n",
    "    if len(dim1)==2:\n",
    "        sz = dim1[0] * dim1[1] \n",
    "    else:\n",
    "        sz = dim1[0] * dim1[1] * dim1[2]\n",
    "    pa = np.sum( np.double(a)**2 )\n",
    "    pa = pa / sz\n",
    "    return pa "
   ]
  },
  {
   "cell_type": "markdown",
   "id": "5bcf4e81",
   "metadata": {
    "pycharm": {
     "name": "#%% md\n"
    }
   },
   "source": [
    "#### now in laws we have got a list of 9 filters, 3x3 each"
   ]
  },
  {
   "cell_type": "code",
   "execution_count": null,
   "id": "0e7d98c8",
   "metadata": {
    "pycharm": {
     "name": "#%%\n"
    }
   },
   "outputs": [],
   "source": [
    "# create figure\n",
    "fig = plt.figure(figsize=(10,10))\n",
    "image = \n",
    "image_power=[]\n",
    "feature=[]\n",
    "# setting values to rows and column variables\n",
    "rows = 3\n",
    "columns = 3\n",
    "\n",
    "for i in range(9):\n",
    "    f1 = cv2.filter2D(src=image, ddepth=-1, kernel= laws[i])\n",
    "    fig.add_subplot(rows, columns, i+1) \n",
    "    # showing image\n",
    "    plt.imshow(f1)\n",
    "    plt.axis('off')\n",
    "    plt.title(i)\n",
    "    plt.show()\n",
    "    image_power.append(am_power(f1))\n",
    "    feature.append(f1)"
   ]
  },
  {
   "cell_type": "code",
   "execution_count": null,
   "id": "ebd6c4dd",
   "metadata": {
    "pycharm": {
     "name": "#%%\n"
    }
   },
   "outputs": [],
   "source": [
    "#calculate powers\n",
    "print('original image power= ' , am_power(image) )\n",
    "for i in range(9):\n",
    "    print('power of ', i ,'th filter response=', image_power[i] )"
   ]
  },
  {
   "cell_type": "markdown",
   "id": "6b5d3eb9",
   "metadata": {
    "pycharm": {
     "name": "#%% md\n"
    }
   },
   "source": [
    "### part 3: Gabor Filters: MSMD Approaches\n",
    "1. Use images below and Gabor function from cv2, \n",
    "2. Try different parameters of the Gabor filter and see the results\n",
    "- Images: \n",
    "- IMG_0054_1024bw.bmp\n",
    "- 20230515_110806.jpg \n",
    "- djzam_nat_defect_002_2g_8.bmp \n",
    "- 20230324_105524gl.jpg \n",
    "4. Discuss the results"
   ]
  },
  {
   "cell_type": "code",
   "execution_count": 21,
   "id": "3523d006",
   "metadata": {
    "pycharm": {
     "name": "#%%\n"
    }
   },
   "outputs": [],
   "source": [
    "# cv2.getGaborKernel(ksize, sigma, theta, lambda, gamma, psi, ktype)\n",
    "# 2d Gabor filter for image processing, is a 2d sine wave modulated by a Gaussian envelop\n",
    "# \n",
    "# -- ksize - size of gabor filter (n, n), usually it is small, e.g. 7x7 to 30x30, size of the filter\n",
    "# matrix\n",
    "# -- sigma - standard deviation of the gaussian function, filter bandwidth, bandwidth of that Gaussian envelop\n",
    "# -- theta - orientation of the normal to the parallel stripes, we can rotate the filter, \n",
    "# direction of the 2d sine wave\n",
    "# -- lambda - wavelength of the sunusoidal factor, wavelength = 1/ frequency of the filter sine wave\n",
    "# -- gamma - spatial aspect ratio, \n",
    "# -- psi - phase offset, usually 0 , phase of that sine wave\n",
    "# -- ktype - type and range of values that each pixel in the gabor kernel can hold,\n",
    "#either 32 bit or 64 bit, float "
   ]
  },
  {
   "cell_type": "code",
   "execution_count": null,
   "id": "7c414b44",
   "metadata": {
    "pycharm": {
     "name": "#%%\n"
    }
   },
   "outputs": [],
   "source": [
    "# building the filter kernel, theta=90\n",
    "g_kernel90 = cv2.getGaborKernel((21, 21), 8.0, np.pi/2, 10.0, 0.5, 0, ktype=cv2.CV_32F)\n",
    "# image in gray level and convolution for 2d filtering\n",
    "img = cv2.imread(im_name,0)\n",
    " \n",
    "filtered_img90 = cv2.filter2D(img, cv2.CV_8UC3, g_kernel90)\n",
    "\n",
    "# showing the input and filtered images\n",
    "cv2.imshow('image', img)\n",
    "cv2.imshow('filtered image, theta=90', filtered_img90)\n",
    "\n",
    "# making the filter larger just to show that\n",
    "h, w = g_kernel90.shape[:2]\n",
    "g_kernel2 = cv2.resize(g_kernel90, (10*w, 10*h), interpolation=cv2.INTER_CUBIC)\n",
    "cv2.imshow('gabor kernel, theta=90 (resized)', g_kernel2)"
   ]
  },
  {
   "cell_type": "code",
   "execution_count": null,
   "id": "17f4846e",
   "metadata": {
    "pycharm": {
     "name": "#%%\n"
    }
   },
   "outputs": [],
   "source": [
    "# building the filter kernel,theta=0, similar to code above\n",
    "# Your code here\n"
   ]
  },
  {
   "cell_type": "code",
   "execution_count": null,
   "id": "bc1106f0",
   "metadata": {
    "pycharm": {
     "name": "#%%\n"
    }
   },
   "outputs": [],
   "source": [
    "# create figure\n",
    "fig = plt.figure(figsize=(16,16))\n",
    "\n",
    "# setting values to rows and column variables\n",
    "rows =3\n",
    "columns = 2\n",
    "\n",
    "# Adds a subplot at the 1st position\n",
    "fig.add_subplot(rows, columns, 1)\n",
    "# showing image\n",
    "plt.imshow(img , cmap='gray')\n",
    "plt.axis('off')\n",
    "plt.title(\"Image\")\n",
    "\n",
    "fig.add_subplot(rows, columns, 3)\n",
    "plt.imshow( filtered_img90 , cmap='gray')\n",
    "plt.axis('off')\n",
    "plt.title(\"filtered image, theta=90\")\n",
    "\n",
    "fig.add_subplot(rows, columns, 4)\n",
    "plt.imshow(g_kernel2, cmap='gray')\n",
    "plt.axis('off')\n",
    "plt.title('gabor kernel, theta=90 (resized)')\n",
    "\n",
    "fig.add_subplot(rows, columns, 5)\n",
    "plt.imshow(filtered_img0, cmap='gray')\n",
    "plt.axis('off')\n",
    "plt.title('filtered image 2 theta=0')\n",
    "\n",
    "fig.add_subplot(rows, columns, 6)\n",
    "plt.imshow(g_kernel4, cmap='gray')\n",
    "plt.axis('off')\n",
    "plt.title('gabor kernel 2, theta=0 (resized)')"
   ]
  }
 ],
 "metadata": {
  "kernelspec": {
   "display_name": "Python 3 (ipykernel)",
   "language": "python",
   "name": "python3"
  },
  "language_info": {
   "codemirror_mode": {
    "name": "ipython",
    "version": 3
   },
   "file_extension": ".py",
   "mimetype": "text/x-python",
   "name": "python",
   "nbconvert_exporter": "python",
   "pygments_lexer": "ipython3",
   "version": "3.8.4"
  }
 },
 "nbformat": 4,
 "nbformat_minor": 5
}