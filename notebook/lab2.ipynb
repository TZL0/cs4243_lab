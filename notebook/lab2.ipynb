{
 "cells": [
  {
   "cell_type": "markdown",
   "id": "c6611c8e",
   "metadata": {
    "pycharm": {
     "name": "#%% md\n"
    }
   },
   "source": [
    "# CS4243 - Lab Session 2\n",
    "Computer Vision & Pattern Recognition\n",
    "\n",
    "Week 4\n",
    "\n",
    "Author: Dr. Amirhassan MONAJEMI. Modified by: Xiao CAO"
   ]
  },
  {
   "cell_type": "markdown",
   "id": "26309eca",
   "metadata": {
    "pycharm": {
     "name": "#%% md\n"
    }
   },
   "source": [
    "## Welcome! 👋\n",
    "\n",
    "This notebook contains the tutorials for the `first` and `second` lab sessions. The following materials are covered:\n",
    "- Session #1: Background and Global Operations\n",
    "- Session #2: Local Operations and Spatial Domain Filtering\n",
    "\n",
    "This week focuses on the first session. We will explore the basic global operations of image processing and how to use them to alter and enhance an image."
   ]
  },
  {
   "cell_type": "markdown",
   "id": "ecc1d0c7",
   "metadata": {
    "pycharm": {
     "name": "#%% md\n"
    }
   },
   "source": [
    "Things to do in the following session:"
   ]
  },
  {
   "cell_type": "markdown",
   "id": "cea8a039",
   "metadata": {
    "pycharm": {
     "name": "#%% md\n"
    }
   },
   "source": [
    "# Local Operations and Spatial Domain Filtering "
   ]
  },
  {
   "cell_type": "markdown",
   "id": "de49030c",
   "metadata": {
    "pycharm": {
     "name": "#%% md\n"
    }
   },
   "source": [
    "### Filtering, LP, and HP\n",
    "Read an image, design some filters that you can see below.\n",
    "- Filter your image with those filters. Use the `cv2.filter2D` instruction.\n",
    "- See the resulting image and compute its power and entropy\n",
    "- Check different arguments of that filter2D function"
   ]
  },
  {
   "cell_type": "code",
   "execution_count": null,
   "id": "2250d4a5",
   "metadata": {
    "pycharm": {
     "name": "#%%\n"
    }
   },
   "outputs": [],
   "source": [
    "import cv2\n",
    "import numpy as np\n",
    "from matplotlib import pyplot as plt\n",
    "#Your image path\n",
    "im_file = \"/disk2/caoxiao/nerf_llff_data/fern/images_4/image000.png\""
   ]
  },
  {
   "cell_type": "markdown",
   "id": "225f6c02",
   "metadata": {
    "pycharm": {
     "name": "#%% md\n"
    }
   },
   "source": [
    "You should try to define 2-3 low pass filter and 1-2 high pass filter. And then apply to your image."
   ]
  },
  {
   "cell_type": "code",
   "execution_count": null,
   "id": "a1a5a302",
   "metadata": {
    "pycharm": {
     "name": "#%%\n"
    }
   },
   "outputs": [],
   "source": [
    "gle = cv2.imread(im_file, 0)\n",
    "\n",
    "lp1 =\n",
    "      \n",
    "     \n",
    "lp2 =\n",
    "lp3 = \n",
    "\n",
    "hp1 = \n",
    "hp2 = "
   ]
  },
  {
   "cell_type": "code",
   "execution_count": null,
   "id": "b3801b7d",
   "metadata": {
    "pycharm": {
     "name": "#%%\n"
    }
   },
   "outputs": [],
   "source": [
    "kernels = [lp1, lp2, lp3, hp1, hp2]\n",
    "k_name = ['low pass 1', 'low pass 2','low pass 3','high pass 1', 'high pass 2' ]"
   ]
  },
  {
   "cell_type": "code",
   "execution_count": null,
   "id": "a03e4a81",
   "metadata": {
    "pycharm": {
     "name": "#%%\n"
    }
   },
   "outputs": [],
   "source": [
    "# filtering\n",
    "plt.figure(figsize=(10, 5))\n",
    "imgs=[]\n",
    "for i in range(len(k_name)):\n",
    "    imgs.append(cv2.filter2D(src=gle, ddepth=-1, kernel=kernels[i]))\n",
    "plt.subplot(231), plt.imshow(imgs[0]), plt.title('Low Pass 1'), plt.axis('off') \n",
    "plt.subplot(232), plt.imshow(imgs[1]), plt.title('Low Pass 2') , plt.axis('off')\n",
    "plt.subplot(233), plt.imshow(imgs[2]), plt.title('Low Pass 3'), plt.axis('off')\n",
    "plt.subplot(234), plt.imshow(imgs[3]), plt.title('High Pass 1'), plt.axis('off')\n",
    "plt.subplot(235), plt.imshow(imgs[4]), plt.title('High Pass 2'), plt.axis('off')\n"
   ]
  },
  {
   "cell_type": "markdown",
   "id": "01b048c9",
   "metadata": {
    "pycharm": {
     "name": "#%% md\n"
    }
   },
   "source": [
    "### Sobel Operator\n",
    "Develop a Sobel edge detection program and test it on images below.\n",
    "\n",
    "- In this section, you should define the sobel kernel to extract vertical and horizontal features.\n",
    "- Set a threshold to extract clearer feature\n",
    "- After you obtain the x and y axis features, try to combine them together"
   ]
  },
  {
   "cell_type": "code",
   "execution_count": null,
   "id": "96992168",
   "metadata": {
    "pycharm": {
     "name": "#%%\n"
    }
   },
   "outputs": [],
   "source": [
    "y_sobel_kernel = \n",
    "x_sobel_kernel = "
   ]
  },
  {
   "cell_type": "code",
   "execution_count": null,
   "id": "3f5eb962",
   "metadata": {
    "pycharm": {
     "name": "#%%\n"
    }
   },
   "outputs": [],
   "source": [
    "Y_feature = cv2.filter2D(src=gle, ddepth=-1, kernel=y_sobel_kernel)\n",
    "X_feature = cv2.filter2D(src=gle, ddepth=-1, kernel=x_sobel_kernel)"
   ]
  },
  {
   "cell_type": "code",
   "execution_count": null,
   "id": "197f345d",
   "metadata": {
    "pycharm": {
     "name": "#%%\n"
    }
   },
   "outputs": [],
   "source": [
    "plt.figure(figsize=(10, 5))\n",
    "plt.subplot(121), plt.imshow(Y_feature), plt.axis('off') \n",
    "plt.subplot(122), plt.imshow(X_feature) , plt.axis('off')"
   ]
  },
  {
   "cell_type": "markdown",
   "id": "a99f6f1d",
   "metadata": {
    "pycharm": {
     "name": "#%% md\n"
    }
   },
   "source": [
    "How can we get the unified version (vertical and horizontal feature in one image)?"
   ]
  },
  {
   "cell_type": "code",
   "execution_count": null,
   "id": "bad1adeb",
   "metadata": {
    "pycharm": {
     "name": "#%%\n"
    }
   },
   "outputs": [],
   "source": [
    "unified_feature=(Y_feature_thr+X_feature_thr)/2\n",
    "plt.figure(figsize=(10, 5))\n",
    "plt.subplot(111), plt.imshow(unified_feature), plt.axis('off') \n"
   ]
  },
  {
   "cell_type": "markdown",
   "id": "e3d9789a",
   "metadata": {
    "pycharm": {
     "name": "#%% md\n"
    }
   },
   "source": [
    "### Gaussian\n",
    "\n",
    "Define your gaussian kernel and apply to the image. Note that you should define gaussian kernel by yourself instead of using existing package.\n",
    "2D Gaussian equation:\n",
    "\n",
    "\n"
   ]
  },
  {
   "cell_type": "markdown",
   "id": "05babe79",
   "metadata": {
    "pycharm": {
     "name": "#%% md\n"
    }
   },
   "source": [
    "$$\n",
    "G(x, y) = \\frac{1}{2\\pi\\sigma^2} e^{-\\frac{x^2 + y^2}{2\\sigma^2}}\n",
    "$$"
   ]
  },
  {
   "cell_type": "code",
   "execution_count": null,
   "id": "41426a0a",
   "metadata": {
    "pycharm": {
     "name": "#%%\n"
    }
   },
   "outputs": [],
   "source": [
    "def gaussian_kernel(size, sigma=1.0):\n",
    "    \"\"\"Generate a Gaussian kernel of given size and standard deviation.\"\"\"\n",
    "    # Initialize an empty size x size array\n",
    "    kernel = np.zeros((size, size))\n",
    "    \n",
    "    # Calculate the center position of the kernel\n",
    "    center = size // 2\n",
    "    \n",
    "    # Loop through each element in the size x size array\n",
    "    for x in range(0, size):\n",
    "        for y in range(0, size):\n",
    "           \n",
    "    \n",
    "    # Normalize the kernel by dividing each element by the sum of all elements\n",
    "   \n",
    "    return kernel"
   ]
  },
  {
   "cell_type": "code",
   "execution_count": null,
   "id": "51971bea",
   "metadata": {
    "pycharm": {
     "name": "#%%\n"
    }
   },
   "outputs": [],
   "source": [
    "\n",
    "plt.figure(figsize=(10, 5))\n",
    "plt.subplot(111), plt.imshow(output), plt.axis('off') "
   ]
  },
  {
   "cell_type": "markdown",
   "id": "52317544",
   "metadata": {
    "pycharm": {
     "name": "#%% md\n"
    }
   },
   "source": [
    "### Unsharp Masking\n",
    "Implement unsharp masking by following instruction"
   ]
  },
  {
   "cell_type": "code",
   "execution_count": null,
   "id": "48f23f0a",
   "metadata": {
    "pycharm": {
     "name": "#%%\n"
    }
   },
   "outputs": [],
   "source": [
    "# Step 1: Create a blurred version of the image using Gaussian blur\n",
    "\n",
    "\n",
    "# Step 2: Subtract the blurred image from the original to create the mask\n",
    "\n",
    "\n",
    "# Step 3: Add the mask back to the original image\n"
   ]
  }
 ],
 "metadata": {
  "kernelspec": {
   "display_name": "Python 3 (ipykernel)",
   "language": "python",
   "name": "python3"
  },
  "language_info": {
   "codemirror_mode": {
    "name": "ipython",
    "version": 3
   },
   "file_extension": ".py",
   "mimetype": "text/x-python",
   "name": "python",
   "nbconvert_exporter": "python",
   "pygments_lexer": "ipython3",
   "version": "3.8.16"
  }
 },
 "nbformat": 4,
 "nbformat_minor": 5
}