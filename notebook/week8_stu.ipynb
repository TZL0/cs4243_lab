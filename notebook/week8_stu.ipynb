{
 "cells": [
  {
   "cell_type": "markdown",
   "id": "251d8990",
   "metadata": {
    "pycharm": {
     "name": "#%% md\n"
    }
   },
   "source": [
    "# Lab Weeks 8 for Monday Tutorial\n",
    "\n",
    "Author: Dr. Amirhassan MONAJEMI. Modified by Xiao CAO"
   ]
  },
  {
   "cell_type": "markdown",
   "id": "79d46a71",
   "metadata": {
    "pycharm": {
     "name": "#%% md\n"
    }
   },
   "source": [
    "### part 1:  GLCM-based Texture Analysis\n",
    "1. Read images \n",
    "- collage1.bmp\n",
    "- 20230324_105524gl.jpg\n",
    " \n",
    "2. Convert them the GL if it's necessary \n",
    "3. Complete the glcm function. \n",
    "4. Compute 4 GLCM matrices for distance=d=[3] , theta= [0,90] for each texture\n",
    "5. Compute F2 (energy function) for each GLCM matrix. \n"
   ]
  },
  {
   "cell_type": "code",
   "execution_count": null,
   "id": "bfd4e6e9",
   "metadata": {
    "pycharm": {
     "name": "#%%\n"
    }
   },
   "outputs": [],
   "source": [
    "import cv2\n",
    "import numpy as np\n",
    "from matplotlib import pyplot as plt"
   ]
  },
  {
   "cell_type": "code",
   "execution_count": null,
   "id": "7715eb62",
   "metadata": {
    "pycharm": {
     "name": "#%%\n"
    }
   },
   "outputs": [],
   "source": [
    "\n",
    "def am_glcm_faster( img , GL , d , t):\n",
    "    ccmm = np.zeros([GL, GL])\n",
    "    if t==0:\n",
    "     \n",
    "       \n",
    "    elif t==45:\n",
    "      \n",
    "    elif t==90:\n",
    "        \n",
    "    elif t==135:\n",
    "       \n",
    "    else:\n",
    "        raise NotImplementedError('t options: 0, 45, 90, 135 only')\n",
    "    assert im_target.shape==im_value.shape\n",
    "    ref_gls = np.unique(im_value)\n",
    "   \n",
    "    for ref in ref_gls:\n",
    "        \n",
    "        target_values = im_target[im_value == ref]\n",
    "    \n",
    "        target_gls = np.unique(target_values)\n",
    "     \n",
    "        for target in target_gls:\n",
    "              \n",
    "               ccmm[ref, target] = (target_values==target).sum()\n",
    "    return ccmm\n"
   ]
  },
  {
   "cell_type": "code",
   "execution_count": null,
   "id": "a17a301f",
   "metadata": {
    "pycharm": {
     "name": "#%%\n"
    }
   },
   "outputs": [],
   "source": [
    "glcm_energy = \n"
   ]
  },
  {
   "cell_type": "code",
   "execution_count": null,
   "id": "0164477b",
   "metadata": {
    "pycharm": {
     "name": "#%%\n"
    }
   },
   "outputs": [],
   "source": [
    "\n",
    "def am_power(a):\n",
    "    dim1 = a.shape\n",
    "    \n",
    "    if len(dim1)==2:\n",
    "        sz = dim1[0] * dim1[1] \n",
    "    elif len(dim1)==3:\n",
    "        sz = dim1[0] * dim1[1] * dim1[2]        \n",
    "    pa = np.sum( a ** 2.0) / sz    \n",
    "    \n",
    "    return pa\n",
    "\n",
    "def am_entropy(nimg , N=256):\n",
    "    M = nimg.shape\n",
    "    ssz = M[0] * M[1]\n",
    "    hist,bins = np.histogram(nimg.flatten(),N,[0,N])\n",
    "    hist = hist / ssz\n",
    "    ent = -np.sum( hist * np.log2(hist+0.000001))\n",
    "    return ent\n"
   ]
  },
  {
   "cell_type": "code",
   "execution_count": null,
   "id": "240f8589",
   "metadata": {
    "pycharm": {
     "name": "#%%\n"
    }
   },
   "outputs": [],
   "source": [
    "a = cv2.imread('/Users/cx/Documents/GitHub/CS4243_2023_images_small/collage1.bmp',0)\n",
    "b = cv2.imread('/Users/cx/Documents/GitHub/CS4243_2023_images_small/20230324_105524gl.jpg',0)\n",
    "\n",
    "\n",
    "a = a[:512 , :512]\n",
    "b = b[:512 , :512]\n",
    "\n",
    "print(a.shape , b.shape)"
   ]
  },
  {
   "cell_type": "code",
   "execution_count": null,
   "id": "4a1a47c9",
   "metadata": {
    "pycharm": {
     "name": "#%%\n"
    }
   },
   "outputs": [],
   "source": [
    "aglcm30 = am_glcm_faster( a , 256, 3, 0)\n",
    "bglcm30 = am_glcm_faster( b , 256, 3, 0) \n",
    "aglcm390 = am_glcm_faster( a , 256, 3, 90)\n",
    "bglcm390 = am_glcm_faster( b , 256, 3, 90) \n",
    "\n",
    "print( 'aglcm30 energy= %e \\tbglcm30 energy=%e' %(glcm_energy(aglcm30), glcm_energy(bglcm30)) )\n",
    "print( 'aglcm390 energy= %e \\tbglcm390 energy=%e' %(glcm_energy(aglcm390), glcm_energy(bglcm390)) )"
   ]
  },
  {
   "cell_type": "code",
   "execution_count": null,
   "id": "0e672849",
   "metadata": {
    "pycharm": {
     "name": "#%%\n"
    }
   },
   "outputs": [],
   "source": [
    "# showing the result\n",
    "\n",
    "plt.figure(figsize=(10, 5))\n",
    "plt.subplot(321), plt.imshow(a), plt.axis('off') \n",
    "plt.subplot(322), plt.imshow(b) , plt.axis('off')\n",
    "plt.subplot(323), plt.imshow(aglcm30), plt.axis('off') \n",
    "plt.subplot(324), plt.imshow(bglcm30) , plt.axis('off')\n",
    "plt.subplot(325), plt.imshow(aglcm390), plt.axis('off') \n",
    "plt.subplot(326), plt.imshow(bglcm390) , plt.axis('off')\n",
    "                                            "
   ]
  },
  {
   "cell_type": "markdown",
   "id": "b9431165",
   "metadata": {
    "pycharm": {
     "name": "#%% md\n"
    }
   },
   "source": [
    "### Part2: Create Laws 5*5 filter\n",
    "- You should define L5,E5,S5,R5 Laws kernel according to tutorial slides\n",
    "- You should combine 1D Laws kernels into 2D kernel\n",
    "- Apply to the required two images \n",
    "IMG_0054.JPG & 6ae-007.jpg\n",
    "- Calculate the image power and answer the coursework question"
   ]
  },
  {
   "cell_type": "code",
   "execution_count": null,
   "id": "2964a325",
   "metadata": {
    "pycharm": {
     "name": "#%%\n"
    }
   },
   "outputs": [],
   "source": [
    "c = cv2.imread('/Users/cx/Documents/GitHub/CS4243_2023_images_small/IMG_0054.JPG',0)\n",
    "d = cv2.imread('/Users/cx/Documents/GitHub/CS4243_2023_images_small/6ae-007.jpg',0)\n",
    "\n",
    "print(c.shape , d.shape)"
   ]
  },
  {
   "cell_type": "code",
   "execution_count": null,
   "id": "77a17bf1",
   "metadata": {
    "pycharm": {
     "name": "#%%\n"
    }
   },
   "outputs": [],
   "source": [
    "plt.figure(figsize=(10, 5))\n",
    "plt.subplot(121), plt.imshow(c), plt.axis('off') \n",
    "plt.subplot(122), plt.imshow(d) , plt.axis('off')\n"
   ]
  },
  {
   "cell_type": "code",
   "execution_count": null,
   "id": "9a4f63c9",
   "metadata": {
    "pycharm": {
     "name": "#%%\n"
    }
   },
   "outputs": [],
   "source": [
    "# create figure\n",
    "fig = plt.figure(figsize=(16*2,16*2))\n",
    "\n",
    "# setting values to rows and column variables\n",
    "rows = 4\n",
    "columns = 4\n"
   ]
  },
  {
   "cell_type": "code",
   "execution_count": null,
   "id": "6cc6976e",
   "metadata": {
    "pycharm": {
     "name": "#%%\n"
    }
   },
   "outputs": [],
   "source": [
    "L5=\n",
    "E5=\n",
    "S5=\n",
    "R5=\n",
    "llist = [L5 , E5 , S5, R5]\n",
    "\n",
    "laws = []\n",
    "for xs in llist:\n",
    "    for ys in llist:\n",
    "       "
   ]
  },
  {
   "cell_type": "code",
   "execution_count": null,
   "id": "3282cb36",
   "metadata": {
    "pycharm": {
     "name": "#%%\n"
    }
   },
   "outputs": [],
   "source": [
    "#Print your law filters\n",
    "laws"
   ]
  },
  {
   "cell_type": "code",
   "execution_count": null,
   "id": "2f6bf102",
   "metadata": {
    "pycharm": {
     "name": "#%%\n"
    }
   },
   "outputs": [],
   "source": [
    "ppp=[]\n",
    "fff= []\n",
    "\n",
    "for i in range(16):\n",
    "    f1 = cv2.filter2D(src=c, ddepth=-1, kernel= laws[i])\n",
    "    idx=f\"44{i+1}\"\n",
    "    # plt.subplot(4, 4, i+1, plt.imshow(f1), plt.axis('off') )\n",
    "    plt.subplot(4, 4, i+1)  # Starting from the second position\n",
    "    plt.imshow(f1)\n",
    "    plt.axis('off')\n",
    "    ppp.append(am_power(f1))\n",
    "    fff.append(f1)\n",
    "\n",
    "print('original image power c= ' , am_power(c) )\n",
    "for i in range(16):\n",
    "    print('power of c', i ,'th filter response=', ppp[i] )"
   ]
  },
  {
   "cell_type": "code",
   "execution_count": null,
   "id": "e8c2f2ad",
   "metadata": {
    "pycharm": {
     "name": "#%%\n"
    }
   },
   "outputs": [],
   "source": [
    "ppp=[]\n",
    "fff= []\n",
    "\n",
    "for i in range(16):\n",
    "    f1 = cv2.filter2D(src=d, ddepth=-1, kernel= laws[i])\n",
    "    idx=f\"44{i+1}\"\n",
    "    # plt.subplot(4, 4, i+1, plt.imshow(f1), plt.axis('off') )\n",
    "    plt.subplot(4, 4, i+1)  # Starting from the second position\n",
    "    plt.imshow(f1)\n",
    "    plt.axis('off')\n",
    "    ppp.append(am_power(f1))\n",
    "    fff.append(f1)\n",
    "\n",
    "print('original image power d= ' , am_power(d) )\n",
    "for i in range(16):\n",
    "    print('power of d', i ,'th filter response=', ppp[i] )\n",
    "\n"
   ]
  },
  {
   "cell_type": "markdown",
   "id": "8b55d131",
   "metadata": {
    "pycharm": {
     "name": "#%% md\n"
    }
   },
   "source": [
    "### part 3: \n",
    "1. Apply lowpass and highpass filters, hlp and hhp.\n",
    "2. compute the power of the filtered images and show them.\n",
    "3. Then down sample (or zoom‐out) x and y to 25% of the original size\n",
    "4. Utilize Open CV resize function and its INTER_LINEAR option. Resulting images are xd and yd. Repeat the process\n",
    "\n",
    "hlp                 \n",
    "\n",
    "[0.111,0.111,0.111]  \n",
    "\n",
    "[0.111,0.111,0.111]  \n",
    "    \n",
    "[0.111,0.111,0.111]  \n",
    "\n",
    "hhp\n",
    "\n",
    "[-1,-1,-1]\n",
    "\n",
    "[-1, 8,-1]\n",
    "\n",
    "[-1,-1,-1]\n",
    "\n"
   ]
  },
  {
   "cell_type": "code",
   "execution_count": null,
   "id": "c9123127",
   "metadata": {
    "pycharm": {
     "name": "#%%\n"
    }
   },
   "outputs": [],
   "source": [
    "x = cv2.imread('/Users/cx/Documents/GitHub/CS4243_2023_images_small/34.jpg',0)\n",
    "y = cv2.imread('/Users/cx/Documents/GitHub/CS4243_2023_images_small/68.JPG',0)\n",
    "\n",
    "print(x.shape , y.shape)"
   ]
  },
  {
   "cell_type": "code",
   "execution_count": null,
   "id": "10d6f6e1",
   "metadata": {
    "pycharm": {
     "name": "#%%\n"
    }
   },
   "outputs": [],
   "source": [
    "# showing the result\n",
    "plt.figure(figsize=(10, 5))\n",
    "plt.subplot(121), plt.imshow(x), plt.axis('off') \n",
    "plt.subplot(122), plt.imshow(y) , plt.axis('off')"
   ]
  },
  {
   "cell_type": "code",
   "execution_count": null,
   "id": "b6b39e14",
   "metadata": {
    "pycharm": {
     "name": "#%%\n"
    }
   },
   "outputs": [],
   "source": [
    "lp = np.ones((3,3)) * 0.111\n",
    "hp = -np.ones((3,3))\n",
    "hp[1,1]=8\n"
   ]
  },
  {
   "cell_type": "code",
   "execution_count": null,
   "id": "2a6fa5bb",
   "metadata": {
    "pycharm": {
     "name": "#%%\n"
    }
   },
   "outputs": [],
   "source": [
    "print(lp)\n",
    "print(hp)\n",
    "print('power of original x= %e' %(am_power(x)) )\n",
    "print('power of original y= %e' %(am_power(y)) )\n"
   ]
  },
  {
   "cell_type": "code",
   "execution_count": null,
   "id": "c27a33bb",
   "metadata": {
    "pycharm": {
     "name": "#%%\n"
    }
   },
   "outputs": [],
   "source": [
    "flpx = cv2.filter2D(src=x, ddepth=-1, kernel= lp)\n",
    "fhpx = cv2.filter2D(src=x, ddepth=-1, kernel= hp)\n",
    "\n",
    "flpy = cv2.filter2D(src=y, ddepth=-1, kernel= lp)\n",
    "fhpy = cv2.filter2D(src=y, ddepth=-1, kernel= hp)"
   ]
  },
  {
   "cell_type": "code",
   "execution_count": null,
   "id": "7d038f4b",
   "metadata": {
    "pycharm": {
     "name": "#%%\n"
    }
   },
   "outputs": [],
   "source": [
    "print('power of flpx= %e \\t Percentage: %5.2f' %(am_power(flpx) , am_power(flpx)/am_power(x)*100 ) )  \n",
    "print('power of fhpx= %e \\t Percentage: %5.2f' %(am_power(fhpx) , am_power(fhpx)/am_power(x)*100 ) )\n",
    "print('power of flpy= %e \\t Percentage: %5.2f' %(am_power(flpy) , am_power(flpy)/am_power(y)*100 ) )\n",
    "print('power of fhpy= %e \\t Percentage: %5.2f' %(am_power(fhpy) , am_power(fhpy)/am_power(y)*100 ) )\n"
   ]
  },
  {
   "cell_type": "code",
   "execution_count": null,
   "id": "7d5763a9",
   "metadata": {
    "pycharm": {
     "name": "#%%\n"
    }
   },
   "outputs": [],
   "source": [
    "fig.add_subplot(2,2,1) \n",
    "plt.imshow(flpx)\n",
    "plt.axis('off')\n",
    "plt.title(1)\n",
    "plt.show()\n",
    "fig.add_subplot(2,2,2) \n",
    "plt.imshow(flpy)\n",
    "plt.axis('off')\n",
    "plt.title(2)\n",
    "plt.show()\n",
    "fig.add_subplot(2,2,3) \n",
    "plt.imshow(fhpx)\n",
    "plt.axis('off')\n",
    "plt.title(3)\n",
    "plt.show()\n",
    "fig.add_subplot(2,2,4) \n",
    "plt.imshow(fhpy)\n",
    "plt.axis('off')\n",
    "plt.title(4)\n",
    "plt.show()\n"
   ]
  },
  {
   "cell_type": "code",
   "execution_count": null,
   "id": "3aa33609",
   "metadata": {
    "pycharm": {
     "name": "#%%\n"
    }
   },
   "outputs": [],
   "source": [
    "xd = cv2.resize(x, None,fx=0.25, fy=0.25 , interpolation = cv2.INTER_LINEAR) \n",
    "yd = cv2.resize(y, None,fx=0.25, fy=0.25 , interpolation = cv2.INTER_LINEAR) \n",
    "\n",
    "print( 'size & power:',xd.shape, am_power(xd) , yd.shape , am_power(yd) )"
   ]
  },
  {
   "cell_type": "code",
   "execution_count": null,
   "id": "856fb01d",
   "metadata": {
    "pycharm": {
     "name": "#%%\n"
    }
   },
   "outputs": [],
   "source": [
    "flpdx = cv2.filter2D(src=xd, ddepth=-1, kernel= lp)\n",
    "fhpdx = cv2.filter2D(src=xd, ddepth=-1, kernel= hp)\n",
    "\n",
    "flpdy = cv2.filter2D(src=yd, ddepth=-1, kernel= lp)\n",
    "fhpdy = cv2.filter2D(src=yd, ddepth=-1, kernel= hp)\n"
   ]
  },
  {
   "cell_type": "code",
   "execution_count": null,
   "id": "998641ca",
   "metadata": {
    "pycharm": {
     "name": "#%%\n"
    }
   },
   "outputs": [],
   "source": [
    "print('power of flpx= %e \\t Percentage: %5.2f' %(am_power(flpdx) , am_power(flpdx)/am_power(xd)*100 ) )\n",
    "print('power of fhpx= %e \\t Percentage: %5.2f' %(am_power(fhpdx) , am_power(fhpdx)/am_power(xd)*100 ) )\n",
    "print('power of flpy= %e \\t Percentage: %5.2f' %(am_power(flpdy) , am_power(flpdy)/am_power(yd)*100 ) )\n",
    "print('power of fhpy= %e \\t Percentage: %5.2f' %(am_power(fhpdy) , am_power(fhpdy)/am_power(yd)*100 ) )\n"
   ]
  },
  {
   "cell_type": "code",
   "execution_count": null,
   "id": "2318c23b",
   "metadata": {
    "pycharm": {
     "name": "#%%\n"
    }
   },
   "outputs": [],
   "source": [
    "fig.add_subplot(2,2,1) \n",
    "plt.imshow(flpdx)\n",
    "plt.axis('off')\n",
    "plt.title(1)\n",
    "plt.show()\n",
    "fig.add_subplot(2,2,2) \n",
    "plt.imshow(flpdy)\n",
    "plt.axis('off')\n",
    "plt.title(2)\n",
    "plt.show()\n",
    "fig.add_subplot(2,2,3) \n",
    "plt.imshow(fhpdx)\n",
    "plt.axis('off')\n",
    "plt.title(3)\n",
    "plt.show()\n",
    "fig.add_subplot(2,2,4) \n",
    "plt.imshow(fhpdy)\n",
    "plt.axis('off')\n",
    "plt.title(4)\n",
    "plt.show()\n"
   ]
  }
 ],
 "metadata": {
  "kernelspec": {
   "display_name": "Python 3 (ipykernel)",
   "language": "python",
   "name": "python3"
  },
  "language_info": {
   "codemirror_mode": {
    "name": "ipython",
    "version": 3
   },
   "file_extension": ".py",
   "mimetype": "text/x-python",
   "name": "python",
   "nbconvert_exporter": "python",
   "pygments_lexer": "ipython3",
   "version": "3.10.4"
  }
 },
 "nbformat": 4,
 "nbformat_minor": 5
}