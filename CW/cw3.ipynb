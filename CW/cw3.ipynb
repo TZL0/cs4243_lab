{
 "cells": [
  {
   "cell_type": "code",
   "execution_count": 1,
   "metadata": {
    "collapsed": true,
    "pycharm": {
     "name": "#%%\n"
    },
    "ExecuteTime": {
     "end_time": "2023-12-05T15:16:06.977109Z",
     "start_time": "2023-12-05T15:16:06.880412Z"
    }
   },
   "outputs": [
    {
     "data": {
      "text/plain": "(-0.5667307056816238,\n array([-0.12277351,  0.12277351]),\n array([[0.08894722, 0.08894722],\n        [0.12452611, 0.12452611]]),\n 0.1605918463811956,\n array([[ 0.99690555, -0.99690555],\n        [ 0.99690555, -0.99690555]]),\n array([-0.47326321,  0.50805297]))"
     },
     "execution_count": 1,
     "metadata": {},
     "output_type": "execute_result"
    }
   ],
   "source": [
    "import numpy as np\n",
    "\n",
    "# Given values\n",
    "x = np.array([0.5, 0.7])       # Inputs\n",
    "U = np.array([[1, -1], [1, -1]])  # Weights for first layer\n",
    "W = np.array([-0.5, 0.5])      # Weights for second layer\n",
    "target_y = 1                   # Target output\n",
    "learning_rate = 0.25           # Learning rate\n",
    "\n",
    "# Sigmoid activation function\n",
    "def sigmoid(x):\n",
    "    return 1 / (1 + np.exp(-x))\n",
    "\n",
    "# Forward pass\n",
    "f1 = sigmoid(U.T @ x)\n",
    "y = sigmoid(W @ f1)\n",
    "\n",
    "# Loss function (Mean Squared Error)\n",
    "L = 0.5 * (target_y - y) ** 2\n",
    "\n",
    "# Correct backward pass calculations\n",
    "\n",
    "# Gradient of the loss with respect to the output of the neural network\n",
    "dL_dy = -(target_y - y)\n",
    "\n",
    "# Gradient of the output with respect to the weights W\n",
    "dy_dW = f1 * y * (1 - y)\n",
    "\n",
    "# Gradient of the loss with respect to the weights W\n",
    "dL_dW = dL_dy * dy_dW\n",
    "\n",
    "# Update weights W\n",
    "W_new = W - learning_rate * dL_dW\n",
    "\n",
    "# Gradient of the output with respect to the hidden layer outputs f1\n",
    "dy_df1 = W * y * (1 - y)\n",
    "\n",
    "# Gradient of the hidden layer outputs with respect to the hidden layer weights U\n",
    "df1_dU = np.outer(x, (f1 * (1 - f1)))\n",
    "\n",
    "# Gradient of the loss with respect to the hidden layer weights U\n",
    "dL_dU = np.outer(dL_dy * dy_df1, f1 * (1 - f1))\n",
    "\n",
    "# Update weights U\n",
    "U_new = U - learning_rate * dL_dU.T\n",
    "\n",
    "# Output the loss, and the new weights for U and W\n",
    "dL_dy, dy_df1, df1_dU, L, U_new, W_new\n"
   ]
  }
 ],
 "metadata": {
  "kernelspec": {
   "display_name": "Python 3",
   "language": "python",
   "name": "python3"
  },
  "language_info": {
   "codemirror_mode": {
    "name": "ipython",
    "version": 2
   },
   "file_extension": ".py",
   "mimetype": "text/x-python",
   "name": "python",
   "nbconvert_exporter": "python",
   "pygments_lexer": "ipython2",
   "version": "2.7.6"
  }
 },
 "nbformat": 4,
 "nbformat_minor": 0
}
