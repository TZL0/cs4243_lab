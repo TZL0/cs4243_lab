{
 "cells": [
  {
   "cell_type": "code",
   "execution_count": 21,
   "id": "initial_id",
   "metadata": {
    "collapsed": true,
    "ExecuteTime": {
     "end_time": "2023-12-06T03:45:35.729289Z",
     "start_time": "2023-12-06T03:45:35.724863Z"
    }
   },
   "outputs": [
    {
     "name": "stdout",
     "output_type": "stream",
     "text": [
      "14.72 12.64\n",
      "13.92 10.68\n",
      "13.28 11.96\n",
      "15.68 14.32\n",
      "12.32 10.28\n",
      "16.96 12.4\n",
      "14.88 12.2\n",
      "15.2 14.36\n",
      "15.52 12.36\n",
      "12.8 11.84\n"
     ]
    }
   ],
   "source": [
    "import cv2\n",
    "import numpy as np\n",
    "\n",
    "def am_power(image):\n",
    "    return np.sum(image**2)/10000\n",
    "\n",
    "for i in range(10):\n",
    "    image = np.zeros((100, 100))\n",
    "    \n",
    "    # fill random 40 rows with 1\n",
    "    image[np.random.randint(0, 100, 40), :] = 1\n",
    "    \n",
    "    f1 = np.array([[-1, -2, -1],\n",
    "                        [0, 0, 0],\n",
    "                        [-1, -2, -1]])\n",
    "    f2 = np.array([[-1, 0, -1],\n",
    "                        [-2, 0, -2],\n",
    "                        [-1, 0, -1]])\n",
    "    # apply filter\n",
    "    image_f1 = cv2.filter2D(src=image, kernel=f1, ddepth=-1)\n",
    "    image_f2 = cv2.filter2D(src=image, kernel=f2, ddepth=-1)\n",
    "    print(am_power(image_f1), am_power(image_f2))\n"
   ]
  },
  {
   "cell_type": "code",
   "execution_count": 22,
   "outputs": [
    {
     "data": {
      "text/plain": "64"
     },
     "execution_count": 22,
     "metadata": {},
     "output_type": "execute_result"
    }
   ],
   "source": [
    "3+2+4+5+4+2+4+3+3+4+3+3+4+3+2+3+2+10"
   ],
   "metadata": {
    "collapsed": false,
    "ExecuteTime": {
     "end_time": "2023-12-06T03:54:23.398365Z",
     "start_time": "2023-12-06T03:54:23.385301Z"
    }
   },
   "id": "9fa5b8212fdbb810"
  }
 ],
 "metadata": {
  "kernelspec": {
   "display_name": "Python 3",
   "language": "python",
   "name": "python3"
  },
  "language_info": {
   "codemirror_mode": {
    "name": "ipython",
    "version": 2
   },
   "file_extension": ".py",
   "mimetype": "text/x-python",
   "name": "python",
   "nbconvert_exporter": "python",
   "pygments_lexer": "ipython2",
   "version": "2.7.6"
  }
 },
 "nbformat": 4,
 "nbformat_minor": 5
}
