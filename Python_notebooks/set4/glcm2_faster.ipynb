{
 "cells": [
  {
   "cell_type": "markdown",
   "id": "6f292a74",
   "metadata": {
    "pycharm": {
     "name": "#%% md\n"
    }
   },
   "source": [
    "## GLCM Example 2\n",
    "### CS4243, Amir, 2022"
   ]
  },
  {
   "cell_type": "code",
   "execution_count": 5,
   "id": "745587d9",
   "metadata": {
    "pycharm": {
     "name": "#%%\n"
    }
   },
   "outputs": [],
   "source": [
    "import math as m\n",
    "import cv2\n",
    "import numpy as np\n",
    "import random as rnd\n",
    "from matplotlib import pyplot as plt"
   ]
  },
  {
   "cell_type": "code",
   "execution_count": 6,
   "id": "6382e877",
   "metadata": {
    "pycharm": {
     "name": "#%%\n"
    }
   },
   "outputs": [],
   "source": [
    "# parameters, number of graylevels, distance and theta (GL,d,t)\n",
    "GL = 8\n",
    "d = 1\n",
    "t = 0"
   ]
  },
  {
   "cell_type": "code",
   "execution_count": 7,
   "id": "bde5fef5",
   "metadata": {
    "pycharm": {
     "name": "#%%\n"
    }
   },
   "outputs": [],
   "source": [
    "img = cv2.imread('/Users/tianze/cs4243_lab/CS4243_2023_images_small/IMG_8636q.jpg',0)\n"
   ]
  },
  {
   "cell_type": "code",
   "execution_count": 8,
   "id": "1080467f",
   "metadata": {
    "pycharm": {
     "name": "#%%\n"
    }
   },
   "outputs": [],
   "source": [
    "img = img[10:14,10:14]\n",
    "img = img / 16\n",
    "img = img.astype(int)"
   ]
  },
  {
   "cell_type": "code",
   "execution_count": 9,
   "id": "8e6acc7f",
   "metadata": {
    "pycharm": {
     "name": "#%%\n"
    }
   },
   "outputs": [
    {
     "name": "stdout",
     "output_type": "stream",
     "text": [
      "(4, 4) \t\t <class 'numpy.ndarray'>\n"
     ]
    }
   ],
   "source": [
    "print( img.shape , '\\t\\t', type(img) )"
   ]
  },
  {
   "cell_type": "code",
   "execution_count": 10,
   "id": "3d6e1cda",
   "metadata": {
    "pycharm": {
     "name": "#%%\n"
    }
   },
   "outputs": [
    {
     "data": {
      "text/plain": "<matplotlib.image.AxesImage at 0x12af46a40>"
     },
     "execution_count": 10,
     "metadata": {},
     "output_type": "execute_result"
    },
    {
     "data": {
      "text/plain": "<Figure size 640x480 with 1 Axes>",
      "image/png": "[encoded data removed]"
     },
     "metadata": {},
     "output_type": "display_data"
    }
   ],
   "source": [
    "plt.imshow(img, 'gray')"
   ]
  },
  {
   "cell_type": "code",
   "execution_count": 11,
   "id": "96a7161b",
   "metadata": {
    "pycharm": {
     "name": "#%%\n"
    }
   },
   "outputs": [
    {
     "data": {
      "text/plain": "array([[6, 6, 6, 6],\n       [7, 7, 7, 6],\n       [7, 7, 6, 6],\n       [6, 6, 6, 6]])"
     },
     "execution_count": 11,
     "metadata": {},
     "output_type": "execute_result"
    }
   ],
   "source": [
    "img"
   ]
  },
  {
   "cell_type": "code",
   "execution_count": 12,
   "id": "7c736532",
   "metadata": {
    "pycharm": {
     "name": "#%%\n"
    }
   },
   "outputs": [],
   "source": [
    "def am_glcm_faster( img , GL , d , t):\n",
    "    ccmm = np.zeros([GL, GL])\n",
    "    if t==0:\n",
    "        im_target = img[:,d:]\n",
    "        im_value = img[:,:-d]\n",
    "    elif t==45:\n",
    "        im_target = img[d:,d:]\n",
    "        im_value = img[:-d, :-d]\n",
    "    elif t==90:\n",
    "        im_target = img[d:,:]\n",
    "        im_value = img[:-d, :]\n",
    "    elif t==135:\n",
    "        im_target = img[:-d, :-d]\n",
    "        im_value = img[d:,d:]\n",
    "    else:\n",
    "        raise NotImplementedError('t options: 0, 45, 90, 135 only')\n",
    "    assert im_target.shape==im_value.shape\n",
    "    ref_gls = np.unique(im_value)\n",
    "    # print(ref_gls)\n",
    "    for ref in ref_gls:\n",
    "        target_values = im_target[im_value == ref]\n",
    "        target_gls = np.unique(target_values)\n",
    "        # print(target_gls)\n",
    "        for target in target_gls:\n",
    "            # print(target, target_values,(target_values==target).sum())\n",
    "            ccmm[ref, target] = (target_values==target).sum()\n",
    "    \n",
    "    return ccmm\n",
    "        \n"
   ]
  },
  {
   "cell_type": "code",
   "execution_count": 13,
   "id": "0c768368",
   "metadata": {
    "pycharm": {
     "name": "#%%\n"
    }
   },
   "outputs": [],
   "source": [
    "# function to extract 3 features from the glcm matrix. \n",
    "# input is the glcm matrix \n",
    "# output is maximum, energy, and inertia\n",
    "# definitions in the course slides\n",
    "#\n",
    "def glcm_feat( g11 ):\n",
    "    mxx = np.max(g11)\n",
    "    enrg = np.sum(np.multiply(g11,g11))\n",
    "    inrt = 0\n",
    "    M = g11.shape\n",
    "    for i in range(M[0]):\n",
    "        for j in range(M[1]):\n",
    "            inrt = inrt + (i-j)**2 * g11[i,j]\n",
    "    \n",
    "    return  mxx , enrg , inrt"
   ]
  },
  {
   "cell_type": "code",
   "execution_count": 14,
   "id": "e1957d52",
   "metadata": {
    "pycharm": {
     "name": "#%%\n"
    }
   },
   "outputs": [
    {
     "name": "stdout",
     "output_type": "stream",
     "text": [
      "(7.0, 62.0, 2.0)\n"
     ]
    },
    {
     "data": {
      "text/plain": "<matplotlib.image.AxesImage at 0x12b027910>"
     },
     "execution_count": 14,
     "metadata": {},
     "output_type": "execute_result"
    },
    {
     "data": {
      "text/plain": "<Figure size 640x480 with 1 Axes>",
      "image/png": "[encoded data removed]"
     },
     "metadata": {},
     "output_type": "display_data"
    }
   ],
   "source": [
    "ccmm = am_glcm_faster( img , GL , d , t)\n",
    "print( glcm_feat( ccmm ))\n",
    "plt.imshow(ccmm)"
   ]
  },
  {
   "cell_type": "code",
   "execution_count": 15,
   "id": "fcd78341",
   "metadata": {
    "pycharm": {
     "name": "#%%\n"
    }
   },
   "outputs": [
    {
     "name": "stdout",
     "output_type": "stream",
     "text": [
      "[[0. 0. 0. 0. 0. 0. 0. 0.]\n",
      " [0. 0. 0. 0. 0. 0. 0. 0.]\n",
      " [0. 0. 0. 0. 0. 0. 0. 0.]\n",
      " [0. 0. 0. 0. 0. 0. 0. 0.]\n",
      " [0. 0. 0. 0. 0. 0. 0. 0.]\n",
      " [0. 0. 0. 0. 0. 0. 0. 0.]\n",
      " [0. 0. 0. 0. 0. 0. 7. 0.]\n",
      " [0. 0. 0. 0. 0. 0. 2. 3.]]\n"
     ]
    }
   ],
   "source": [
    "print(ccmm)"
   ]
  },
  {
   "cell_type": "code",
   "execution_count": 16,
   "id": "8f79d2b8",
   "metadata": {
    "pycharm": {
     "name": "#%%\n"
    }
   },
   "outputs": [
    {
     "name": "stdout",
     "output_type": "stream",
     "text": [
      "(4.0, 26.0, 3.0)\n"
     ]
    },
    {
     "data": {
      "text/plain": "<matplotlib.image.AxesImage at 0x12f4d8d60>"
     },
     "execution_count": 16,
     "metadata": {},
     "output_type": "execute_result"
    },
    {
     "data": {
      "text/plain": "<Figure size 640x480 with 1 Axes>",
      "image/png": "[encoded data removed]"
     },
     "metadata": {},
     "output_type": "display_data"
    }
   ],
   "source": [
    "dddd_d10_0 = am_glcm_faster( img , GL ,2 , 0)\n",
    "print( glcm_feat( dddd_d10_0 ))\n",
    "plt.imshow(dddd_d10_0)"
   ]
  },
  {
   "cell_type": "code",
   "execution_count": 17,
   "id": "c585de73",
   "metadata": {
    "pycharm": {
     "name": "#%%\n"
    }
   },
   "outputs": [
    {
     "name": "stdout",
     "output_type": "stream",
     "text": [
      "[[0. 0. 0. 0. 0. 0. 0. 0.]\n",
      " [0. 0. 0. 0. 0. 0. 0. 0.]\n",
      " [0. 0. 0. 0. 0. 0. 0. 0.]\n",
      " [0. 0. 0. 0. 0. 0. 0. 0.]\n",
      " [0. 0. 0. 0. 0. 0. 0. 0.]\n",
      " [0. 0. 0. 0. 0. 0. 0. 0.]\n",
      " [0. 0. 0. 0. 0. 0. 4. 0.]\n",
      " [0. 0. 0. 0. 0. 0. 3. 1.]]\n"
     ]
    }
   ],
   "source": [
    "print(dddd_d10_0)"
   ]
  },
  {
   "cell_type": "code",
   "execution_count": 18,
   "id": "57f8574d",
   "metadata": {
    "pycharm": {
     "name": "#%%\n"
    }
   },
   "outputs": [
    {
     "name": "stdout",
     "output_type": "stream",
     "text": [
      "(4.0, 38.0, 6.0)\n"
     ]
    },
    {
     "data": {
      "text/plain": "<matplotlib.image.AxesImage at 0x12b0512a0>"
     },
     "execution_count": 18,
     "metadata": {},
     "output_type": "execute_result"
    },
    {
     "data": {
      "text/plain": "<Figure size 640x480 with 1 Axes>",
      "image/png": "[encoded data removed]"
     },
     "metadata": {},
     "output_type": "display_data"
    }
   ],
   "source": [
    "dddd_90 = am_glcm_faster( img , GL , d , 90)\n",
    "print( glcm_feat( dddd_90 ))\n",
    "plt.imshow(dddd_90)"
   ]
  },
  {
   "cell_type": "code",
   "execution_count": 19,
   "id": "eddd1cf9",
   "metadata": {
    "pycharm": {
     "name": "#%%\n"
    }
   },
   "outputs": [
    {
     "name": "stdout",
     "output_type": "stream",
     "text": [
      "(0.0, 0.0, 0.0)\n"
     ]
    },
    {
     "data": {
      "text/plain": "<matplotlib.image.AxesImage at 0x12f5a57e0>"
     },
     "execution_count": 19,
     "metadata": {},
     "output_type": "execute_result"
    },
    {
     "data": {
      "text/plain": "<Figure size 640x480 with 1 Axes>",
      "image/png": "[encoded data removed]"
     },
     "metadata": {},
     "output_type": "display_data"
    }
   ],
   "source": [
    "dddd_d5_90 = am_glcm_faster( img , GL , 5 , 90)\n",
    "print( glcm_feat( dddd_d5_90 ))\n",
    "plt.imshow(dddd_d5_90)"
   ]
  },
  {
   "cell_type": "code",
   "execution_count": 20,
   "id": "df4edf2a",
   "metadata": {
    "pycharm": {
     "name": "#%%\n"
    }
   },
   "outputs": [
    {
     "name": "stdout",
     "output_type": "stream",
     "text": [
      "(4.0, 25.0, 6.0)\n"
     ]
    },
    {
     "data": {
      "text/plain": "<matplotlib.image.AxesImage at 0x12f630700>"
     },
     "execution_count": 20,
     "metadata": {},
     "output_type": "execute_result"
    },
    {
     "data": {
      "text/plain": "<Figure size 640x480 with 1 Axes>",
      "image/png": "[encoded data removed]"
     },
     "metadata": {},
     "output_type": "display_data"
    }
   ],
   "source": [
    "dddd_45 = am_glcm_faster( img , GL , d , 45)\n",
    "print( glcm_feat( dddd_45 ))\n",
    "plt.imshow(dddd_45)"
   ]
  },
  {
   "cell_type": "code",
   "execution_count": 21,
   "id": "dbc0348c",
   "metadata": {
    "pycharm": {
     "name": "#%%\n"
    }
   },
   "outputs": [
    {
     "name": "stdout",
     "output_type": "stream",
     "text": [
      "(4.0, 25.0, 6.0)\n"
     ]
    },
    {
     "data": {
      "text/plain": "<matplotlib.image.AxesImage at 0x12f69f880>"
     },
     "execution_count": 21,
     "metadata": {},
     "output_type": "execute_result"
    },
    {
     "data": {
      "text/plain": "<Figure size 640x480 with 1 Axes>",
      "image/png": "[encoded data removed]"
     },
     "metadata": {},
     "output_type": "display_data"
    }
   ],
   "source": [
    "dddd_135 = am_glcm_faster( img , GL , d , 135)\n",
    "print( glcm_feat( dddd_135 ))\n",
    "plt.imshow(dddd_135)"
   ]
  },
  {
   "cell_type": "code",
   "execution_count": 22,
   "id": "6e5767e0",
   "metadata": {
    "pycharm": {
     "name": "#%%\n"
    }
   },
   "outputs": [
    {
     "name": "stderr",
     "output_type": "stream",
     "text": [
      "[ WARN:0@24.593] global loadsave.cpp:248 findDecoder imread_('..\\IMG_0054q.JPG'): can't open/read file: check file path/integrity\n"
     ]
    },
    {
     "ename": "TypeError",
     "evalue": "'NoneType' object is not subscriptable",
     "output_type": "error",
     "traceback": [
      "\u001B[0;31m---------------------------------------------------------------------------\u001B[0m",
      "\u001B[0;31mTypeError\u001B[0m                                 Traceback (most recent call last)",
      "Cell \u001B[0;32mIn[22], line 5\u001B[0m\n\u001B[1;32m      3\u001B[0m t\u001B[38;5;241m=\u001B[39m \u001B[38;5;241m45\u001B[39m\n\u001B[1;32m      4\u001B[0m img \u001B[38;5;241m=\u001B[39m cv2\u001B[38;5;241m.\u001B[39mimread(\u001B[38;5;124m'\u001B[39m\u001B[38;5;124m..\u001B[39m\u001B[38;5;130;01m\\\\\u001B[39;00m\u001B[38;5;124mIMG_0054q.JPG\u001B[39m\u001B[38;5;124m'\u001B[39m,\u001B[38;5;241m0\u001B[39m)\n\u001B[0;32m----> 5\u001B[0m ccmm_full \u001B[38;5;241m=\u001B[39m \u001B[43mam_glcm_faster\u001B[49m\u001B[43m(\u001B[49m\u001B[43m \u001B[49m\u001B[43mimg\u001B[49m\u001B[43m \u001B[49m\u001B[43m,\u001B[49m\u001B[43m \u001B[49m\u001B[43mGL\u001B[49m\u001B[43m \u001B[49m\u001B[43m,\u001B[49m\u001B[43m \u001B[49m\u001B[43md\u001B[49m\u001B[43m \u001B[49m\u001B[43m,\u001B[49m\u001B[43m \u001B[49m\u001B[43mt\u001B[49m\u001B[43m \u001B[49m\u001B[43m)\u001B[49m\n\u001B[1;32m      6\u001B[0m \u001B[38;5;28mprint\u001B[39m( glcm_feat( ccmm_full ))\n\u001B[1;32m      7\u001B[0m plt\u001B[38;5;241m.\u001B[39mimshow(ccmm_full)\n",
      "Cell \u001B[0;32mIn[12], line 7\u001B[0m, in \u001B[0;36mam_glcm_faster\u001B[0;34m(img, GL, d, t)\u001B[0m\n\u001B[1;32m      5\u001B[0m     im_value \u001B[38;5;241m=\u001B[39m img[:,:\u001B[38;5;241m-\u001B[39md]\n\u001B[1;32m      6\u001B[0m \u001B[38;5;28;01melif\u001B[39;00m t\u001B[38;5;241m==\u001B[39m\u001B[38;5;241m45\u001B[39m:\n\u001B[0;32m----> 7\u001B[0m     im_target \u001B[38;5;241m=\u001B[39m \u001B[43mimg\u001B[49m\u001B[43m[\u001B[49m\u001B[43md\u001B[49m\u001B[43m:\u001B[49m\u001B[43m,\u001B[49m\u001B[43md\u001B[49m\u001B[43m:\u001B[49m\u001B[43m]\u001B[49m\n\u001B[1;32m      8\u001B[0m     im_value \u001B[38;5;241m=\u001B[39m img[:\u001B[38;5;241m-\u001B[39md, :\u001B[38;5;241m-\u001B[39md]\n\u001B[1;32m      9\u001B[0m \u001B[38;5;28;01melif\u001B[39;00m t\u001B[38;5;241m==\u001B[39m\u001B[38;5;241m90\u001B[39m:\n",
      "\u001B[0;31mTypeError\u001B[0m: 'NoneType' object is not subscriptable"
     ]
    }
   ],
   "source": [
    "GL = 256\n",
    "d=2\n",
    "t= 45\n",
    "img = cv2.imread('..\\\\IMG_0054q.JPG',0)\n",
    "ccmm_full = am_glcm_faster( img , GL , d , t )\n",
    "print( glcm_feat( ccmm_full ))\n",
    "plt.imshow(ccmm_full) "
   ]
  },
  {
   "cell_type": "code",
   "execution_count": null,
   "id": "55667b33",
   "metadata": {
    "pycharm": {
     "name": "#%%\n"
    }
   },
   "outputs": [],
   "source": [
    "M = ccmm_full.shape\n",
    "# 3d plot of ideal low pass filter\n",
    "fig, ax = plt.subplots(subplot_kw={\"projection\": \"3d\"}, figsize=(20,10))\n",
    "xv, yv = np.meshgrid(range(M[0]), range(M[1]), indexing='ij')\n",
    "ax.plot_surface(xv,yv,ccmm_full,cmap='coolwarm',linewidth=0)"
   ]
  },
  {
   "cell_type": "code",
   "execution_count": null,
   "id": "efb75723",
   "metadata": {
    "pycharm": {
     "name": "#%%\n"
    }
   },
   "outputs": [],
   "source": [
    "aa = np.array( [ [0,0,1,1] , [0,0,1,1] , [0,2,2,2] , [2,2,3,3]] )\n",
    "aa_glcm = am_glcm_faster( aa , 4 , 1 , 0 )\n",
    "print(aa_glcm , '\\n\\n===========\\n')\n",
    "print( glcm_feat( aa_glcm ))"
   ]
  },
  {
   "cell_type": "code",
   "execution_count": null,
   "id": "a640134b",
   "metadata": {
    "pycharm": {
     "name": "#%%\n"
    }
   },
   "outputs": [],
   "source": [
    "aa_glcm = am_glcm_faster( aa , 4 , 1 , 90 )\n",
    "print(aa_glcm , '\\n\\n===========\\n')\n",
    "print( glcm_feat( aa_glcm ))"
   ]
  },
  {
   "cell_type": "code",
   "execution_count": null,
   "id": "f785e402",
   "metadata": {
    "pycharm": {
     "name": "#%%\n"
    }
   },
   "outputs": [],
   "source": [
    "# function to compute the entropy of an image. \n",
    "# nimg is the input image and N is the number of graylevels, default is 256\n",
    "# nimg is supposed to be a graylevel image.\n",
    "#\n",
    "def am_entropy(nimg , N=256):\n",
    "    M = nimg.shape\n",
    "    ssz = M[0] * M[1]\n",
    "    hist,bins = np.histogram(nimg.flatten(),N,[0,N])\n",
    "    hist = hist / ssz\n",
    "    ent = -np.sum( hist * np.log2(hist+0.000001))\n",
    "    return ent\n"
   ]
  },
  {
   "cell_type": "code",
   "execution_count": null,
   "id": "f19061ae",
   "metadata": {
    "pycharm": {
     "name": "#%%\n"
    }
   },
   "outputs": [],
   "source": [
    "# function to extract 4 features from the glcm matrix. \n",
    "# input is the glcm matrix \n",
    "# output is maximum, energy, and inertia\n",
    "# definitions in the course slides\n",
    "# v2, amir 2023\n",
    "#\n",
    "def glcm_feat2( g11 ):\n",
    "    f1_mxx = np.max(g11)\n",
    "    f2_enrg = np.sum(np.multiply(g11,g11))\n",
    "    \n",
    "    f6_inrt = 0\n",
    "    M = g11.shape\n",
    "    for i in range(M[0]):\n",
    "        for j in range(M[1]):\n",
    "            f6_inrt = f6_inrt + (i-j)**2 * g11[i,j]\n",
    "    \n",
    "    f3_entropy = am_entropy( g11 , f1_mxx )\n",
    "    \n",
    "    f4_corr=0 \n",
    "    \n",
    "    \n",
    "    return  f1_mxx , f2_enrg , f3_entropy , f6_inrt"
   ]
  }
 ],
 "metadata": {
  "kernelspec": {
   "display_name": "Python 3 (ipykernel)",
   "language": "python",
   "name": "python3"
  },
  "language_info": {
   "codemirror_mode": {
    "name": "ipython",
    "version": 3
   },
   "file_extension": ".py",
   "mimetype": "text/x-python",
   "name": "python",
   "nbconvert_exporter": "python",
   "pygments_lexer": "ipython3",
   "version": "3.8.16"
  },
  "vscode": {
   "interpreter": {
    "hash": "74a5f64ddd9e28f76452a947b7c216155d372e82d4ef5e83e3a46c003e8ae6ee"
   }
  }
 },
 "nbformat": 4,
 "nbformat_minor": 5
}