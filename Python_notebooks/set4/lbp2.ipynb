{
 "cells": [
  {
   "cell_type": "markdown",
   "id": "d176c88c",
   "metadata": {},
   "source": [
    "## Local Binary Pattern Example 2\n",
    "### CS4243, Amir, 2022"
   ]
  },
  {
   "cell_type": "code",
   "execution_count": 1,
   "id": "1406beba",
   "metadata": {},
   "outputs": [],
   "source": [
    "import math as m\n",
    "import cv2\n",
    "import numpy as np\n",
    "import random as rnd\n",
    "from matplotlib import pyplot as plt"
   ]
  },
  {
   "cell_type": "code",
   "execution_count": 2,
   "id": "6b64a6c1",
   "metadata": {},
   "outputs": [],
   "source": [
    "#img = cv2.imread('IMG_0054.JPG',0)\n",
    "img = np.array( [ [1,1,1,1,1] , [1,1,1,1,1] , [12,12,12,12,12] ,\n",
    "                 [12,12,12,12,12] , [12,12,12,12,12] ] )"
   ]
  },
  {
   "cell_type": "code",
   "execution_count": 3,
   "id": "6c8e75f8",
   "metadata": {},
   "outputs": [],
   "source": [
    "# function to compute the power of an image, ither RGb or graylevel\n",
    "def am_power2(a):\n",
    "    dim1 = a.shape\n",
    "    \n",
    "    if len(dim1)==2:\n",
    "        sz = dim1[0] * dim1[1] \n",
    "    elif len(dim1)==3:\n",
    "        sz = dim1[0] * dim1[1] * dim1[2]        \n",
    "    pa = np.sum( a ** 2.0) / sz    \n",
    "    \n",
    "    return pa"
   ]
  },
  {
   "cell_type": "code",
   "execution_count": 4,
   "id": "9245d77d",
   "metadata": {},
   "outputs": [],
   "source": [
    "# showing the result\n",
    "cv2.imshow(\"The Image\" , np.uint8(img) )\n"
   ]
  },
  {
   "cell_type": "code",
   "execution_count": 5,
   "id": "c490d5b8",
   "metadata": {},
   "outputs": [],
   "source": [
    "# function that provides the standard lbp of a pixel\n",
    "# it uses the definition mentioned in the course slides\n",
    "# a is the image matrix, <x,y> is the position of the target pixel, returned value, ans\n",
    "# is the lbp of that pixel. \n",
    "#\n",
    "def lbpmask(a,x,y):\n",
    "    k = [1,2,4, 128,0,8, 64,32,16]\n",
    "    kk=0\n",
    "    ans=0\n",
    "    for i in range(x-1,x+2):\n",
    "        for j in range(y-1,y+2):\n",
    "            ans += (a[i,j] >= a[x,y])*k[kk]\n",
    "            kk += 1\n",
    "    \n",
    "    return ans"
   ]
  },
  {
   "cell_type": "code",
   "execution_count": 6,
   "id": "a293fc09",
   "metadata": {},
   "outputs": [],
   "source": [
    "# the main LBP function \n",
    "# input: the image matrix img, outputs: lbp result, lbp's histogram, and power\n",
    "# first/last row/col of lbp matrix is 0, we compute the lbp for pixels between [1:M[0]-1 , 1:M[1]-1]\n",
    "#\n",
    "def am_lbp(img):\n",
    "    M = img.shape\n",
    "    lbpres = np.zeros(M)\n",
    "    for i in range(1,M[0]-1):\n",
    "        for j in range(1,M[1]-1):\n",
    "            lbpres[i,j] = lbpmask(img,i,j)\n",
    "            \n",
    "    hist1,_ = np.histogram(lbpres.flatten(),256,[0,256])\n",
    "    pow1 = am_power2(lbpres)\n",
    "\n",
    "    return lbpres , hist1 , pow1\n"
   ]
  },
  {
   "cell_type": "code",
   "execution_count": 7,
   "id": "74fbc8e0",
   "metadata": {},
   "outputs": [],
   "source": [
    "# calling the function\n",
    "lbpres , hist2 , pow2 = am_lbp( img )"
   ]
  },
  {
   "cell_type": "code",
   "execution_count": 8,
   "id": "6d21104e",
   "metadata": {},
   "outputs": [
    {
     "data": {
      "image/png": "[encoded data removed]",
      "text/plain": [
       "<Figure size 640x480 with 1 Axes>"
      ]
     },
     "metadata": {},
     "output_type": "display_data"
    }
   ],
   "source": [
    "# LBP histogram \n",
    "#\n",
    "\n",
    "plt.plot(range(256) , hist2)\n",
    "plt.xlim([0,256])\n",
    "plt.show()"
   ]
  },
  {
   "cell_type": "code",
   "execution_count": 9,
   "id": "33ccc8de",
   "metadata": {},
   "outputs": [
    {
     "name": "stdout",
     "output_type": "stream",
     "text": [
      "[[  0.   0.   0.   0.   0.]\n",
      " [  0. 255. 255. 255.   0.]\n",
      " [  0. 248. 248. 248.   0.]\n",
      " [  0. 255. 255. 255.   0.]\n",
      " [  0.   0.   0.   0.   0.]]\n",
      "========================\n",
      "[16  0  0  0  0  0  0  0  0  0  0  0  0  0  0  0  0  0  0  0  0  0  0  0\n",
      "  0  0  0  0  0  0  0  0  0  0  0  0  0  0  0  0  0  0  0  0  0  0  0  0\n",
      "  0  0  0  0  0  0  0  0  0  0  0  0  0  0  0  0  0  0  0  0  0  0  0  0\n",
      "  0  0  0  0  0  0  0  0  0  0  0  0  0  0  0  0  0  0  0  0  0  0  0  0\n",
      "  0  0  0  0  0  0  0  0  0  0  0  0  0  0  0  0  0  0  0  0  0  0  0  0\n",
      "  0  0  0  0  0  0  0  0  0  0  0  0  0  0  0  0  0  0  0  0  0  0  0  0\n",
      "  0  0  0  0  0  0  0  0  0  0  0  0  0  0  0  0  0  0  0  0  0  0  0  0\n",
      "  0  0  0  0  0  0  0  0  0  0  0  0  0  0  0  0  0  0  0  0  0  0  0  0\n",
      "  0  0  0  0  0  0  0  0  0  0  0  0  0  0  0  0  0  0  0  0  0  0  0  0\n",
      "  0  0  0  0  0  0  0  0  0  0  0  0  0  0  0  0  0  0  0  0  0  0  0  0\n",
      "  0  0  0  0  0  0  0  0  3  0  0  0  0  0  0  6]\n",
      "========================\n",
      "22986.48\n"
     ]
    }
   ],
   "source": [
    "print(lbpres)\n",
    "print('========================')\n",
    "print(hist2)\n",
    "print('========================')\n",
    "print(pow2)"
   ]
  },
  {
   "cell_type": "code",
   "execution_count": 10,
   "id": "ed64d448",
   "metadata": {},
   "outputs": [],
   "source": [
    "# showing the result\n",
    "cv2.namedWindow(\"LBP\", cv2.WINDOW_NORMAL)\n",
    "cv2.imshow(\"LBP\" , np.uint8(lbpres))"
   ]
  },
  {
   "cell_type": "code",
   "execution_count": 11,
   "id": "54b24523",
   "metadata": {},
   "outputs": [],
   "source": [
    "cv2.waitKey(0)\n",
    "cv2.destroyAllWindows() "
   ]
  }
 ],
 "metadata": {
  "kernelspec": {
   "display_name": "Python 3 (ipykernel)",
   "language": "python",
   "name": "python3"
  },
  "language_info": {
   "codemirror_mode": {
    "name": "ipython",
    "version": 3
   },
   "file_extension": ".py",
   "mimetype": "text/x-python",
   "name": "python",
   "nbconvert_exporter": "python",
   "pygments_lexer": "ipython3",
   "version": "3.8.16"
  }
 },
 "nbformat": 4,
 "nbformat_minor": 5
}
