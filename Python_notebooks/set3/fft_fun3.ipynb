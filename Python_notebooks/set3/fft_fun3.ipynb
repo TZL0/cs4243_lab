{
 "cells": [
  {
   "cell_type": "markdown",
   "id": "f0be50fe",
   "metadata": {},
   "source": [
    "# FFT Fun\n",
    "### CS4243"
   ]
  },
  {
   "cell_type": "code",
   "execution_count": 1,
   "id": "fe581ac4",
   "metadata": {},
   "outputs": [],
   "source": [
    "import numpy as np\n",
    "import cv2 as cv\n",
    "from matplotlib import pyplot as plt\n"
   ]
  },
  {
   "cell_type": "code",
   "execution_count": 2,
   "id": "47cbef99",
   "metadata": {},
   "outputs": [
    {
     "name": "stdout",
     "output_type": "stream",
     "text": [
      "(788, 1400) <class 'numpy.ndarray'> (72813706+7.312337402254343e-10j)\n"
     ]
    }
   ],
   "source": [
    "# read the image, 0 means reading as gray level\n",
    "gray = cv.imread(\"..\\\\6ae-007.jpg\", 0)\n",
    "\n",
    "# Fourier transform\n",
    "# output, img_dft, is a complex matrix of the image size\n",
    "img_dft = np.fft.fft2(gray)\n",
    "\n",
    "print(img_dft.shape , type(img_dft), img_dft[0,0])\n"
   ]
  },
  {
   "cell_type": "code",
   "execution_count": 3,
   "id": "90aa70af",
   "metadata": {},
   "outputs": [],
   "source": [
    "# filtering \n",
    "\n",
    "# finding the filter matrix size\n",
    "M = gray.shape\n",
    "# computing absolute or magnitude or power spectrum and phase of the FFT of the image\n",
    "dft_abs = np.abs(img_dft)\n",
    "dft_phase = np.angle(img_dft) + np.random.rand(M[0],M[1]) * 3\n",
    "\n",
    "# filtering, element wise multiplication\n",
    "\n",
    "# building the complext matrix after filtering \n",
    "z = np.multiply ( dft_abs , np.exp((1j)*(dft_phase)) )\n"
   ]
  },
  {
   "cell_type": "code",
   "execution_count": null,
   "id": "76f90068",
   "metadata": {},
   "outputs": [],
   "source": []
  },
  {
   "cell_type": "code",
   "execution_count": 4,
   "id": "5e4f5c35",
   "metadata": {},
   "outputs": [],
   "source": [
    "# inverset fft, image is back to the spatial domain, abs is necessary since the output of\n",
    "# inverse fourier, ifft, is complex\n",
    "#\n",
    "ifimg = np.fft.ifft2(z)  # Fourier library function call\n",
    "ifimg = np.abs(ifimg)\n",
    "\n",
    "# showing the result\n",
    "cv.imshow(\"Filtering Results\",np.uint8(ifimg))\n",
    "cv.imshow(\"Original Image\",gray)\n",
    "\n",
    "cv.waitKey(0)\n",
    "cv.destroyAllWindows()"
   ]
  },
  {
   "cell_type": "code",
   "execution_count": null,
   "id": "6b5a0bff",
   "metadata": {},
   "outputs": [],
   "source": []
  }
 ],
 "metadata": {
  "kernelspec": {
   "display_name": "Python 3 (ipykernel)",
   "language": "python",
   "name": "python3"
  },
  "language_info": {
   "codemirror_mode": {
    "name": "ipython",
    "version": 3
   },
   "file_extension": ".py",
   "mimetype": "text/x-python",
   "name": "python",
   "nbconvert_exporter": "python",
   "pygments_lexer": "ipython3",
   "version": "3.8.16"
  }
 },
 "nbformat": 4,
 "nbformat_minor": 5
}
