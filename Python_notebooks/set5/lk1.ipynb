{
 "cells": [
  {
   "cell_type": "markdown",
   "id": "47932172",
   "metadata": {
    "pycharm": {
     "name": "#%% md\n"
    }
   },
   "source": [
    "# Lucas Kanade Example"
   ]
  },
  {
   "cell_type": "markdown",
   "id": "3af8a95e",
   "metadata": {
    "pycharm": {
     "name": "#%% md\n"
    }
   },
   "source": [
    "### In this code:\n",
    "\n",
    "1. We start by capturing video frames from a video file (you can also use a camera).\n",
    "2. We track feature points using the Lucas-Kanade algorithm in the lucas_kanade_point_tracking function.\n",
    "3. We draw the tracked points and the motion vectors on each frame.\n",
    "4. The tracking continues until you press the 'Esc' key to exit the application.\n",
    "\n",
    "- Make sure to replace 'video.mp4' with the path to your video file or configure the code to use your camera as the video source. \n",
    "- You may also need to adjust the parameters for good feature point detection (cv2.goodFeaturesToTrack) to suit your specific tracking needs."
   ]
  },
  {
   "cell_type": "code",
   "execution_count": 1,
   "id": "6a2aa246",
   "metadata": {
    "pycharm": {
     "name": "#%%\n"
    }
   },
   "outputs": [],
   "source": [
    "import cv2\n",
    "import numpy as np\n"
   ]
  },
  {
   "cell_type": "code",
   "execution_count": 2,
   "id": "fff97c96",
   "metadata": {
    "pycharm": {
     "name": "#%%\n"
    }
   },
   "outputs": [],
   "source": [
    "\n",
    "def lucas_kanade_point_tracking(prev_frame, curr_frame, prev_points):\n",
    "    # Parameters for Lucas-Kanade optical flow\n",
    "    lk_params = dict(winSize=(15, 15),\n",
    "                     maxLevel=2,\n",
    "                     criteria=(cv2.TERM_CRITERIA_EPS | cv2.TERM_CRITERIA_COUNT, 10, 0.03))\n",
    "\n",
    "    # Calculate optical flow using Lucas-Kanade\n",
    "    next_points, status, _ = cv2.calcOpticalFlowPyrLK(prev_frame, curr_frame, prev_points, None, **lk_params)\n",
    "    status = status.ravel()\n",
    "    # Filter out the points with status=1 (successfully tracked)\n",
    "    prev_points = prev_points[status == 1]\n",
    "    next_points = next_points[status == 1]\n",
    "\n",
    "    return prev_points, next_points\n"
   ]
  },
  {
   "cell_type": "code",
   "execution_count": 5,
   "id": "3432fda5",
   "metadata": {
    "pycharm": {
     "name": "#%%\n"
    }
   },
   "outputs": [],
   "source": [
    "# Load video or capture frames from a camera\n",
    "cap = cv2.VideoCapture('OF_samples/10231.mp4')\n",
    "\n",
    "# Read the first frame\n",
    "ret, prev_frame = cap.read()\n",
    "prev_gray = cv2.cvtColor(prev_frame, cv2.COLOR_BGR2GRAY)\n",
    "\n",
    "# Define initial points to track (e.g., use cv2.goodFeaturesToTrack)\n",
    "prev_points = cv2.goodFeaturesToTrack(prev_gray, maxCorners=100, qualityLevel=0.3, minDistance=7)\n",
    "\n",
    "while True:\n",
    "    ret, curr_frame = cap.read()\n",
    "    if not ret:\n",
    "        break\n",
    "\n",
    "    curr_gray = cv2.cvtColor(curr_frame, cv2.COLOR_BGR2GRAY)\n",
    "\n",
    "    # Track points using Lucas-Kanade\n",
    "    prev_points, next_points = lucas_kanade_point_tracking(prev_gray, curr_gray, prev_points)\n",
    "\n",
    "    # Draw tracks on the current frame\n",
    "    for i, (prev, next) in enumerate(zip(prev_points, next_points)):\n",
    "        x1, y1 = prev.ravel()\n",
    "        x2, y2 = next.ravel()\n",
    "        cv2.line(curr_frame, (int(x1), int(y1)), (int(x2), int(y2)), (0, 0, 255), 2)\n",
    "        cv2.circle(curr_frame, (int(x2), int(y2)), 5, (0, 255, 0), -1) \n",
    "        \n",
    "    cv2.namedWindow(\"Optical Flow\", cv2.WINDOW_NORMAL)\n",
    "    cv2.imshow('Optical Flow', curr_frame)\n",
    "    if cv2.waitKey(0) & 0xFF == 27:  # Press 'Esc' to exit\n",
    "        break\n",
    "\n"
   ]
  },
  {
   "cell_type": "code",
   "execution_count": null,
   "id": "e9b8795e",
   "metadata": {
    "pycharm": {
     "name": "#%%\n"
    }
   },
   "outputs": [],
   "source": [
    "cap.release()\n",
    "cv2.destroyAllWindows()\n"
   ]
  }
 ],
 "metadata": {
  "kernelspec": {
   "display_name": "Python 3 (ipykernel)",
   "language": "python",
   "name": "python3"
  },
  "language_info": {
   "codemirror_mode": {
    "name": "ipython",
    "version": 3
   },
   "file_extension": ".py",
   "mimetype": "text/x-python",
   "name": "python",
   "nbconvert_exporter": "python",
   "pygments_lexer": "ipython3",
   "version": "3.8.16"
  }
 },
 "nbformat": 4,
 "nbformat_minor": 5
}