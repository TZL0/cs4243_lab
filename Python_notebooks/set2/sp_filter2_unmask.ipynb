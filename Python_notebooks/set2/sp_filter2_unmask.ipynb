{
 "cells": [
  {
   "cell_type": "markdown",
   "id": "11d3b7be",
   "metadata": {},
   "source": [
    "## Convolution Example 2 ,, ### Unsharp Masking"
   ]
  },
  {
   "cell_type": "code",
   "execution_count": 1,
   "id": "9f7c311f",
   "metadata": {},
   "outputs": [],
   "source": [
    "import cv2\n",
    "import numpy as np"
   ]
  },
  {
   "cell_type": "code",
   "execution_count": 2,
   "id": "9966ee76",
   "metadata": {},
   "outputs": [],
   "source": [
    "image = cv2.imread('..\\\\20220406_120328gl.jpg')\n",
    "# Print error message if image is null\n",
    "if image is None:\n",
    "    print('Could not read image')\n",
    "# Apply identity kernel\n",
    "lp1 = np.array([[.11, .11, .11],\n",
    "                    [.11, .11, .11],\n",
    "                    [.11, .11, .11]] )  \n",
    "lp2=np.array([[0.25,0.25],[0.25,0.25]])\n",
    "lp3 = np.ones([7,7]) / 49.0\n",
    "\n",
    "hp1 = np.array( [[-1 , -1],[1 , 1]] )"
   ]
  },
  {
   "cell_type": "code",
   "execution_count": 3,
   "id": "5aeaef37",
   "metadata": {},
   "outputs": [
    {
     "data": {
      "text/plain": [
       "32"
      ]
     },
     "execution_count": 3,
     "metadata": {},
     "output_type": "execute_result"
    }
   ],
   "source": [
    "# Unsharp masking 1\n",
    "b = cv2.filter2D(src=image, ddepth=-1, kernel=lp3)\n",
    "b = cv2.filter2D(src=b, ddepth=-1, kernel=lp3)\n",
    "b = cv2.filter2D(src=b, ddepth=-1, kernel=lp3)\n",
    "b = cv2.filter2D(src=b, ddepth=-1, kernel=lp3)\n",
    "b = cv2.filter2D(src=b, ddepth=-1, kernel=lp3)\n",
    "\n",
    "b = cv2.filter2D(src=b, ddepth=-1, kernel=lp1)\n",
    "\n",
    "cv2.namedWindow(\"Original\", cv2.WINDOW_NORMAL)\n",
    "cv2.imshow('Original', image)\n",
    "cv2.namedWindow(\"Filtered\", cv2.WINDOW_NORMAL)\n",
    "cv2.imshow('Filtered', b)\n",
    "\n",
    "uma = image - b \n",
    "cv2.namedWindow(\"UMasking\", cv2.WINDOW_NORMAL)\n",
    "cv2.imshow('UMasking', np.uint8(uma))\n",
    "cv2.waitKey() \n"
   ]
  },
  {
   "cell_type": "code",
   "execution_count": 4,
   "id": "9e3f8eca",
   "metadata": {},
   "outputs": [
    {
     "data": {
      "text/plain": [
       "32"
      ]
     },
     "execution_count": 4,
     "metadata": {},
     "output_type": "execute_result"
    }
   ],
   "source": [
    "# Unsharp masking 2\n",
    "b = cv2.filter2D(src=image, ddepth=-1, kernel=lp3)\n",
    "#b = cv2.filter2D(src=image, ddepth=-1, kernel=lp3)\n",
    "#b = cv2.filter2D(src=image, ddepth=-1, kernel=lp3)\n",
    "\n",
    "c = cv2.filter2D(src=b, ddepth=-1, kernel=lp1)\n",
    "\n",
    "uma = b - c \n",
    "cv2.namedWindow(\"UMasking 2\", cv2.WINDOW_NORMAL)\n",
    "cv2.imshow('UMasking 2', np.uint8(uma))\n",
    "cv2.waitKey() \n"
   ]
  },
  {
   "cell_type": "code",
   "execution_count": 5,
   "id": "735a1c7d",
   "metadata": {},
   "outputs": [],
   "source": [
    "cv2.destroyAllWindows()"
   ]
  }
 ],
 "metadata": {
  "kernelspec": {
   "display_name": "Python 3 (ipykernel)",
   "language": "python",
   "name": "python3"
  },
  "language_info": {
   "codemirror_mode": {
    "name": "ipython",
    "version": 3
   },
   "file_extension": ".py",
   "mimetype": "text/x-python",
   "name": "python",
   "nbconvert_exporter": "python",
   "pygments_lexer": "ipython3",
   "version": "3.8.16"
  }
 },
 "nbformat": 4,
 "nbformat_minor": 5
}
