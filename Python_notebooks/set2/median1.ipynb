{
 "cells": [
  {
   "cell_type": "code",
   "execution_count": 1,
   "id": "57840d18",
   "metadata": {},
   "outputs": [],
   "source": [
    "## Median Filtering Example"
   ]
  },
  {
   "cell_type": "code",
   "execution_count": 2,
   "id": "5596626f",
   "metadata": {},
   "outputs": [],
   "source": [
    "import cv2\n",
    "import numpy as np\n"
   ]
  },
  {
   "cell_type": "code",
   "execution_count": 3,
   "id": "5380d6ab",
   "metadata": {},
   "outputs": [
    {
     "name": "stdout",
     "output_type": "stream",
     "text": [
      "(1080, 1920, 3)\n"
     ]
    }
   ],
   "source": [
    "\n",
    "img = cv2.imread('..\\\\noisy_car5.jpg')\n",
    "# or noisy_car15.jpg , for that ksize-15\n",
    "print(img.shape)\n",
    "filteredImg = cv2.medianBlur(img, ksize=5)\n",
    "\n",
    "cv2.imshow('Original image', img)\n",
    "cv2.imshow('Filtered image', filteredImg)\n",
    "\n",
    "cv2.waitKey()\n",
    "cv2.destroyAllWindows()"
   ]
  },
  {
   "cell_type": "code",
   "execution_count": null,
   "id": "387618f9",
   "metadata": {},
   "outputs": [],
   "source": []
  },
  {
   "cell_type": "code",
   "execution_count": null,
   "id": "983571c5",
   "metadata": {},
   "outputs": [],
   "source": []
  }
 ],
 "metadata": {
  "kernelspec": {
   "display_name": "Python 3 (ipykernel)",
   "language": "python",
   "name": "python3"
  },
  "language_info": {
   "codemirror_mode": {
    "name": "ipython",
    "version": 3
   },
   "file_extension": ".py",
   "mimetype": "text/x-python",
   "name": "python",
   "nbconvert_exporter": "python",
   "pygments_lexer": "ipython3",
   "version": "3.8.16"
  }
 },
 "nbformat": 4,
 "nbformat_minor": 5
}
