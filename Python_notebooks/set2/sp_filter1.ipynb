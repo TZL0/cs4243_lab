{
 "cells": [
  {
   "cell_type": "markdown",
   "id": "7b688ca6",
   "metadata": {},
   "source": [
    "## Convolution & Filtering, Example 1\n",
    "### 1. Filtering and convolution "
   ]
  },
  {
   "cell_type": "code",
   "execution_count": 1,
   "id": "9f7c311f",
   "metadata": {},
   "outputs": [],
   "source": [
    "# Libraries \n",
    "import cv2\n",
    "import numpy as np\n",
    "import scipy.signal as sig"
   ]
  },
  {
   "cell_type": "code",
   "execution_count": 2,
   "id": "f5799996",
   "metadata": {},
   "outputs": [],
   "source": [
    "# function to compute the power of an image, ither RGb or graylevel\n",
    "def am_power2(a):\n",
    "    dim1 = a.shape\n",
    "    if len(dim1)==2:\n",
    "        sz = dim1[0] * dim1[1] \n",
    "    else:\n",
    "        sz = dim1[0] * dim1[1] * dim1[2]\n",
    "    pa = np.sum( np.double(a)**2 )\n",
    "    pa = pa / sz\n",
    "    return pa "
   ]
  },
  {
   "cell_type": "code",
   "execution_count": 3,
   "id": "cd3cdebc",
   "metadata": {},
   "outputs": [],
   "source": [
    "b=np.asarray([[1,2,0,1,2],\n",
    "              [2,3,1,1,2],\n",
    "              [1,4,2,2,0],\n",
    "              [3,2,3,3,0],\n",
    "              [1,0,0,2,1]\n",
    "              ])\n",
    "\n",
    "w=np.asarray([[-1,0,0],\n",
    "              [1,1,2],\n",
    "              [2,1,0]])\n"
   ]
  },
  {
   "cell_type": "code",
   "execution_count": 4,
   "id": "0acfac37",
   "metadata": {},
   "outputs": [
    {
     "name": "stdout",
     "output_type": "stream",
     "text": [
      "b and w size:\n",
      "\n",
      " (5, 5) (3, 3)\n",
      "[[ 8  8 10]\n",
      " [10 12 11]\n",
      " [19 14 10]]\n"
     ]
    }
   ],
   "source": [
    "# print size of image and filter and results of convolution using 3 options/switches\n",
    "#\n",
    "print('b and w size:\\n\\n', b.shape , w.shape)\n",
    "print(sig.convolve2d(b,w,mode=\"valid\"))\n"
   ]
  },
  {
   "cell_type": "code",
   "execution_count": 5,
   "id": "4f035805",
   "metadata": {},
   "outputs": [
    {
     "name": "stdout",
     "output_type": "stream",
     "text": [
      "[[ 0  3  4  1  4]\n",
      " [ 6  8  8 10  6]\n",
      " [11 10 12 11  6]\n",
      " [14 19 14 10  6]\n",
      " [ 8 10 11  6  5]]\n"
     ]
    }
   ],
   "source": [
    "print(sig.convolve2d(b,w,mode=\"same\"))"
   ]
  },
  {
   "cell_type": "code",
   "execution_count": 6,
   "id": "dc2a282f",
   "metadata": {},
   "outputs": [
    {
     "name": "stdout",
     "output_type": "stream",
     "text": [
      "[[-1 -2  0 -1 -2  0  0]\n",
      " [-1  0  3  4  1  4  4]\n",
      " [ 3  6  8  8 10  6  4]\n",
      " [ 2 11 10 12 11  6  0]\n",
      " [ 4 14 19 14 10  6  0]\n",
      " [ 7  8 10 11  6  5  2]\n",
      " [ 2  1  0  4  4  1  0]]\n"
     ]
    }
   ],
   "source": [
    "print(sig.convolve2d(b,w , mode='full') )"
   ]
  },
  {
   "cell_type": "code",
   "execution_count": 7,
   "id": "882dc953",
   "metadata": {},
   "outputs": [],
   "source": [
    "### 2- Convolution and filtering of an image\n",
    "#### using opencv filter2D function "
   ]
  },
  {
   "cell_type": "code",
   "execution_count": 8,
   "id": "9966ee76",
   "metadata": {},
   "outputs": [],
   "source": [
    "# load the image\n",
    "image = cv2.imread('..\\\\guernica.jpg')\n",
    "\n",
    "# Print error message if image is null\n",
    "if image is None:\n",
    "    print('Could not read image')\n",
    "\n",
    "# filters / kernels \n",
    "kernel1 = np.array([[-1, -1, -1],\n",
    "                    [-1, 9, -1],\n",
    "                    [-1, -1, -1]]) \n",
    "\n",
    "lp1 = np.ones([2,2]) * 0.25\n",
    "lp2 = np.ones([7,7]) / 49 \n",
    "\n",
    "hp2 = np.array([[-1, 1], [1, -1]]) "
   ]
  },
  {
   "cell_type": "code",
   "execution_count": 9,
   "id": "698dc73c",
   "metadata": {},
   "outputs": [],
   "source": [
    "## opencv filter2D function\n",
    "## cv.filter2D(\tsrc, ddepth, kernel[, dst[, anchor[, delta[, borderType]]]]\t) ->\tdst\n",
    "## src = image, 2d or 3d   ,   ddepth = \n",
    "## kernel = filter"
   ]
  },
  {
   "cell_type": "code",
   "execution_count": 10,
   "id": "5aeaef37",
   "metadata": {},
   "outputs": [],
   "source": [
    "image2 = cv2.filter2D(src=image, ddepth=-1, kernel= lp1)\n",
    "cv2.namedWindow(\"Original\", cv2.WINDOW_NORMAL)\n",
    "cv2.imshow('Original', image)\n",
    "cv2.namedWindow(\"Filtered\", cv2.WINDOW_NORMAL)\n",
    "cv2.imshow('Filtered', image2)"
   ]
  },
  {
   "cell_type": "code",
   "execution_count": 11,
   "id": "e70b91e1",
   "metadata": {},
   "outputs": [
    {
     "name": "stdout",
     "output_type": "stream",
     "text": [
      "original and filterd image size= (1200, 3200, 3) (1200, 3200, 3)\n"
     ]
    }
   ],
   "source": [
    "print('original and filterd image size=', image.shape , image2.shape)"
   ]
  },
  {
   "cell_type": "code",
   "execution_count": 12,
   "id": "c00cc8f4",
   "metadata": {},
   "outputs": [
    {
     "data": {
      "text/plain": [
       "32"
      ]
     },
     "execution_count": 12,
     "metadata": {},
     "output_type": "execute_result"
    }
   ],
   "source": [
    "#diff = np.uint8(np.abs(image-image2))\n",
    "diff = np.uint8(image-image2) \n",
    "cv2.namedWindow(\"difference\", cv2.WINDOW_NORMAL)\n",
    "cv2.imshow('difference', diff)\n",
    "cv2.waitKey()"
   ]
  },
  {
   "cell_type": "code",
   "execution_count": 13,
   "id": "094a0afc",
   "metadata": {},
   "outputs": [
    {
     "name": "stdout",
     "output_type": "stream",
     "text": [
      "images power: original=  22017.342  ,  filtered=  21951.417  ,  difference=  23674.969\n"
     ]
    }
   ],
   "source": [
    "print( 'images power: original= %10.3f  ,  filtered= %10.3f  ,  difference= %10.3f' \n",
    "      %( am_power2(image) , am_power2( image2) , am_power2(diff)) )"
   ]
  },
  {
   "cell_type": "code",
   "execution_count": 14,
   "id": "735a1c7d",
   "metadata": {},
   "outputs": [],
   "source": [
    "cv2.destroyAllWindows()"
   ]
  }
 ],
 "metadata": {
  "kernelspec": {
   "display_name": "Python 3 (ipykernel)",
   "language": "python",
   "name": "python3"
  },
  "language_info": {
   "codemirror_mode": {
    "name": "ipython",
    "version": 3
   },
   "file_extension": ".py",
   "mimetype": "text/x-python",
   "name": "python",
   "nbconvert_exporter": "python",
   "pygments_lexer": "ipython3",
   "version": "3.8.16"
  }
 },
 "nbformat": 4,
 "nbformat_minor": 5
}
