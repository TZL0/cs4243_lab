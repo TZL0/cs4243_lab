{
 "cells": [
  {
   "cell_type": "markdown",
   "id": "85f5fc92",
   "metadata": {},
   "source": [
    "## Convolution Test ..."
   ]
  },
  {
   "cell_type": "code",
   "execution_count": 1,
   "id": "2128b4c1",
   "metadata": {},
   "outputs": [],
   "source": [
    "# Packages/ Libraries\n",
    "import cv2\n",
    "import numpy as np\n",
    "from matplotlib import pyplot as plt\n",
    "import scipy.signal as sig\n",
    "import torch\n",
    "from torch import nn\n",
    "import tensorflow as tf"
   ]
  },
  {
   "cell_type": "markdown",
   "id": "557d3ff3",
   "metadata": {},
   "source": [
    "### convolution for image processing / filtering \n",
    "#### filter size= 3x3 , using sig.convolve2d method and its 3 options\n",
    "#### "
   ]
  },
  {
   "cell_type": "code",
   "execution_count": 2,
   "id": "26cb386a",
   "metadata": {},
   "outputs": [
    {
     "name": "stdout",
     "output_type": "stream",
     "text": [
      "original: torch.Size([15, 15])\n",
      "full: (17, 17)\n",
      "same: (15, 15)\n",
      "valid: (13, 13)\n"
     ]
    }
   ],
   "source": [
    "#img = cv2.imread('1.png')\n",
    "#img = cv2.cvtColor(img , cv2.COLOR_BGR2GRAY)\n",
    "img = torch.rand(15,15)\n",
    "print('original:' , img.shape)\n",
    "\n",
    "h=np.asarray([[1,1,1],\n",
    "              [1,1,2],\n",
    "              [2,1,1]],dtype=np.uint8)\n",
    "\n",
    "b = sig.convolve2d(img,h,mode=\"full\")\n",
    "print('full:' , b.shape)\n",
    "\n",
    "b = sig.convolve2d(img,h,mode=\"same\")\n",
    "print('same:' , b.shape)\n",
    "\n",
    "b = sig.convolve2d(img,h,mode=\"valid\")\n",
    "print('valid:' , b.shape)"
   ]
  },
  {
   "cell_type": "markdown",
   "id": "fcdf31ac",
   "metadata": {},
   "source": [
    "#### filter size= 5x5 , using sig.convolve2d method and its 3 options\n",
    "#### "
   ]
  },
  {
   "cell_type": "code",
   "execution_count": 3,
   "id": "9abbb737",
   "metadata": {},
   "outputs": [
    {
     "name": "stdout",
     "output_type": "stream",
     "text": [
      "full: (19, 19)\n",
      "same: (15, 15)\n",
      "valid: (11, 11)\n"
     ]
    }
   ],
   "source": [
    "h=np.asarray(np.ones([5,5]))\n",
    "\n",
    "b = sig.convolve2d(img,h,mode=\"full\")\n",
    "print('full:' , b.shape)\n",
    "\n",
    "b = sig.convolve2d(img,h,mode=\"same\")\n",
    "print('same:' , b.shape)\n",
    "\n",
    "b = sig.convolve2d(img,h,mode=\"valid\")\n",
    "print('valid:' , b.shape)"
   ]
  },
  {
   "cell_type": "markdown",
   "id": "889885bc",
   "metadata": {},
   "source": [
    "## convolution for deep learning\n",
    "### a- in pytorch\n",
    "#### M = floor((N-F)/S)+1\n",
    "#### N=32 , F=3 , S=3 ==> M=10\n",
    "#### N=32 , F=2 , S=3 ==> M=11\n",
    "#### N=32 , F=3 , S=2 ==> M=15"
   ]
  },
  {
   "cell_type": "code",
   "execution_count": 4,
   "id": "b65cd6ed",
   "metadata": {},
   "outputs": [
    {
     "data": {
      "text/plain": [
       "torch.Size([1, 10, 10])"
      ]
     },
     "execution_count": 4,
     "metadata": {},
     "output_type": "execute_result"
    }
   ],
   "source": [
    "conv = nn.Conv2d(1,1,kernel_size=5 , stride=3, padding='valid')\n",
    "out = conv(torch.rand(1,32,32))\n",
    "out.shape"
   ]
  },
  {
   "cell_type": "code",
   "execution_count": 5,
   "id": "1fb8c614",
   "metadata": {},
   "outputs": [
    {
     "data": {
      "text/plain": [
       "torch.Size([1, 10, 10])"
      ]
     },
     "execution_count": 5,
     "metadata": {},
     "output_type": "execute_result"
    }
   ],
   "source": [
    "conv = nn.Conv2d(1,1,kernel_size=5 , stride=3)\n",
    "out = conv(torch.rand(1,32,32))\n",
    "out.shape"
   ]
  },
  {
   "cell_type": "code",
   "execution_count": 6,
   "id": "cebddef4",
   "metadata": {},
   "outputs": [
    {
     "data": {
      "text/plain": [
       "torch.Size([1, 10, 10])"
      ]
     },
     "execution_count": 6,
     "metadata": {},
     "output_type": "execute_result"
    }
   ],
   "source": [
    "conv = nn.Conv2d(1,1,kernel_size=3 , stride=3)\n",
    "out = conv(torch.rand(1,32,32))\n",
    "out.shape"
   ]
  },
  {
   "cell_type": "code",
   "execution_count": 7,
   "id": "8ea8edba",
   "metadata": {},
   "outputs": [
    {
     "data": {
      "text/plain": [
       "torch.Size([1, 15, 15])"
      ]
     },
     "execution_count": 7,
     "metadata": {},
     "output_type": "execute_result"
    }
   ],
   "source": [
    "conv = nn.Conv2d(1,1,kernel_size=3 , stride=2)\n",
    "out = conv(torch.rand(1,32,32))\n",
    "out.shape"
   ]
  },
  {
   "cell_type": "code",
   "execution_count": 8,
   "id": "daf158a7",
   "metadata": {},
   "outputs": [
    {
     "data": {
      "text/plain": [
       "torch.Size([1, 16, 16])"
      ]
     },
     "execution_count": 8,
     "metadata": {},
     "output_type": "execute_result"
    }
   ],
   "source": [
    "conv = nn.Conv2d(1,1,kernel_size=2 , stride=2)\n",
    "out = conv(torch.rand(1,32,32))\n",
    "out.shape"
   ]
  },
  {
   "cell_type": "code",
   "execution_count": 9,
   "id": "bc86264f",
   "metadata": {},
   "outputs": [
    {
     "data": {
      "text/plain": [
       "torch.Size([1, 11, 11])"
      ]
     },
     "execution_count": 9,
     "metadata": {},
     "output_type": "execute_result"
    }
   ],
   "source": [
    "conv = nn.Conv2d(1,1,kernel_size=2 , stride=3)\n",
    "out = conv(torch.rand(1,32,32))\n",
    "out.shape"
   ]
  },
  {
   "cell_type": "markdown",
   "id": "456c8d99",
   "metadata": {},
   "source": [
    "### b. in tensorflow \n",
    "### 1- valid \n",
    "#### M = floor((N-F)/S)+1\n",
    "#### N=32 , F=3 , S=1 ==> M=30  ( bkaz p=(F-1)/2 , N-2p = N-(F-1) = N-F+1 = floor((N-F)/1) + 1 ) \n",
    "#### N=32 , F=3 , S=2 ==> M=15\n",
    "#### N=32 , F=2 , S=2 ==> M=16\n",
    "#### N=32 , F=2 , S=3 ==> M=11\n",
    "# \n",
    "### 2- same \n",
    "#### M = floor((N+2p-F)/S)+1\n",
    "#### N=32 , F=3 , S=1 ==> M=33  ( bkaz p=(F-1)/2 , N+2p-F+1 = N+F-1-F+1 = N ) \n",
    "#### N=32 , F=3 , S=2 ==> M= 16\n",
    "#### N=32 , F=2 , S=3 ==> M=11\n",
    "#### N=32 , F=3 , S=3 ==> M=11\n",
    "#### N=37 , F=5 , S=4 ==> M=10\n",
    "\n"
   ]
  },
  {
   "cell_type": "code",
   "execution_count": 10,
   "id": "238fff09",
   "metadata": {},
   "outputs": [
    {
     "name": "stdout",
     "output_type": "stream",
     "text": [
      "(4, 30, 30, 2)\n"
     ]
    }
   ],
   "source": [
    "input_shape = (4,32,32,3)\n",
    "x = tf.random.normal(input_shape)\n",
    "y = tf.keras.layers.Conv2D(2, 3, strides=(1, 1), activation='relu', padding='valid' , input_shape=input_shape[1:])(x)\n",
    "print(y.shape)"
   ]
  },
  {
   "cell_type": "code",
   "execution_count": 11,
   "id": "b9fe12cf",
   "metadata": {},
   "outputs": [
    {
     "name": "stdout",
     "output_type": "stream",
     "text": [
      "(6, 32, 32, 2)\n"
     ]
    }
   ],
   "source": [
    "input_shape = (6, 32,32 , 3)\n",
    "x = tf.random.normal(input_shape)\n",
    "y = tf.keras.layers.Conv2D( 2, 3, strides=(1, 1), activation='relu', padding=\"same\", input_shape=input_shape[1:])(x)\n",
    "print(y.shape)"
   ]
  },
  {
   "cell_type": "code",
   "execution_count": 12,
   "id": "c26725dc",
   "metadata": {},
   "outputs": [
    {
     "name": "stdout",
     "output_type": "stream",
     "text": [
      "(4, 15, 15, 2)\n"
     ]
    }
   ],
   "source": [
    "input_shape = (4,32,32,3)\n",
    "x = tf.random.normal(input_shape)\n",
    "y = tf.keras.layers.Conv2D(2, 3, strides=(2,2), activation='relu', padding='valid' , input_shape=input_shape[1:])(x)\n",
    "print(y.shape)"
   ]
  },
  {
   "cell_type": "code",
   "execution_count": 13,
   "id": "dec2ec65",
   "metadata": {},
   "outputs": [
    {
     "name": "stdout",
     "output_type": "stream",
     "text": [
      "(6, 16, 16, 2)\n"
     ]
    }
   ],
   "source": [
    "input_shape = (6, 32,32 , 3)\n",
    "x = tf.random.normal(input_shape)\n",
    "y = tf.keras.layers.Conv2D( 2, 3, strides=(2,2), activation='relu', padding=\"same\", input_shape=input_shape[1:])(x)\n",
    "print(y.shape)"
   ]
  },
  {
   "cell_type": "code",
   "execution_count": 14,
   "id": "32783b27",
   "metadata": {},
   "outputs": [
    {
     "name": "stdout",
     "output_type": "stream",
     "text": [
      "(4, 16, 16, 2)\n"
     ]
    }
   ],
   "source": [
    "input_shape = (4,32,32,3)\n",
    "x = tf.random.normal(input_shape)\n",
    "y = tf.keras.layers.Conv2D(2, 2, strides=(2,2), activation='relu', padding='valid' , input_shape=input_shape[1:])(x)\n",
    "print(y.shape)"
   ]
  },
  {
   "cell_type": "code",
   "execution_count": 15,
   "id": "02dfa46c",
   "metadata": {},
   "outputs": [
    {
     "name": "stdout",
     "output_type": "stream",
     "text": [
      "(6, 16, 16, 2)\n"
     ]
    }
   ],
   "source": [
    "input_shape = (6, 32,32 , 3)\n",
    "x = tf.random.normal(input_shape)\n",
    "y = tf.keras.layers.Conv2D( 2, 2, strides=(2,2), activation='relu', padding=\"same\", input_shape=input_shape[1:])(x)\n",
    "print(y.shape)"
   ]
  },
  {
   "cell_type": "code",
   "execution_count": 16,
   "id": "7599c2c3",
   "metadata": {},
   "outputs": [
    {
     "name": "stdout",
     "output_type": "stream",
     "text": [
      "(4, 11, 11, 2)\n"
     ]
    }
   ],
   "source": [
    "input_shape = (4,32,32,3)\n",
    "x = tf.random.normal(input_shape)\n",
    "y = tf.keras.layers.Conv2D(2, 2, strides=(3,3), activation='relu', padding='valid' , input_shape=input_shape[1:])(x)\n",
    "print(y.shape)"
   ]
  },
  {
   "cell_type": "markdown",
   "id": "c4cc095e",
   "metadata": {},
   "source": [
    "### --------------------------------- "
   ]
  },
  {
   "cell_type": "code",
   "execution_count": 17,
   "id": "e896f26f",
   "metadata": {},
   "outputs": [
    {
     "name": "stdout",
     "output_type": "stream",
     "text": [
      "(6, 11, 11, 2)\n"
     ]
    }
   ],
   "source": [
    "input_shape = (6, 32,32 , 3)\n",
    "x = tf.random.normal(input_shape)\n",
    "y = tf.keras.layers.Conv2D( 2, 2, strides=(3,3), activation='relu', padding=\"same\", input_shape=input_shape[1:])(x)\n",
    "print(y.shape)"
   ]
  },
  {
   "cell_type": "code",
   "execution_count": 18,
   "id": "bb413609",
   "metadata": {},
   "outputs": [
    {
     "name": "stdout",
     "output_type": "stream",
     "text": [
      "(6, 11, 11, 2)\n"
     ]
    }
   ],
   "source": [
    "input_shape = (6, 32,32 , 3)\n",
    "x = tf.random.normal(input_shape)\n",
    "y = tf.keras.layers.Conv2D( 2, 3, strides=(3,3), activation='relu', padding=\"same\", input_shape=input_shape[1:])(x)\n",
    "print(y.shape)"
   ]
  },
  {
   "cell_type": "code",
   "execution_count": 19,
   "id": "e1ea2509",
   "metadata": {},
   "outputs": [
    {
     "name": "stdout",
     "output_type": "stream",
     "text": [
      "(6, 10, 10, 2)\n"
     ]
    }
   ],
   "source": [
    "input_shape = (6, 37,37 , 3)\n",
    "x = tf.random.normal(input_shape)\n",
    "y = tf.keras.layers.Conv2D( 2, 5, strides=(4,4), activation='relu', padding=\"same\", input_shape=input_shape[1:])(x)\n",
    "print(y.shape)"
   ]
  }
 ],
 "metadata": {
  "kernelspec": {
   "display_name": "Python 3 (ipykernel)",
   "language": "python",
   "name": "python3"
  },
  "language_info": {
   "codemirror_mode": {
    "name": "ipython",
    "version": 3
   },
   "file_extension": ".py",
   "mimetype": "text/x-python",
   "name": "python",
   "nbconvert_exporter": "python",
   "pygments_lexer": "ipython3",
   "version": "3.8.16"
  }
 },
 "nbformat": 4,
 "nbformat_minor": 5
}
