{
 "cells": [
  {
   "cell_type": "markdown",
   "id": "b391ddde",
   "metadata": {},
   "source": [
    "## Entropy 1"
   ]
  },
  {
   "cell_type": "code",
   "execution_count": 1,
   "id": "9f7c311f",
   "metadata": {},
   "outputs": [],
   "source": [
    "import cv2\n",
    "import numpy as np"
   ]
  },
  {
   "cell_type": "code",
   "execution_count": 2,
   "id": "9966ee76",
   "metadata": {},
   "outputs": [],
   "source": [
    "image = cv2.imread('..\\\\31.jpg')\n",
    "# Print error message if image is null\n",
    "if image is None:\n",
    "    print('Could not read image')"
   ]
  },
  {
   "cell_type": "code",
   "execution_count": 3,
   "id": "e9a10c94",
   "metadata": {},
   "outputs": [
    {
     "name": "stdout",
     "output_type": "stream",
     "text": [
      "(512, 512)   =====-----=======  (512, 512)\n"
     ]
    }
   ],
   "source": [
    "'''generating 2 artificial images, a plain and a complete noise \n",
    " then we compute and compare the entropies. noise pixels are between 0 and 255'''\n",
    "\n",
    "plain = np.ones([512,512]) * 100\n",
    "noise = np.random.randint(256,size=[512,512])\n",
    "plain = np.uint8(plain)\n",
    "noise = np.uint8(noise)\n",
    "print(plain.shape,'  =====-----======= ',noise.shape)"
   ]
  },
  {
   "cell_type": "code",
   "execution_count": 4,
   "id": "656945f4",
   "metadata": {},
   "outputs": [
    {
     "name": "stdout",
     "output_type": "stream",
     "text": [
      "[     0      0      0      0      0      0      0      0      0      0\n",
      "      0      0      0      0      0      0      0      0      0      0\n",
      "      0      0      0      0      0      0      0      0      0      0\n",
      "      0      0      0      0      0      0      0      0      0      0\n",
      "      0      0      0      0      0      0      0      0      0      0\n",
      "      0      0      0      0      0      0      0      0      0      0\n",
      "      0      0      0      0      0      0      0      0      0      0\n",
      "      0      0      0      0      0      0      0      0      0      0\n",
      "      0      0      0      0      0      0      0      0      0      0\n",
      "      0      0      0      0      0      0      0      0      0      0\n",
      " 262144      0      0      0      0      0      0      0      0      0\n",
      "      0      0      0      0      0      0      0      0      0      0\n",
      "      0      0      0      0      0      0      0      0      0      0\n",
      "      0      0      0      0      0      0      0      0      0      0\n",
      "      0      0      0      0      0      0      0      0      0      0\n",
      "      0      0      0      0      0      0      0      0      0      0\n",
      "      0      0      0      0      0      0      0      0      0      0\n",
      "      0      0      0      0      0      0      0      0      0      0\n",
      "      0      0      0      0      0      0      0      0      0      0\n",
      "      0      0      0      0      0      0      0      0      0      0\n",
      "      0      0      0      0      0      0      0      0      0      0\n",
      "      0      0      0      0      0      0      0      0      0      0\n",
      "      0      0      0      0      0      0      0      0      0      0\n",
      "      0      0      0      0      0      0      0      0      0      0\n",
      "      0      0      0      0      0      0      0      0      0      0\n",
      "      0      0      0      0      0      0] \n",
      "=====-----=======\n",
      " [1013  961 1029 1014  986 1054 1032 1049 1005  983 1032 1001  976 1045\n",
      " 1061 1030 1030 1063 1028 1008  993 1032 1024 1010 1013 1034 1017  989\n",
      "  985 1026 1057 1041 1031 1074 1066 1083 1081 1007  999 1048 1022 1015\n",
      " 1023 1021 1068  970 1021  997  986 1004 1032 1024 1033 1088 1007  973\n",
      " 1009 1002 1081 1048 1072 1019 1006 1023  998 1038 1058 1052 1009 1043\n",
      " 1092 1015 1079 1051  994 1030  993 1067 1032 1082 1017  999 1051 1032\n",
      "  964 1083 1066 1111 1001 1019 1027 1055 1027 1048  983  992 1061 1019\n",
      "  988 1034 1008  981 1032 1068  997 1054  975 1031 1077  991 1035 1030\n",
      " 1036 1043 1040  994 1024 1033 1066 1001 1069  972 1048 1039 1100 1071\n",
      " 1059 1067  993 1084  953 1003  950 1012 1019 1039 1084 1037 1048 1059\n",
      " 1013 1000 1008  989 1001 1005  993 1071 1022 1019 1009 1035  980 1034\n",
      " 1010 1023 1013 1011 1029 1039 1003 1042 1043  949 1080 1036 1018 1039\n",
      " 1010 1013  958  988 1064 1039  959 1067 1015 1050 1080 1011 1012 1032\n",
      "  982  992  956 1008  961 1030 1059 1029 1045 1010 1012  991 1010 1112\n",
      "  997 1013 1066  999  978  977 1043 1061  969  992 1034 1036 1043  985\n",
      " 1051 1031 1046 1039 1023 1022 1026 1000 1035  976  994  945  974 1048\n",
      "  996 1044  977  976 1064 1069 1078 1036 1007  981 1028  988  963 1002\n",
      " 1067 1058 1028 1046 1038 1023  991 1094 1072 1028 1054 1005  965  973\n",
      "  982 1037 1068 1008]\n"
     ]
    }
   ],
   "source": [
    "# compute the histograms\n",
    "\n",
    "histp,binsp = np.histogram(plain.flatten(),256,[0,256])\n",
    "histn,binsn = np.histogram(noise.flatten(),256,[0,256])\n",
    "\n",
    "print(histp,'\\n=====-----=======\\n',histn)\n"
   ]
  },
  {
   "cell_type": "code",
   "execution_count": 5,
   "id": "45c5a42f",
   "metadata": {},
   "outputs": [
    {
     "name": "stdout",
     "output_type": "stream",
     "text": [
      "Plain image Entropy= -1.4426878274712997e-05 \t\tNoise image Entropy= 7.995534967644587\n"
     ]
    }
   ],
   "source": [
    "# to compute entropy we need the probability of occurrence of each color/graylevel in image, \n",
    "# so we divide the histogram bin height by number of pixels of the image\n",
    "# then we can compute the entropy\n",
    "# finally he entropy of plain and noise images will be printed out\n",
    "#\n",
    "histp = histp / 512 / 512\n",
    "histn = histn / 512 / 512\n",
    "entp = -np.sum( histp * np.log2(histp+0.00001))\n",
    "entn = -np.sum( histn * np.log2(histn+0.00001))\n",
    "print('Plain image Entropy=',entp,'\\t\\tNoise image Entropy=',entn)"
   ]
  },
  {
   "cell_type": "code",
   "execution_count": 6,
   "id": "5aeaef37",
   "metadata": {},
   "outputs": [
    {
     "data": {
      "text/plain": [
       "32"
      ]
     },
     "execution_count": 6,
     "metadata": {},
     "output_type": "execute_result"
    }
   ],
   "source": [
    "# showing the images\n",
    "cv2.namedWindow(\"plain\", cv2.WINDOW_NORMAL)\n",
    "cv2.imshow('plain', plain)\n",
    "cv2.namedWindow(\"noise\", cv2.WINDOW_NORMAL)\n",
    "cv2.imshow('noise', noise)\n",
    "cv2.waitKey()  \n"
   ]
  },
  {
   "cell_type": "code",
   "execution_count": 7,
   "id": "0888c6fe",
   "metadata": {},
   "outputs": [],
   "source": [
    "''' now we repeat that with a real/bnatural image\n",
    " histogram and entropy ould be computed and printed\n",
    "then we add Gaussian noises with increasing STD/power to the image and compute the \n",
    "entropy respectively. \n",
    "the noise STD is 10,20,50,80\n",
    "'''\n",
    "\n",
    "hist,bins = np.histogram(image.flatten(),256,[0,256])\n",
    "M = image.shape\n",
    "ssz = M[0]*M[1]*M[2] "
   ]
  },
  {
   "cell_type": "code",
   "execution_count": 8,
   "id": "b4e56b7e",
   "metadata": {},
   "outputs": [
    {
     "name": "stdout",
     "output_type": "stream",
     "text": [
      "original image Entropy= 5.626857363769677\n"
     ]
    }
   ],
   "source": [
    "hist = hist / ssz\n",
    "ent = -np.sum( hist * np.log2(hist+0.000001))\n",
    "print('original image Entropy=',ent)"
   ]
  },
  {
   "cell_type": "code",
   "execution_count": 9,
   "id": "55718562",
   "metadata": {},
   "outputs": [
    {
     "name": "stdout",
     "output_type": "stream",
     "text": [
      "noise STD= 0.1 \tnoisy image Entropy= 5.617932858247147\n",
      "noise STD= 2 \tnoisy image Entropy= 5.707030060597647\n",
      "noise STD= 5 \tnoisy image Entropy= 5.949477185333196\n",
      "noise STD= 10 \tnoisy image Entropy= 6.333674575484128\n",
      "noise STD= 20 \tnoisy image Entropy= 6.87773115247895\n",
      "noise STD= 50 \tnoisy image Entropy= 7.732219409929681\n",
      "noise STD= 80 \tnoisy image Entropy= 7.971960835748237\n",
      "noise STD= 90 \tnoisy image Entropy= 7.988040827799343\n",
      "noise STD= 120 \tnoisy image Entropy= 7.997832673624827\n"
     ]
    }
   ],
   "source": [
    "for ni in [0.1, 2, 5, 10, 20, 50, 80, 90, 120]:\n",
    "    noise= ni* np.random.randn(M[0],M[1],M[2])\n",
    "    nimg = image + noise\n",
    "    nimg = np.uint8(nimg)\n",
    "    hist,bins = np.histogram(nimg.flatten(),256,[0,256])\n",
    "    hist = hist / ssz\n",
    "    ent = -np.sum( hist * np.log2(hist+0.000001))\n",
    "    print('noise STD=',ni,'\\tnoisy image Entropy=',ent)"
   ]
  },
  {
   "cell_type": "code",
   "execution_count": 10,
   "id": "735a1c7d",
   "metadata": {},
   "outputs": [],
   "source": [
    "cv2.destroyAllWindows()"
   ]
  },
  {
   "cell_type": "code",
   "execution_count": null,
   "id": "c58c4ad7",
   "metadata": {},
   "outputs": [],
   "source": []
  }
 ],
 "metadata": {
  "kernelspec": {
   "display_name": "Python 3 (ipykernel)",
   "language": "python",
   "name": "python3"
  },
  "language_info": {
   "codemirror_mode": {
    "name": "ipython",
    "version": 3
   },
   "file_extension": ".py",
   "mimetype": "text/x-python",
   "name": "python",
   "nbconvert_exporter": "python",
   "pygments_lexer": "ipython3",
   "version": "3.8.16"
  }
 },
 "nbformat": 4,
 "nbformat_minor": 5
}
