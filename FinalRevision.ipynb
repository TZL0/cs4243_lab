{
 "cells": [
  {
   "cell_type": "code",
   "execution_count": 1,
   "outputs": [],
   "source": [
    "import numpy as np\n",
    "import matplotlib.pyplot as plt"
   ],
   "metadata": {
    "collapsed": false,
    "ExecuteTime": {
     "end_time": "2023-11-29T07:32:24.424199Z",
     "start_time": "2023-11-29T07:32:23.997189Z"
    }
   },
   "id": "a15fd7ea06dc6c38"
  },
  {
   "cell_type": "code",
   "execution_count": 96,
   "outputs": [],
   "source": [
    "\"\"\"\n",
    "img: The input grayscale image.\n",
    "GL: Number of gray levels.\n",
    "d: The distance between pixel pairs.\n",
    "t: The angle (in degrees) specifying the direction of pixel pairs.\n",
    "\"\"\"\n",
    "def am_glcm_faster( img , GL , d , t):\n",
    "    ccmm = np.zeros([GL, GL])\n",
    "    #Make sure it's not out of boundary\n",
    "    if t==0:\n",
    "        im_target = img[:,d:]\n",
    "        im_value = img[:,:-d]\n",
    "        \n",
    "    elif t==45:\n",
    "        im_target = img[d:,d:]\n",
    "        im_value = img[:-d, :-d]\n",
    "    elif t==90:\n",
    "        im_target = img[d:,:]\n",
    "        im_value = img[:-d, :]\n",
    "    elif t==135:\n",
    "        im_target = img[:-d, :-d]\n",
    "        im_value = img[d:,d:]\n",
    "    else:\n",
    "        raise NotImplementedError('t options: 0, 45, 90, 135 only')\n",
    "    assert im_target.shape==im_value.shape\n",
    "    ref_gls = np.unique(im_value)\n",
    "    # print(ref_gls)\n",
    "    for ref in ref_gls:\n",
    "        #ref: 80\n",
    "        target_values = im_target[im_value == ref]#select the position that have the specific value. Prepare for later's d and t\n",
    "        #target_values: [ 98,  89,  99, 100]\n",
    "        target_gls = np.unique(target_values)\n",
    "        #[ 89,  98,  99, 100]\n",
    "        for target in target_gls:\n",
    "               ccmm[ref, target] = (target_values==target).sum()\n",
    "    return ccmm\n",
    "\n",
    "import numpy as np\n",
    "\n",
    "def compute_glcm(input_matrix, d, theta):\n",
    "    \"\"\"\n",
    "    Compute the Gray Level Co-occurrence Matrix (GLCM) for an input matrix.\n",
    "    \n",
    "    :param input_matrix: 2D numpy array of the image\n",
    "    :param d: distance between pixel of interest and its neighbor\n",
    "    :param theta: angle between pixel of interest and its neighbor (in degrees)\n",
    "    :return: GLCM matrix\n",
    "    \"\"\"\n",
    "    rows, cols = input_matrix.shape\n",
    "    max_value = input_matrix.max() + 1  # Maximum intensity value in the matrix\n",
    "    glcm = np.zeros((max_value, max_value), dtype=int)\n",
    "\n",
    "    # Define the direction based on theta\n",
    "    if theta == 0:\n",
    "        dx, dy = d, 0\n",
    "    elif theta == 45:\n",
    "        dx, dy = d, -d\n",
    "    elif theta == 90:\n",
    "        dx, dy = 0, -d\n",
    "    elif theta == 135:\n",
    "        dx, dy = -d, -d\n",
    "    else:\n",
    "        raise ValueError(\"Theta should be 0, 45, 90, or 135 degrees\")\n",
    "\n",
    "    # Iterate over the matrix and fill the GLCM\n",
    "    for x in range(rows):\n",
    "        for y in range(cols):\n",
    "            if 0 <= x + dx < rows and 0 <= y + dy < cols:\n",
    "                row = input_matrix[x, y]\n",
    "                col = input_matrix[x + dx, y + dy]\n",
    "                glcm[row, col] += 1\n",
    "\n",
    "    return glcm\n"
   ],
   "metadata": {
    "collapsed": false,
    "ExecuteTime": {
     "end_time": "2023-11-29T10:23:00.181408Z",
     "start_time": "2023-11-29T10:23:00.163451Z"
    }
   },
   "id": "82e9ba29edb021cd"
  },
  {
   "cell_type": "code",
   "execution_count": 98,
   "id": "initial_id",
   "metadata": {
    "collapsed": true,
    "ExecuteTime": {
     "end_time": "2023-11-29T10:31:12.898337Z",
     "start_time": "2023-11-29T10:31:12.885024Z"
    }
   },
   "outputs": [
    {
     "name": "stdout",
     "output_type": "stream",
     "text": [
      "[[1. 0. 0. 2. 0. 0.]\n",
      " [0. 0. 0. 1. 0. 0.]\n",
      " [2. 0. 1. 1. 0. 0.]\n",
      " [2. 3. 1. 0. 0. 0.]\n",
      " [0. 0. 0. 2. 0. 0.]\n",
      " [0. 0. 0. 0. 0. 0.]]\n"
     ]
    }
   ],
   "source": [
    "matrix = np.array(\n",
    "    [[1,0,0,3,4],\n",
    "     [1,3,0,3,4],\n",
    "     [2,3,0,3,4],\n",
    "     [1,3,0,2,2],\n",
    "     [2,3,1,2,2]])\n",
    "print(am_glcm_faster(matrix, 6, 1, 135))"
   ]
  },
  {
   "cell_type": "markdown",
   "source": [],
   "metadata": {
    "collapsed": false
   },
   "id": "64169c5700336b4f"
  },
  {
   "cell_type": "code",
   "execution_count": 73,
   "outputs": [
    {
     "name": "stdout",
     "output_type": "stream",
     "text": [
      "[[0. 0.]\n",
      " [1. 3.]]\n"
     ]
    }
   ],
   "source": [
    "mat2 = np.array([[1, 1, 1],\n",
    "                 [1, 1, 1],\n",
    "                 [1, 1, 0]])\n",
    "print(am_glcm_faster(mat2, 2, 1, 45))"
   ],
   "metadata": {
    "collapsed": false,
    "ExecuteTime": {
     "end_time": "2023-11-29T09:06:00.840972Z",
     "start_time": "2023-11-29T09:06:00.823749Z"
    }
   },
   "id": "527ecc5aba75e71e"
  },
  {
   "cell_type": "code",
   "execution_count": 79,
   "outputs": [
    {
     "name": "stdout",
     "output_type": "stream",
     "text": [
      "[[3 1 0 1 0]\n",
      " [0 1 2 0 0]\n",
      " [0 1 2 0 0]\n",
      " [0 0 1 5 0]\n",
      " [0 0 1 0 2]]\n"
     ]
    }
   ],
   "source": [
    "print(compute_glcm(matrix, 1, 0))"
   ],
   "metadata": {
    "collapsed": false,
    "ExecuteTime": {
     "end_time": "2023-11-29T09:07:38.193346Z",
     "start_time": "2023-11-29T09:07:38.179267Z"
    }
   },
   "id": "b43093ca6d5cf2df"
  }
 ],
 "metadata": {
  "kernelspec": {
   "display_name": "Python 3",
   "language": "python",
   "name": "python3"
  },
  "language_info": {
   "codemirror_mode": {
    "name": "ipython",
    "version": 2
   },
   "file_extension": ".py",
   "mimetype": "text/x-python",
   "name": "python",
   "nbconvert_exporter": "python",
   "pygments_lexer": "ipython2",
   "version": "2.7.6"
  }
 },
 "nbformat": 4,
 "nbformat_minor": 5
}
